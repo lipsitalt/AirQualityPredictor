{
 "cells": [
  {
   "cell_type": "markdown",
   "metadata": {},
   "source": [
    "<h1><span style=\"color: #6495ED;\">Delhi Air Quality Forecasting</span></h1>\n",
    "\n",
    "<h2><span style=\"color: #6495ED;\">Predictive Analytics with Random Forest</span></h2>\n",
    "\n",
    "Prepared by Lipsita Tripathy\n",
    "\n",
    "January 2024"
   ]
  },
  {
   "cell_type": "markdown",
   "metadata": {},
   "source": [
    "## **Overview**\n",
    "This notebook delves into an extensive exploration and modeling endeavor using air quality data from Delhi, with a specific focus on employing Random Forest regression for predictive modeling. The dataset encompasses a diverse set of features, including meteorological conditions and pollutant concentrations.\n",
    "\n",
    "## **Approach**\n",
    "- **Data Loading and Overview:** The initial phase involves loading the dataset and gaining insights into its structure and contents.\n",
    "- **Random Forest Modeling:** The Random Forest algorithm is utilized for regression tasks, with an emphasis on tuning hyperparameters to achieve optimal performance.\n",
    "- **Evaluation and Interpretation:** Model performance is rigorously assessed using metrics such as R-squared, Mean Squared Error (MSE), and Percentage Mean Absolute Error (PMAE).\n",
    "- **Feature Importance Analysis:** The Random Forest model's inherent feature importance analysis is leveraged to gain insights into the factors influencing air quality predictions."
   ]
  },
  {
   "cell_type": "markdown",
   "metadata": {},
   "source": [
    "### Importing necessary libraries"
   ]
  },
  {
   "cell_type": "code",
   "execution_count": 32,
   "metadata": {},
   "outputs": [],
   "source": [
    "import numpy as np\n",
    "import pandas as pd\n",
    "import matplotlib.pyplot as plt\n",
    "import seaborn as sns\n",
    "from sklearn.preprocessing import StandardScaler\n",
    "from sklearn.ensemble import RandomForestRegressor\n",
    "from sklearn.metrics import mean_squared_error\n",
    "from sklearn.metrics import r2_score\n",
    "from sklearn.model_selection import TimeSeriesSplit, GridSearchCV"
   ]
  },
  {
   "cell_type": "markdown",
   "metadata": {},
   "source": [
    "Read the required CSV file into a DataFrame"
   ]
  },
  {
   "cell_type": "code",
   "execution_count": 33,
   "metadata": {},
   "outputs": [
    {
     "data": {
      "text/html": [
       "<div>\n",
       "<style scoped>\n",
       "    .dataframe tbody tr th:only-of-type {\n",
       "        vertical-align: middle;\n",
       "    }\n",
       "\n",
       "    .dataframe tbody tr th {\n",
       "        vertical-align: top;\n",
       "    }\n",
       "\n",
       "    .dataframe thead th {\n",
       "        text-align: right;\n",
       "    }\n",
       "</style>\n",
       "<table border=\"1\" class=\"dataframe\">\n",
       "  <thead>\n",
       "    <tr style=\"text-align: right;\">\n",
       "      <th></th>\n",
       "      <th>Datetime</th>\n",
       "      <th>AQI</th>\n",
       "      <th>PM2.5 (ug/m3)</th>\n",
       "      <th>PM10 (ug/m3)</th>\n",
       "      <th>NOx (ug/m3)</th>\n",
       "      <th>NH3 (ug/m3)</th>\n",
       "      <th>SO2 (ug/m3)</th>\n",
       "      <th>CO (ug/m3)</th>\n",
       "      <th>Ozone (ug/m3)</th>\n",
       "      <th>RH (%)</th>\n",
       "      <th>...</th>\n",
       "      <th>t_CO (ug/m3)</th>\n",
       "      <th>t_Ozone (ug/m3)</th>\n",
       "      <th>t_WS (m/s)</th>\n",
       "      <th>t_SR (W/mt2)</th>\n",
       "      <th>t_Volatility_Last_24hr</th>\n",
       "      <th>t_Volatility_Last_7d</th>\n",
       "      <th>t_Volatility_Last_30d</th>\n",
       "      <th>t_AQI_lag_24hr</th>\n",
       "      <th>t_AQI_lag_48hr</th>\n",
       "      <th>t_AQI_lag_168hr</th>\n",
       "    </tr>\n",
       "  </thead>\n",
       "  <tbody>\n",
       "    <tr>\n",
       "      <th>0</th>\n",
       "      <td>2013-01-01 00:00:00</td>\n",
       "      <td>354.0</td>\n",
       "      <td>290.774583</td>\n",
       "      <td>292.631667</td>\n",
       "      <td>117.224563</td>\n",
       "      <td>75.685556</td>\n",
       "      <td>9.992130</td>\n",
       "      <td>5.052250</td>\n",
       "      <td>13.794630</td>\n",
       "      <td>88.716778</td>\n",
       "      <td>...</td>\n",
       "      <td>1.800430</td>\n",
       "      <td>2.694264</td>\n",
       "      <td>0.314162</td>\n",
       "      <td>3.714195</td>\n",
       "      <td>2.230820</td>\n",
       "      <td>3.405326</td>\n",
       "      <td>4.138828</td>\n",
       "      <td>5.831882</td>\n",
       "      <td>5.961005</td>\n",
       "      <td>6.075346</td>\n",
       "    </tr>\n",
       "    <tr>\n",
       "      <th>1</th>\n",
       "      <td>2013-01-01 01:00:00</td>\n",
       "      <td>358.0</td>\n",
       "      <td>275.749821</td>\n",
       "      <td>296.150000</td>\n",
       "      <td>88.122976</td>\n",
       "      <td>66.740556</td>\n",
       "      <td>9.477546</td>\n",
       "      <td>7.665310</td>\n",
       "      <td>9.977963</td>\n",
       "      <td>89.612778</td>\n",
       "      <td>...</td>\n",
       "      <td>2.159328</td>\n",
       "      <td>2.395890</td>\n",
       "      <td>0.330103</td>\n",
       "      <td>3.673794</td>\n",
       "      <td>2.353812</td>\n",
       "      <td>3.397713</td>\n",
       "      <td>4.138876</td>\n",
       "      <td>5.823046</td>\n",
       "      <td>5.966147</td>\n",
       "      <td>6.073045</td>\n",
       "    </tr>\n",
       "    <tr>\n",
       "      <th>2</th>\n",
       "      <td>2013-01-01 02:00:00</td>\n",
       "      <td>362.0</td>\n",
       "      <td>271.463472</td>\n",
       "      <td>309.030000</td>\n",
       "      <td>61.464690</td>\n",
       "      <td>57.030556</td>\n",
       "      <td>9.207963</td>\n",
       "      <td>10.777421</td>\n",
       "      <td>7.316574</td>\n",
       "      <td>91.010556</td>\n",
       "      <td>...</td>\n",
       "      <td>2.466184</td>\n",
       "      <td>2.118250</td>\n",
       "      <td>0.329304</td>\n",
       "      <td>3.455326</td>\n",
       "      <td>2.475083</td>\n",
       "      <td>3.389909</td>\n",
       "      <td>4.138987</td>\n",
       "      <td>5.814131</td>\n",
       "      <td>5.971262</td>\n",
       "      <td>6.068426</td>\n",
       "    </tr>\n",
       "    <tr>\n",
       "      <th>3</th>\n",
       "      <td>2013-01-01 03:00:00</td>\n",
       "      <td>367.0</td>\n",
       "      <td>279.071667</td>\n",
       "      <td>317.826667</td>\n",
       "      <td>47.583524</td>\n",
       "      <td>43.298333</td>\n",
       "      <td>10.871667</td>\n",
       "      <td>11.793810</td>\n",
       "      <td>7.910146</td>\n",
       "      <td>91.930000</td>\n",
       "      <td>...</td>\n",
       "      <td>2.548961</td>\n",
       "      <td>2.187191</td>\n",
       "      <td>0.326422</td>\n",
       "      <td>3.079282</td>\n",
       "      <td>2.592957</td>\n",
       "      <td>3.382300</td>\n",
       "      <td>4.139163</td>\n",
       "      <td>5.805135</td>\n",
       "      <td>5.973810</td>\n",
       "      <td>6.061457</td>\n",
       "    </tr>\n",
       "    <tr>\n",
       "      <th>4</th>\n",
       "      <td>2013-01-01 04:00:00</td>\n",
       "      <td>370.0</td>\n",
       "      <td>269.118333</td>\n",
       "      <td>308.521667</td>\n",
       "      <td>43.535333</td>\n",
       "      <td>32.023333</td>\n",
       "      <td>11.020833</td>\n",
       "      <td>10.027778</td>\n",
       "      <td>9.348849</td>\n",
       "      <td>92.335556</td>\n",
       "      <td>...</td>\n",
       "      <td>2.400417</td>\n",
       "      <td>2.336875</td>\n",
       "      <td>0.379197</td>\n",
       "      <td>2.525195</td>\n",
       "      <td>2.692013</td>\n",
       "      <td>3.374865</td>\n",
       "      <td>4.139385</td>\n",
       "      <td>5.802118</td>\n",
       "      <td>5.971262</td>\n",
       "      <td>6.056784</td>\n",
       "    </tr>\n",
       "  </tbody>\n",
       "</table>\n",
       "<p>5 rows × 45 columns</p>\n",
       "</div>"
      ],
      "text/plain": [
       "              Datetime    AQI  PM2.5 (ug/m3)  PM10 (ug/m3)  NOx (ug/m3)  \\\n",
       "0  2013-01-01 00:00:00  354.0     290.774583    292.631667   117.224563   \n",
       "1  2013-01-01 01:00:00  358.0     275.749821    296.150000    88.122976   \n",
       "2  2013-01-01 02:00:00  362.0     271.463472    309.030000    61.464690   \n",
       "3  2013-01-01 03:00:00  367.0     279.071667    317.826667    47.583524   \n",
       "4  2013-01-01 04:00:00  370.0     269.118333    308.521667    43.535333   \n",
       "\n",
       "   NH3 (ug/m3)  SO2 (ug/m3)  CO (ug/m3)  Ozone (ug/m3)     RH (%)  ...  \\\n",
       "0    75.685556     9.992130    5.052250      13.794630  88.716778  ...   \n",
       "1    66.740556     9.477546    7.665310       9.977963  89.612778  ...   \n",
       "2    57.030556     9.207963   10.777421       7.316574  91.010556  ...   \n",
       "3    43.298333    10.871667   11.793810       7.910146  91.930000  ...   \n",
       "4    32.023333    11.020833   10.027778       9.348849  92.335556  ...   \n",
       "\n",
       "   t_CO (ug/m3)  t_Ozone (ug/m3)  t_WS (m/s)  t_SR (W/mt2)  \\\n",
       "0      1.800430         2.694264    0.314162      3.714195   \n",
       "1      2.159328         2.395890    0.330103      3.673794   \n",
       "2      2.466184         2.118250    0.329304      3.455326   \n",
       "3      2.548961         2.187191    0.326422      3.079282   \n",
       "4      2.400417         2.336875    0.379197      2.525195   \n",
       "\n",
       "   t_Volatility_Last_24hr  t_Volatility_Last_7d  t_Volatility_Last_30d  \\\n",
       "0                2.230820              3.405326               4.138828   \n",
       "1                2.353812              3.397713               4.138876   \n",
       "2                2.475083              3.389909               4.138987   \n",
       "3                2.592957              3.382300               4.139163   \n",
       "4                2.692013              3.374865               4.139385   \n",
       "\n",
       "   t_AQI_lag_24hr  t_AQI_lag_48hr  t_AQI_lag_168hr  \n",
       "0        5.831882        5.961005         6.075346  \n",
       "1        5.823046        5.966147         6.073045  \n",
       "2        5.814131        5.971262         6.068426  \n",
       "3        5.805135        5.973810         6.061457  \n",
       "4        5.802118        5.971262         6.056784  \n",
       "\n",
       "[5 rows x 45 columns]"
      ]
     },
     "execution_count": 33,
     "metadata": {},
     "output_type": "execute_result"
    }
   ],
   "source": [
    "df = pd.read_csv('data/generated/Delhi_AQI_final_df_before_modeling.csv')\n",
    "df.head()"
   ]
  },
  {
   "cell_type": "markdown",
   "metadata": {},
   "source": [
    "### Datetime Indexing\n",
    "\n",
    "To enhance temporal analysis, the 'Datetime' column has been converted to a datetime format using `pd.to_datetime()`. Subsequently, the DataFrame index has been set to the 'Datetime' column, allowing for chronological data indexing."
   ]
  },
  {
   "cell_type": "code",
   "execution_count": 34,
   "metadata": {},
   "outputs": [],
   "source": [
    "df['Datetime'] = pd.to_datetime(df['Datetime'])\n",
    "\n",
    "df.set_index('Datetime', inplace=True)"
   ]
  },
  {
   "cell_type": "markdown",
   "metadata": {},
   "source": [
    "### Feature Selection\n",
    "\n",
    "Columns unnecessary for modeling, such as 'Datetime,' 'y_AQI' (target variable), 'AQI_Category,' and non-log-transformed original features, are removed to focus on relevant input features."
   ]
  },
  {
   "cell_type": "code",
   "execution_count": 35,
   "metadata": {},
   "outputs": [],
   "source": [
    "# Removing the columns that we don't need\n",
    "X_columns = df.drop(['Year', 'y_AQI', 'AQI_Category',\n",
    "                     'PM2.5 (ug/m3)', 'PM10 (ug/m3)', 'NOx (ug/m3)', 'NH3 (ug/m3)', 'SO2 (ug/m3)',\n",
    "                     'CO (ug/m3)', 'Ozone (ug/m3)', 'WS (m/s)', 'SR (W/mt2)',\n",
    "                     'Volatility_Last_24hr', 'Volatility_Last_7d', 'Volatility_Last_30d'], axis=1).columns.tolist()\n",
    "\n",
    "# Selecting the features (X) and the target variable (y)\n",
    "X = df[X_columns]\n",
    "y = df['y_AQI']  "
   ]
  },
  {
   "cell_type": "markdown",
   "metadata": {},
   "source": [
    "Making sure the features and target are in right shape(same number of rows)"
   ]
  },
  {
   "cell_type": "code",
   "execution_count": 36,
   "metadata": {},
   "outputs": [
    {
     "name": "stdout",
     "output_type": "stream",
     "text": [
      "Shape of X: (89784, 29)\n",
      "Shape of y: (89784,)\n"
     ]
    }
   ],
   "source": [
    "print(\"Shape of X:\", X.shape)\n",
    "print(\"Shape of y:\", y.shape)"
   ]
  },
  {
   "cell_type": "markdown",
   "metadata": {},
   "source": [
    "### Data Splitting for Modeling\n",
    "\n",
    "The dataset is split into training and testing sets to facilitate model training and evaluation. The training set includes data up to August 2022, while the test set comprises data from September 2022 onwards."
   ]
  },
  {
   "cell_type": "code",
   "execution_count": 37,
   "metadata": {},
   "outputs": [],
   "source": [
    "# Assuming df is your DataFrame with a datetime index and the necessary columns\n",
    "\n",
    "# Splitting the data into train and test sets\n",
    "split_date = '2022-03-01'\n",
    "\n",
    "# Training set\n",
    "X_train = X[X.index < split_date]\n",
    "y_train = y[y.index < split_date]\n",
    "\n",
    "# Testing set\n",
    "X_test = X[X.index >= split_date]\n",
    "y_test = y[y.index >= split_date]"
   ]
  },
  {
   "cell_type": "markdown",
   "metadata": {},
   "source": [
    "### Feature Scaling with Standard Scaler\n",
    "\n",
    "To maintain consistent scaling across features, the Standard Scaler is applied. It is initialized and fitted on the training data, and both the training and testing data are transformed accordingly."
   ]
  },
  {
   "cell_type": "code",
   "execution_count": 38,
   "metadata": {},
   "outputs": [],
   "source": [
    "# Standardize features\n",
    "scaler = StandardScaler()\n",
    "\n",
    "# Fit and transform the scaler on the training data\n",
    "X_train_scaled = scaler.fit_transform(X_train)\n",
    "\n",
    "# Transform the test data using the same scaler\n",
    "X_test_scaled = scaler.transform(X_test)"
   ]
  },
  {
   "cell_type": "markdown",
   "metadata": {},
   "source": [
    "### Instantiate and Fit the Random Forest Regression Model\n",
    "\n",
    "To model complex relationships, a Random Forest regression model has been initialized with 100 estimators and a random state of 42. The model is trained using scaled training data (X_train_scaled) and corresponding target values (y_train)."
   ]
  },
  {
   "cell_type": "code",
   "execution_count": 39,
   "metadata": {},
   "outputs": [
    {
     "data": {
      "text/html": [
       "<style>#sk-container-id-3 {color: black;}#sk-container-id-3 pre{padding: 0;}#sk-container-id-3 div.sk-toggleable {background-color: white;}#sk-container-id-3 label.sk-toggleable__label {cursor: pointer;display: block;width: 100%;margin-bottom: 0;padding: 0.3em;box-sizing: border-box;text-align: center;}#sk-container-id-3 label.sk-toggleable__label-arrow:before {content: \"▸\";float: left;margin-right: 0.25em;color: #696969;}#sk-container-id-3 label.sk-toggleable__label-arrow:hover:before {color: black;}#sk-container-id-3 div.sk-estimator:hover label.sk-toggleable__label-arrow:before {color: black;}#sk-container-id-3 div.sk-toggleable__content {max-height: 0;max-width: 0;overflow: hidden;text-align: left;background-color: #f0f8ff;}#sk-container-id-3 div.sk-toggleable__content pre {margin: 0.2em;color: black;border-radius: 0.25em;background-color: #f0f8ff;}#sk-container-id-3 input.sk-toggleable__control:checked~div.sk-toggleable__content {max-height: 200px;max-width: 100%;overflow: auto;}#sk-container-id-3 input.sk-toggleable__control:checked~label.sk-toggleable__label-arrow:before {content: \"▾\";}#sk-container-id-3 div.sk-estimator input.sk-toggleable__control:checked~label.sk-toggleable__label {background-color: #d4ebff;}#sk-container-id-3 div.sk-label input.sk-toggleable__control:checked~label.sk-toggleable__label {background-color: #d4ebff;}#sk-container-id-3 input.sk-hidden--visually {border: 0;clip: rect(1px 1px 1px 1px);clip: rect(1px, 1px, 1px, 1px);height: 1px;margin: -1px;overflow: hidden;padding: 0;position: absolute;width: 1px;}#sk-container-id-3 div.sk-estimator {font-family: monospace;background-color: #f0f8ff;border: 1px dotted black;border-radius: 0.25em;box-sizing: border-box;margin-bottom: 0.5em;}#sk-container-id-3 div.sk-estimator:hover {background-color: #d4ebff;}#sk-container-id-3 div.sk-parallel-item::after {content: \"\";width: 100%;border-bottom: 1px solid gray;flex-grow: 1;}#sk-container-id-3 div.sk-label:hover label.sk-toggleable__label {background-color: #d4ebff;}#sk-container-id-3 div.sk-serial::before {content: \"\";position: absolute;border-left: 1px solid gray;box-sizing: border-box;top: 0;bottom: 0;left: 50%;z-index: 0;}#sk-container-id-3 div.sk-serial {display: flex;flex-direction: column;align-items: center;background-color: white;padding-right: 0.2em;padding-left: 0.2em;position: relative;}#sk-container-id-3 div.sk-item {position: relative;z-index: 1;}#sk-container-id-3 div.sk-parallel {display: flex;align-items: stretch;justify-content: center;background-color: white;position: relative;}#sk-container-id-3 div.sk-item::before, #sk-container-id-3 div.sk-parallel-item::before {content: \"\";position: absolute;border-left: 1px solid gray;box-sizing: border-box;top: 0;bottom: 0;left: 50%;z-index: -1;}#sk-container-id-3 div.sk-parallel-item {display: flex;flex-direction: column;z-index: 1;position: relative;background-color: white;}#sk-container-id-3 div.sk-parallel-item:first-child::after {align-self: flex-end;width: 50%;}#sk-container-id-3 div.sk-parallel-item:last-child::after {align-self: flex-start;width: 50%;}#sk-container-id-3 div.sk-parallel-item:only-child::after {width: 0;}#sk-container-id-3 div.sk-dashed-wrapped {border: 1px dashed gray;margin: 0 0.4em 0.5em 0.4em;box-sizing: border-box;padding-bottom: 0.4em;background-color: white;}#sk-container-id-3 div.sk-label label {font-family: monospace;font-weight: bold;display: inline-block;line-height: 1.2em;}#sk-container-id-3 div.sk-label-container {text-align: center;}#sk-container-id-3 div.sk-container {/* jupyter's `normalize.less` sets `[hidden] { display: none; }` but bootstrap.min.css set `[hidden] { display: none !important; }` so we also need the `!important` here to be able to override the default hidden behavior on the sphinx rendered scikit-learn.org. See: https://github.com/scikit-learn/scikit-learn/issues/21755 */display: inline-block !important;position: relative;}#sk-container-id-3 div.sk-text-repr-fallback {display: none;}</style><div id=\"sk-container-id-3\" class=\"sk-top-container\"><div class=\"sk-text-repr-fallback\"><pre>RandomForestRegressor(random_state=42)</pre><b>In a Jupyter environment, please rerun this cell to show the HTML representation or trust the notebook. <br />On GitHub, the HTML representation is unable to render, please try loading this page with nbviewer.org.</b></div><div class=\"sk-container\" hidden><div class=\"sk-item\"><div class=\"sk-estimator sk-toggleable\"><input class=\"sk-toggleable__control sk-hidden--visually\" id=\"sk-estimator-id-3\" type=\"checkbox\" checked><label for=\"sk-estimator-id-3\" class=\"sk-toggleable__label sk-toggleable__label-arrow\">RandomForestRegressor</label><div class=\"sk-toggleable__content\"><pre>RandomForestRegressor(random_state=42)</pre></div></div></div></div></div>"
      ],
      "text/plain": [
       "RandomForestRegressor(random_state=42)"
      ]
     },
     "execution_count": 39,
     "metadata": {},
     "output_type": "execute_result"
    }
   ],
   "source": [
    "# Initialize the Random Forest model\n",
    "rf_model = RandomForestRegressor(n_estimators=100, random_state=42)\n",
    "\n",
    "# Train the model\n",
    "rf_model.fit(X_train_scaled, y_train)"
   ]
  },
  {
   "cell_type": "markdown",
   "metadata": {},
   "source": [
    "### Predictions with Random Forest Model\n",
    "\n",
    "Utilizing the trained Random Forest model, predictions have been made on the scaled test data (X_test_scaled)."
   ]
  },
  {
   "cell_type": "code",
   "execution_count": 44,
   "metadata": {},
   "outputs": [],
   "source": [
    "# Make predictions on the scaled test data\n",
    "predictions_scaled = rf_model.predict(X_test_scaled)"
   ]
  },
  {
   "cell_type": "markdown",
   "metadata": {},
   "source": [
    "## Model Performance Evaluation\n",
    "\n",
    "Assessing the performance of the Random Forest model, the Mean Squared Error (MSE) is calculated using the scaled test data. The resulting MSE provides insights into the accuracy and precision of the model predictions."
   ]
  },
  {
   "cell_type": "code",
   "execution_count": 45,
   "metadata": {},
   "outputs": [
    {
     "name": "stdout",
     "output_type": "stream",
     "text": [
      "Mean Squared Error with Scaling: 2181.354008432492\n"
     ]
    }
   ],
   "source": [
    "# Evaluate performance\n",
    "mse_scaled = mean_squared_error(y_test, predictions_scaled)\n",
    "print(f'Mean Squared Error with Scaling: {mse_scaled}')"
   ]
  },
  {
   "cell_type": "markdown",
   "metadata": {},
   "source": [
    "### R-squared (R2)\n",
    "\n",
    "R-squared (R2) is a metric that quantifies the proportion of the variance in the dependent variable (target) that is explained by the independent variables (features). It ranges from 0 to 1, where a higher value indicates a better fit of the model to the data."
   ]
  },
  {
   "cell_type": "code",
   "execution_count": 46,
   "metadata": {},
   "outputs": [
    {
     "name": "stdout",
     "output_type": "stream",
     "text": [
      "R-squared: 0.8044296141712062\n"
     ]
    }
   ],
   "source": [
    "# Assuming predictions and true values are already defined\n",
    "r2 = r2_score(y_test, predictions_scaled)\n",
    "print(f'R-squared: {r2}')"
   ]
  },
  {
   "cell_type": "markdown",
   "metadata": {},
   "source": [
    "### Percentage Mean Absolute Error (PMAE)\n",
    "\n",
    "The Percentage Mean Absolute Error (PMAE) is computed by taking the absolute percentage errors between the observed and predicted values, averaging them, and expressing the result as a percentage. This metric provides insights into the average magnitude of errors relative to the actual values."
   ]
  },
  {
   "cell_type": "code",
   "execution_count": 47,
   "metadata": {},
   "outputs": [
    {
     "name": "stdout",
     "output_type": "stream",
     "text": [
      "PMAE: 20.24%\n"
     ]
    }
   ],
   "source": [
    "# Define a function to calculate Percentage Mean Absolute Error (PMAE)\n",
    "def calculate_pmae(actual, predicted):\n",
    "    absolute_percentage_errors = np.abs((actual - predicted) / actual)\n",
    "    pmae = np.mean(absolute_percentage_errors) * 100\n",
    "    return pmae\n",
    "\n",
    "# Calculate PMAE\n",
    "pmae = calculate_pmae(y_test, predictions_scaled)\n",
    "\n",
    "# Print the result\n",
    "print(f'PMAE: {pmae:.2f}%')"
   ]
  },
  {
   "cell_type": "markdown",
   "metadata": {},
   "source": [
    "### Random Forest Model Optimization and Evaluation\n",
    "\n",
    "The Random Forest model is fine-tuned using a grid search with cross-validation, focusing on hyperparameters such as 'n_estimators', 'max_depth', 'min_samples_split', and 'min_samples_leaf'. Mean Squared Error serves as the key metric for evaluation during the tuning process.\n",
    "\n",
    "- **Best Hyperparameters:** {best_params}\n",
    "- **Test Set Performance:**\n",
    "  - **Mean Squared Error:** {mse}\n",
    "  - **R-squared:** {r2}"
   ]
  },
  {
   "cell_type": "code",
   "execution_count": 49,
   "metadata": {},
   "outputs": [
    {
     "name": "stdout",
     "output_type": "stream",
     "text": [
      "Fitting 5 folds for each of 81 candidates, totalling 405 fits\n"
     ]
    },
    {
     "name": "stderr",
     "output_type": "stream",
     "text": [
      "/Library/Frameworks/Python.framework/Versions/3.12/lib/python3.12/site-packages/joblib/externals/loky/process_executor.py:752: UserWarning:\n",
      "\n",
      "A worker stopped while some jobs were given to the executor. This can be caused by a too short worker timeout or by a memory leak.\n",
      "\n"
     ]
    },
    {
     "data": {
      "text/html": [
       "<style>#sk-container-id-4 {color: black;}#sk-container-id-4 pre{padding: 0;}#sk-container-id-4 div.sk-toggleable {background-color: white;}#sk-container-id-4 label.sk-toggleable__label {cursor: pointer;display: block;width: 100%;margin-bottom: 0;padding: 0.3em;box-sizing: border-box;text-align: center;}#sk-container-id-4 label.sk-toggleable__label-arrow:before {content: \"▸\";float: left;margin-right: 0.25em;color: #696969;}#sk-container-id-4 label.sk-toggleable__label-arrow:hover:before {color: black;}#sk-container-id-4 div.sk-estimator:hover label.sk-toggleable__label-arrow:before {color: black;}#sk-container-id-4 div.sk-toggleable__content {max-height: 0;max-width: 0;overflow: hidden;text-align: left;background-color: #f0f8ff;}#sk-container-id-4 div.sk-toggleable__content pre {margin: 0.2em;color: black;border-radius: 0.25em;background-color: #f0f8ff;}#sk-container-id-4 input.sk-toggleable__control:checked~div.sk-toggleable__content {max-height: 200px;max-width: 100%;overflow: auto;}#sk-container-id-4 input.sk-toggleable__control:checked~label.sk-toggleable__label-arrow:before {content: \"▾\";}#sk-container-id-4 div.sk-estimator input.sk-toggleable__control:checked~label.sk-toggleable__label {background-color: #d4ebff;}#sk-container-id-4 div.sk-label input.sk-toggleable__control:checked~label.sk-toggleable__label {background-color: #d4ebff;}#sk-container-id-4 input.sk-hidden--visually {border: 0;clip: rect(1px 1px 1px 1px);clip: rect(1px, 1px, 1px, 1px);height: 1px;margin: -1px;overflow: hidden;padding: 0;position: absolute;width: 1px;}#sk-container-id-4 div.sk-estimator {font-family: monospace;background-color: #f0f8ff;border: 1px dotted black;border-radius: 0.25em;box-sizing: border-box;margin-bottom: 0.5em;}#sk-container-id-4 div.sk-estimator:hover {background-color: #d4ebff;}#sk-container-id-4 div.sk-parallel-item::after {content: \"\";width: 100%;border-bottom: 1px solid gray;flex-grow: 1;}#sk-container-id-4 div.sk-label:hover label.sk-toggleable__label {background-color: #d4ebff;}#sk-container-id-4 div.sk-serial::before {content: \"\";position: absolute;border-left: 1px solid gray;box-sizing: border-box;top: 0;bottom: 0;left: 50%;z-index: 0;}#sk-container-id-4 div.sk-serial {display: flex;flex-direction: column;align-items: center;background-color: white;padding-right: 0.2em;padding-left: 0.2em;position: relative;}#sk-container-id-4 div.sk-item {position: relative;z-index: 1;}#sk-container-id-4 div.sk-parallel {display: flex;align-items: stretch;justify-content: center;background-color: white;position: relative;}#sk-container-id-4 div.sk-item::before, #sk-container-id-4 div.sk-parallel-item::before {content: \"\";position: absolute;border-left: 1px solid gray;box-sizing: border-box;top: 0;bottom: 0;left: 50%;z-index: -1;}#sk-container-id-4 div.sk-parallel-item {display: flex;flex-direction: column;z-index: 1;position: relative;background-color: white;}#sk-container-id-4 div.sk-parallel-item:first-child::after {align-self: flex-end;width: 50%;}#sk-container-id-4 div.sk-parallel-item:last-child::after {align-self: flex-start;width: 50%;}#sk-container-id-4 div.sk-parallel-item:only-child::after {width: 0;}#sk-container-id-4 div.sk-dashed-wrapped {border: 1px dashed gray;margin: 0 0.4em 0.5em 0.4em;box-sizing: border-box;padding-bottom: 0.4em;background-color: white;}#sk-container-id-4 div.sk-label label {font-family: monospace;font-weight: bold;display: inline-block;line-height: 1.2em;}#sk-container-id-4 div.sk-label-container {text-align: center;}#sk-container-id-4 div.sk-container {/* jupyter's `normalize.less` sets `[hidden] { display: none; }` but bootstrap.min.css set `[hidden] { display: none !important; }` so we also need the `!important` here to be able to override the default hidden behavior on the sphinx rendered scikit-learn.org. See: https://github.com/scikit-learn/scikit-learn/issues/21755 */display: inline-block !important;position: relative;}#sk-container-id-4 div.sk-text-repr-fallback {display: none;}</style><div id=\"sk-container-id-4\" class=\"sk-top-container\"><div class=\"sk-text-repr-fallback\"><pre>GridSearchCV(cv=TimeSeriesSplit(gap=0, max_train_size=None, n_splits=5, test_size=None),\n",
       "             estimator=RandomForestRegressor(random_state=42), n_jobs=-1,\n",
       "             param_grid={&#x27;max_depth&#x27;: [10, 15, 20],\n",
       "                         &#x27;min_samples_leaf&#x27;: [1, 2, 4],\n",
       "                         &#x27;min_samples_split&#x27;: [2, 5, 10],\n",
       "                         &#x27;n_estimators&#x27;: [50, 100, 200]},\n",
       "             scoring=make_scorer(mean_squared_error, greater_is_better=False),\n",
       "             verbose=1)</pre><b>In a Jupyter environment, please rerun this cell to show the HTML representation or trust the notebook. <br />On GitHub, the HTML representation is unable to render, please try loading this page with nbviewer.org.</b></div><div class=\"sk-container\" hidden><div class=\"sk-item sk-dashed-wrapped\"><div class=\"sk-label-container\"><div class=\"sk-label sk-toggleable\"><input class=\"sk-toggleable__control sk-hidden--visually\" id=\"sk-estimator-id-4\" type=\"checkbox\" ><label for=\"sk-estimator-id-4\" class=\"sk-toggleable__label sk-toggleable__label-arrow\">GridSearchCV</label><div class=\"sk-toggleable__content\"><pre>GridSearchCV(cv=TimeSeriesSplit(gap=0, max_train_size=None, n_splits=5, test_size=None),\n",
       "             estimator=RandomForestRegressor(random_state=42), n_jobs=-1,\n",
       "             param_grid={&#x27;max_depth&#x27;: [10, 15, 20],\n",
       "                         &#x27;min_samples_leaf&#x27;: [1, 2, 4],\n",
       "                         &#x27;min_samples_split&#x27;: [2, 5, 10],\n",
       "                         &#x27;n_estimators&#x27;: [50, 100, 200]},\n",
       "             scoring=make_scorer(mean_squared_error, greater_is_better=False),\n",
       "             verbose=1)</pre></div></div></div><div class=\"sk-parallel\"><div class=\"sk-parallel-item\"><div class=\"sk-item\"><div class=\"sk-label-container\"><div class=\"sk-label sk-toggleable\"><input class=\"sk-toggleable__control sk-hidden--visually\" id=\"sk-estimator-id-5\" type=\"checkbox\" ><label for=\"sk-estimator-id-5\" class=\"sk-toggleable__label sk-toggleable__label-arrow\">estimator: RandomForestRegressor</label><div class=\"sk-toggleable__content\"><pre>RandomForestRegressor(random_state=42)</pre></div></div></div><div class=\"sk-serial\"><div class=\"sk-item\"><div class=\"sk-estimator sk-toggleable\"><input class=\"sk-toggleable__control sk-hidden--visually\" id=\"sk-estimator-id-6\" type=\"checkbox\" ><label for=\"sk-estimator-id-6\" class=\"sk-toggleable__label sk-toggleable__label-arrow\">RandomForestRegressor</label><div class=\"sk-toggleable__content\"><pre>RandomForestRegressor(random_state=42)</pre></div></div></div></div></div></div></div></div></div></div>"
      ],
      "text/plain": [
       "GridSearchCV(cv=TimeSeriesSplit(gap=0, max_train_size=None, n_splits=5, test_size=None),\n",
       "             estimator=RandomForestRegressor(random_state=42), n_jobs=-1,\n",
       "             param_grid={'max_depth': [10, 15, 20],\n",
       "                         'min_samples_leaf': [1, 2, 4],\n",
       "                         'min_samples_split': [2, 5, 10],\n",
       "                         'n_estimators': [50, 100, 200]},\n",
       "             scoring=make_scorer(mean_squared_error, greater_is_better=False),\n",
       "             verbose=1)"
      ]
     },
     "execution_count": 49,
     "metadata": {},
     "output_type": "execute_result"
    }
   ],
   "source": [
    "# Define the hyperparameters and their possible values\n",
    "param_grid = {\n",
    "    'n_estimators': [50, 100, 200],\n",
    "    'max_depth': [10, 15, 20],\n",
    "    'min_samples_split': [2, 5, 10],\n",
    "    'min_samples_leaf': [1, 2, 4]\n",
    "}\n",
    "\n",
    "# Use Mean Squared Error as the evaluation metric for tuning\n",
    "scorer = make_scorer(mean_squared_error, greater_is_better=False)\n",
    "\n",
    "# Initialize Time Series Cross-Validator (tscv)\n",
    "tscv = TimeSeriesSplit(n_splits=5)\n",
    "\n",
    "# Initialize GridSearchCV with tscv\n",
    "grid_search = GridSearchCV(\n",
    "    rf_model, param_grid, scoring=scorer, cv=tscv, verbose=1, n_jobs=-1\n",
    ")\n",
    "\n",
    "# Perform the grid search\n",
    "grid_search.fit(X_train_scaled, y_train)\n"
   ]
  },
  {
   "cell_type": "code",
   "execution_count": 50,
   "metadata": {},
   "outputs": [
    {
     "data": {
      "text/html": [
       "<style>#sk-container-id-5 {color: black;}#sk-container-id-5 pre{padding: 0;}#sk-container-id-5 div.sk-toggleable {background-color: white;}#sk-container-id-5 label.sk-toggleable__label {cursor: pointer;display: block;width: 100%;margin-bottom: 0;padding: 0.3em;box-sizing: border-box;text-align: center;}#sk-container-id-5 label.sk-toggleable__label-arrow:before {content: \"▸\";float: left;margin-right: 0.25em;color: #696969;}#sk-container-id-5 label.sk-toggleable__label-arrow:hover:before {color: black;}#sk-container-id-5 div.sk-estimator:hover label.sk-toggleable__label-arrow:before {color: black;}#sk-container-id-5 div.sk-toggleable__content {max-height: 0;max-width: 0;overflow: hidden;text-align: left;background-color: #f0f8ff;}#sk-container-id-5 div.sk-toggleable__content pre {margin: 0.2em;color: black;border-radius: 0.25em;background-color: #f0f8ff;}#sk-container-id-5 input.sk-toggleable__control:checked~div.sk-toggleable__content {max-height: 200px;max-width: 100%;overflow: auto;}#sk-container-id-5 input.sk-toggleable__control:checked~label.sk-toggleable__label-arrow:before {content: \"▾\";}#sk-container-id-5 div.sk-estimator input.sk-toggleable__control:checked~label.sk-toggleable__label {background-color: #d4ebff;}#sk-container-id-5 div.sk-label input.sk-toggleable__control:checked~label.sk-toggleable__label {background-color: #d4ebff;}#sk-container-id-5 input.sk-hidden--visually {border: 0;clip: rect(1px 1px 1px 1px);clip: rect(1px, 1px, 1px, 1px);height: 1px;margin: -1px;overflow: hidden;padding: 0;position: absolute;width: 1px;}#sk-container-id-5 div.sk-estimator {font-family: monospace;background-color: #f0f8ff;border: 1px dotted black;border-radius: 0.25em;box-sizing: border-box;margin-bottom: 0.5em;}#sk-container-id-5 div.sk-estimator:hover {background-color: #d4ebff;}#sk-container-id-5 div.sk-parallel-item::after {content: \"\";width: 100%;border-bottom: 1px solid gray;flex-grow: 1;}#sk-container-id-5 div.sk-label:hover label.sk-toggleable__label {background-color: #d4ebff;}#sk-container-id-5 div.sk-serial::before {content: \"\";position: absolute;border-left: 1px solid gray;box-sizing: border-box;top: 0;bottom: 0;left: 50%;z-index: 0;}#sk-container-id-5 div.sk-serial {display: flex;flex-direction: column;align-items: center;background-color: white;padding-right: 0.2em;padding-left: 0.2em;position: relative;}#sk-container-id-5 div.sk-item {position: relative;z-index: 1;}#sk-container-id-5 div.sk-parallel {display: flex;align-items: stretch;justify-content: center;background-color: white;position: relative;}#sk-container-id-5 div.sk-item::before, #sk-container-id-5 div.sk-parallel-item::before {content: \"\";position: absolute;border-left: 1px solid gray;box-sizing: border-box;top: 0;bottom: 0;left: 50%;z-index: -1;}#sk-container-id-5 div.sk-parallel-item {display: flex;flex-direction: column;z-index: 1;position: relative;background-color: white;}#sk-container-id-5 div.sk-parallel-item:first-child::after {align-self: flex-end;width: 50%;}#sk-container-id-5 div.sk-parallel-item:last-child::after {align-self: flex-start;width: 50%;}#sk-container-id-5 div.sk-parallel-item:only-child::after {width: 0;}#sk-container-id-5 div.sk-dashed-wrapped {border: 1px dashed gray;margin: 0 0.4em 0.5em 0.4em;box-sizing: border-box;padding-bottom: 0.4em;background-color: white;}#sk-container-id-5 div.sk-label label {font-family: monospace;font-weight: bold;display: inline-block;line-height: 1.2em;}#sk-container-id-5 div.sk-label-container {text-align: center;}#sk-container-id-5 div.sk-container {/* jupyter's `normalize.less` sets `[hidden] { display: none; }` but bootstrap.min.css set `[hidden] { display: none !important; }` so we also need the `!important` here to be able to override the default hidden behavior on the sphinx rendered scikit-learn.org. See: https://github.com/scikit-learn/scikit-learn/issues/21755 */display: inline-block !important;position: relative;}#sk-container-id-5 div.sk-text-repr-fallback {display: none;}</style><div id=\"sk-container-id-5\" class=\"sk-top-container\"><div class=\"sk-text-repr-fallback\"><pre>RandomForestRegressor(max_depth=10, min_samples_leaf=4, min_samples_split=10,\n",
       "                      n_estimators=200, random_state=42)</pre><b>In a Jupyter environment, please rerun this cell to show the HTML representation or trust the notebook. <br />On GitHub, the HTML representation is unable to render, please try loading this page with nbviewer.org.</b></div><div class=\"sk-container\" hidden><div class=\"sk-item\"><div class=\"sk-estimator sk-toggleable\"><input class=\"sk-toggleable__control sk-hidden--visually\" id=\"sk-estimator-id-7\" type=\"checkbox\" checked><label for=\"sk-estimator-id-7\" class=\"sk-toggleable__label sk-toggleable__label-arrow\">RandomForestRegressor</label><div class=\"sk-toggleable__content\"><pre>RandomForestRegressor(max_depth=10, min_samples_leaf=4, min_samples_split=10,\n",
       "                      n_estimators=200, random_state=42)</pre></div></div></div></div></div>"
      ],
      "text/plain": [
       "RandomForestRegressor(max_depth=10, min_samples_leaf=4, min_samples_split=10,\n",
       "                      n_estimators=200, random_state=42)"
      ]
     },
     "execution_count": 50,
     "metadata": {},
     "output_type": "execute_result"
    }
   ],
   "source": [
    "# Get the best hyperparameters\n",
    "best_params = grid_search.best_params_\n",
    "\n",
    "# Train the model with the best hyperparameters\n",
    "best_rf_model = RandomForestRegressor(random_state=42, **best_params)\n",
    "best_rf_model.fit(X_train_scaled, y_train)"
   ]
  },
  {
   "cell_type": "code",
   "execution_count": 51,
   "metadata": {},
   "outputs": [
    {
     "name": "stdout",
     "output_type": "stream",
     "text": [
      "Best Hyperparameters: {'max_depth': 10, 'min_samples_leaf': 4, 'min_samples_split': 10, 'n_estimators': 200}\n",
      "Mean Squared Error on Test Set: 2150.724161667335\n",
      "R-squared on Test Set: 0.8071757484192841\n"
     ]
    }
   ],
   "source": [
    "# Evaluate the model\n",
    "predictions = best_rf_model.predict(X_test_scaled)\n",
    "mse = mean_squared_error(y_test, predictions)\n",
    "r2 = best_rf_model.score(X_test_scaled, y_test)\n",
    "\n",
    "# Print results\n",
    "print(f'Best Hyperparameters: {best_params}')\n",
    "print(f'Mean Squared Error on Test Set: {mse}')\n",
    "print(f'R-squared on Test Set: {r2}')"
   ]
  },
  {
   "cell_type": "markdown",
   "metadata": {},
   "source": [
    "### Feature Importance Analysis\n",
    "\n",
    "Let's examine feature importance to understand which features contribute most to predictions. Feature importance analysis is a crucial step in understanding the contribution of each feature to the model's predictions."
   ]
  },
  {
   "cell_type": "code",
   "execution_count": 52,
   "metadata": {},
   "outputs": [
    {
     "name": "stderr",
     "output_type": "stream",
     "text": [
      "/var/folders/7l/pjbgsg_54hn3t90_14n49nmm0000gq/T/ipykernel_48443/3870536249.py:15: FutureWarning:\n",
      "\n",
      "\n",
      "\n",
      "Passing `palette` without assigning `hue` is deprecated and will be removed in v0.14.0. Assign the `y` variable to `hue` and set `legend=False` for the same effect.\n",
      "\n",
      "\n"
     ]
    },
    {
     "data": {
      "image/png": "[encoded data removed]",
      "text/plain": [
       "<Figure size 1000x600 with 1 Axes>"
      ]
     },
     "metadata": {},
     "output_type": "display_data"
    }
   ],
   "source": [
    "# Get feature importances from the best-trained Random Forest model\n",
    "feature_importances = best_rf_model.feature_importances_\n",
    "\n",
    "# Create a DataFrame to visualize feature importances\n",
    "importance_df = pd.DataFrame({\n",
    "    'Feature': X_train.columns,\n",
    "    'Importance': feature_importances\n",
    "})\n",
    "\n",
    "# Sort features by importance in descending order\n",
    "importance_df = importance_df.sort_values(by='Importance', ascending=False)\n",
    "\n",
    "# Plot the feature importances\n",
    "plt.figure(figsize=(10, 6))\n",
    "sns.barplot(x='Importance', y='Feature', data=importance_df, palette='viridis')\n",
    "plt.title('Feature Importance Analysis')\n",
    "plt.xlabel('Importance')\n",
    "plt.ylabel('Feature')\n",
    "plt.show()"
   ]
  },
  {
   "cell_type": "markdown",
   "metadata": {},
   "source": [
    "We can see that the features \"Air Quality Index\", \"Particulate mater 10\", \"Particulate mater 2.5\", \"Moving Average last 30 days, last 7 days, \"Barometric Pressure\" etc are the important features as recognized by the random forest model."
   ]
  },
  {
   "cell_type": "markdown",
   "metadata": {},
   "source": [
    "## **Interpretation and Insights**: \n",
    "In the realm of air quality modeling, Random Forest regression emerges as a potent tool, showcasing its prowess with the best hyperparameters identified as {'max_depth': 10, 'min_samples_leaf': 4, 'min_samples_split': 10, 'n_estimators': 200}. This configuration attains a commendable Mean Squared Error of 2150.72 and an impressive R-squared value of 0.807 on the test set. Such performance underscores the efficacy of Random Forest in capturing the intricate patterns within the air quality data, offering a robust solution for predicting pollutant concentrations based on meteorological conditions and other relevant features."
   ]
  }
 ],
 "metadata": {
  "kernelspec": {
   "display_name": "base",
   "language": "python",
   "name": "python3"
  },
  "language_info": {
   "codemirror_mode": {
    "name": "ipython",
    "version": 3
   },
   "file_extension": ".py",
   "mimetype": "text/x-python",
   "name": "python",
   "nbconvert_exporter": "python",
   "pygments_lexer": "ipython3",
   "version": "3.12.0"
  }
 },
 "nbformat": 4,
 "nbformat_minor": 2
}
