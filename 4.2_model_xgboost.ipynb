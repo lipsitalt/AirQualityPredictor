{
 "cells": [
  {
   "cell_type": "markdown",
   "metadata": {},
   "source": [
    "<h1><span style=\"color: #6495ED;\">Air Quality Forecasting: XGBoost Modeling</span></h1>\n",
    "\n",
    "Prepared by Lipsita Tripathy\n",
    "\n",
    "January 2024"
   ]
  },
  {
   "cell_type": "markdown",
   "metadata": {},
   "source": [
    "## **Overview**\n",
    "In this notebook, we embark on a detailed analysis and modeling of Delhi's air quality using the XGBoost (eXtreme Gradient Boosting) algorithm. Our dataset is rich with various features, including meteorological conditions and pollutant concentrations. The focus is on applying advanced machine learning techniques, with XGBoost at the forefront, to predict air quality levels accurately.\n",
    "\n",
    "## **Approach**\n",
    "- **Data Loading and Overview**: We start by importing the dataset, acquainting ourselves with its structure and the type of data it contains, laying the groundwork for further analysis.\n",
    "\n",
    "- **Feature Engineering and Target Encoding**: The notebook highlights the importance of feature engineering, particularly target encoding for time-related features, to enhance their utility in the modeling process.\n",
    "\n",
    "- **XGBoost Modeling**: XGBoost, known for its efficiency in regression tasks, is utilized. A significant portion of the notebook is dedicated to hyperparameter tuning, aiming to optimize the model's performance.\n",
    "\n",
    "- **Evaluation and Interpretation**: We evaluate the model using key metrics such as R-squared, Mean Squared Error (MSE), and Percentage Mean Absolute Error (PMAE). These metrics provide a quantifiable measure of the model's predictive accuracy.\n",
    "\n",
    "- **Feature Importance Analysis**: One of XGBoost's strengths is its ability to offer insights into feature importance. This analysis helps us understand which factors are most influential in predicting air quality."
   ]
  },
  {
   "cell_type": "markdown",
   "metadata": {},
   "source": [
    "### Importing Necessary Libraries"
   ]
  },
  {
   "cell_type": "code",
   "execution_count": 4,
   "metadata": {},
   "outputs": [],
   "source": [
    "import os\n",
    "import pandas as pd\n",
    "import numpy as np\n",
    "import matplotlib.pyplot as plt\n",
    "import seaborn as sns\n",
    "import statsmodels.api as sm\n",
    "import plotly.graph_objects as go\n",
    "import xgboost as xgb\n",
    "import category_encoders as ce\n",
    "from plotly.subplots import make_subplots\n",
    "from sklearn.model_selection import TimeSeriesSplit, GridSearchCV\n",
    "from sklearn.metrics import mean_squared_error\n",
    "from sklearn.metrics import mean_absolute_error\n",
    "from sklearn.metrics import r2_score"
   ]
  },
  {
   "cell_type": "markdown",
   "metadata": {},
   "source": [
    "### Reading CSV Data into DataFrame"
   ]
  },
  {
   "cell_type": "code",
   "execution_count": 5,
   "metadata": {},
   "outputs": [
    {
     "data": {
      "text/html": [
       "<div>\n",
       "<style scoped>\n",
       "    .dataframe tbody tr th:only-of-type {\n",
       "        vertical-align: middle;\n",
       "    }\n",
       "\n",
       "    .dataframe tbody tr th {\n",
       "        vertical-align: top;\n",
       "    }\n",
       "\n",
       "    .dataframe thead th {\n",
       "        text-align: right;\n",
       "    }\n",
       "</style>\n",
       "<table border=\"1\" class=\"dataframe\">\n",
       "  <thead>\n",
       "    <tr style=\"text-align: right;\">\n",
       "      <th></th>\n",
       "      <th>Datetime</th>\n",
       "      <th>AQI</th>\n",
       "      <th>PM2.5 (ug/m3)</th>\n",
       "      <th>PM10 (ug/m3)</th>\n",
       "      <th>NOx (ug/m3)</th>\n",
       "      <th>NH3 (ug/m3)</th>\n",
       "      <th>SO2 (ug/m3)</th>\n",
       "      <th>CO (ug/m3)</th>\n",
       "      <th>Ozone (ug/m3)</th>\n",
       "      <th>RH (%)</th>\n",
       "      <th>...</th>\n",
       "      <th>t_CO (ug/m3)</th>\n",
       "      <th>t_Ozone (ug/m3)</th>\n",
       "      <th>t_WS (m/s)</th>\n",
       "      <th>t_SR (W/mt2)</th>\n",
       "      <th>t_Volatility_Last_24hr</th>\n",
       "      <th>t_Volatility_Last_7d</th>\n",
       "      <th>t_Volatility_Last_30d</th>\n",
       "      <th>t_AQI_lag_24hr</th>\n",
       "      <th>t_AQI_lag_48hr</th>\n",
       "      <th>t_AQI_lag_168hr</th>\n",
       "    </tr>\n",
       "  </thead>\n",
       "  <tbody>\n",
       "    <tr>\n",
       "      <th>0</th>\n",
       "      <td>2013-01-01 00:00:00</td>\n",
       "      <td>354.0</td>\n",
       "      <td>290.774583</td>\n",
       "      <td>292.631667</td>\n",
       "      <td>117.224563</td>\n",
       "      <td>75.685556</td>\n",
       "      <td>9.992130</td>\n",
       "      <td>9.138167</td>\n",
       "      <td>13.794630</td>\n",
       "      <td>88.716778</td>\n",
       "      <td>...</td>\n",
       "      <td>2.316307</td>\n",
       "      <td>2.694264</td>\n",
       "      <td>0.314162</td>\n",
       "      <td>3.714195</td>\n",
       "      <td>2.230820</td>\n",
       "      <td>3.405326</td>\n",
       "      <td>4.066596</td>\n",
       "      <td>5.831882</td>\n",
       "      <td>5.961005</td>\n",
       "      <td>6.075346</td>\n",
       "    </tr>\n",
       "    <tr>\n",
       "      <th>1</th>\n",
       "      <td>2013-01-01 01:00:00</td>\n",
       "      <td>358.0</td>\n",
       "      <td>275.749821</td>\n",
       "      <td>296.150000</td>\n",
       "      <td>88.122976</td>\n",
       "      <td>66.740556</td>\n",
       "      <td>9.477546</td>\n",
       "      <td>7.665310</td>\n",
       "      <td>9.977963</td>\n",
       "      <td>89.612778</td>\n",
       "      <td>...</td>\n",
       "      <td>2.159328</td>\n",
       "      <td>2.395890</td>\n",
       "      <td>0.330103</td>\n",
       "      <td>3.673794</td>\n",
       "      <td>2.353812</td>\n",
       "      <td>3.397713</td>\n",
       "      <td>4.066530</td>\n",
       "      <td>5.823046</td>\n",
       "      <td>5.966147</td>\n",
       "      <td>6.073045</td>\n",
       "    </tr>\n",
       "    <tr>\n",
       "      <th>2</th>\n",
       "      <td>2013-01-01 02:00:00</td>\n",
       "      <td>362.0</td>\n",
       "      <td>271.463472</td>\n",
       "      <td>309.030000</td>\n",
       "      <td>61.464690</td>\n",
       "      <td>57.030556</td>\n",
       "      <td>9.207963</td>\n",
       "      <td>10.777421</td>\n",
       "      <td>7.316574</td>\n",
       "      <td>91.010556</td>\n",
       "      <td>...</td>\n",
       "      <td>2.466184</td>\n",
       "      <td>2.118250</td>\n",
       "      <td>0.329304</td>\n",
       "      <td>3.455326</td>\n",
       "      <td>2.475083</td>\n",
       "      <td>3.389909</td>\n",
       "      <td>4.066536</td>\n",
       "      <td>5.814131</td>\n",
       "      <td>5.971262</td>\n",
       "      <td>6.068426</td>\n",
       "    </tr>\n",
       "    <tr>\n",
       "      <th>3</th>\n",
       "      <td>2013-01-01 03:00:00</td>\n",
       "      <td>367.0</td>\n",
       "      <td>279.071667</td>\n",
       "      <td>317.826667</td>\n",
       "      <td>47.583524</td>\n",
       "      <td>43.298333</td>\n",
       "      <td>10.871667</td>\n",
       "      <td>11.793810</td>\n",
       "      <td>7.910146</td>\n",
       "      <td>91.930000</td>\n",
       "      <td>...</td>\n",
       "      <td>2.548961</td>\n",
       "      <td>2.187191</td>\n",
       "      <td>0.326422</td>\n",
       "      <td>3.079282</td>\n",
       "      <td>2.592957</td>\n",
       "      <td>3.382300</td>\n",
       "      <td>4.066609</td>\n",
       "      <td>5.805135</td>\n",
       "      <td>5.973810</td>\n",
       "      <td>6.061457</td>\n",
       "    </tr>\n",
       "    <tr>\n",
       "      <th>4</th>\n",
       "      <td>2013-01-01 04:00:00</td>\n",
       "      <td>370.0</td>\n",
       "      <td>269.118333</td>\n",
       "      <td>308.521667</td>\n",
       "      <td>43.535333</td>\n",
       "      <td>32.023333</td>\n",
       "      <td>11.020833</td>\n",
       "      <td>10.027778</td>\n",
       "      <td>9.348849</td>\n",
       "      <td>92.335556</td>\n",
       "      <td>...</td>\n",
       "      <td>2.400417</td>\n",
       "      <td>2.336875</td>\n",
       "      <td>0.379197</td>\n",
       "      <td>2.525195</td>\n",
       "      <td>2.692013</td>\n",
       "      <td>3.374865</td>\n",
       "      <td>4.066732</td>\n",
       "      <td>5.802118</td>\n",
       "      <td>5.971262</td>\n",
       "      <td>6.056784</td>\n",
       "    </tr>\n",
       "  </tbody>\n",
       "</table>\n",
       "<p>5 rows × 45 columns</p>\n",
       "</div>"
      ],
      "text/plain": [
       "              Datetime    AQI  PM2.5 (ug/m3)  PM10 (ug/m3)  NOx (ug/m3)  \\\n",
       "0  2013-01-01 00:00:00  354.0     290.774583    292.631667   117.224563   \n",
       "1  2013-01-01 01:00:00  358.0     275.749821    296.150000    88.122976   \n",
       "2  2013-01-01 02:00:00  362.0     271.463472    309.030000    61.464690   \n",
       "3  2013-01-01 03:00:00  367.0     279.071667    317.826667    47.583524   \n",
       "4  2013-01-01 04:00:00  370.0     269.118333    308.521667    43.535333   \n",
       "\n",
       "   NH3 (ug/m3)  SO2 (ug/m3)  CO (ug/m3)  Ozone (ug/m3)     RH (%)  ...  \\\n",
       "0    75.685556     9.992130    9.138167      13.794630  88.716778  ...   \n",
       "1    66.740556     9.477546    7.665310       9.977963  89.612778  ...   \n",
       "2    57.030556     9.207963   10.777421       7.316574  91.010556  ...   \n",
       "3    43.298333    10.871667   11.793810       7.910146  91.930000  ...   \n",
       "4    32.023333    11.020833   10.027778       9.348849  92.335556  ...   \n",
       "\n",
       "   t_CO (ug/m3)  t_Ozone (ug/m3)  t_WS (m/s)  t_SR (W/mt2)  \\\n",
       "0      2.316307         2.694264    0.314162      3.714195   \n",
       "1      2.159328         2.395890    0.330103      3.673794   \n",
       "2      2.466184         2.118250    0.329304      3.455326   \n",
       "3      2.548961         2.187191    0.326422      3.079282   \n",
       "4      2.400417         2.336875    0.379197      2.525195   \n",
       "\n",
       "   t_Volatility_Last_24hr  t_Volatility_Last_7d  t_Volatility_Last_30d  \\\n",
       "0                2.230820              3.405326               4.066596   \n",
       "1                2.353812              3.397713               4.066530   \n",
       "2                2.475083              3.389909               4.066536   \n",
       "3                2.592957              3.382300               4.066609   \n",
       "4                2.692013              3.374865               4.066732   \n",
       "\n",
       "   t_AQI_lag_24hr  t_AQI_lag_48hr  t_AQI_lag_168hr  \n",
       "0        5.831882        5.961005         6.075346  \n",
       "1        5.823046        5.966147         6.073045  \n",
       "2        5.814131        5.971262         6.068426  \n",
       "3        5.805135        5.973810         6.061457  \n",
       "4        5.802118        5.971262         6.056784  \n",
       "\n",
       "[5 rows x 45 columns]"
      ]
     },
     "execution_count": 5,
     "metadata": {},
     "output_type": "execute_result"
    }
   ],
   "source": [
    "df = pd.read_csv('data/generated/Delhi_AQI_final_df_before_modeling.csv')\n",
    "df.head()"
   ]
  },
  {
   "cell_type": "markdown",
   "metadata": {},
   "source": [
    "### Converting 'Datetime' Column to Datetime Format\n",
    "\n",
    "The 'Datetime' column in the dataframe (`df`) is transformed into the datetime format through the `pd.to_datetime` function. \n",
    "\n",
    "### Setting 'Datetime' as index\n",
    "\n",
    "Following this conversion, the dataframe is then set with 'Datetime' as its index.\n",
    "\n",
    "Setting the 'Datetime' column as the index in time series data simplifies time-based operations, enables easy plotting, facilitates efficient queries, aligns with Pandas functionality, and enhances data alignment and merging when working with multiple datasets. It serves as a foundation for streamlined and meaningful exploration of time series data."
   ]
  },
  {
   "cell_type": "code",
   "execution_count": 6,
   "metadata": {},
   "outputs": [],
   "source": [
    "# Convert 'Datetime' column to datetime format\n",
    "df['Datetime'] = pd.to_datetime(df['Datetime'])\n",
    "\n",
    "df = df.set_index('Datetime')"
   ]
  },
  {
   "cell_type": "markdown",
   "metadata": {},
   "source": [
    "\n",
    "### Splitting Time Series Data Manually\n",
    "- When we split time series data by hand, we're making sure everything happens in the right order, just like events unfold in real life. This way, our model learns the way things happen over time. \n",
    "- It's like practicing with old stories to get ready for what might happen next. \n",
    "- We also make sure our model isn't accidentally getting hints about what comes next, which can make our predictions more trustworthy. Plus, by doing it manually, we can teach our model about the patterns that come with different times of the year or major shifts that happen gradually. \n",
    "- It's all about making predictions that are as close to future reality as possible."
   ]
  },
  {
   "cell_type": "markdown",
   "metadata": {},
   "source": [
    "Let's define date ranges for a training set and a test set. The training set covers dates from January 1, 2013, to March 1, 2022, while the test set spans from March 1, 2022, to March 30, 2023."
   ]
  },
  {
   "cell_type": "code",
   "execution_count": 7,
   "metadata": {},
   "outputs": [],
   "source": [
    "# Define date ranges\n",
    "date_ranges = [\n",
    "    ('2013-01-01', '2022-03-01'),  # For training set\n",
    "    ('2022-03-01', '2023-03-30')   # For test set\n",
    "]"
   ]
  },
  {
   "cell_type": "markdown",
   "metadata": {},
   "source": [
    "The `train_set` consists of entries within the specified date range, while the `test_set` comprises entries from another defined period."
   ]
  },
  {
   "cell_type": "code",
   "execution_count": 8,
   "metadata": {},
   "outputs": [],
   "source": [
    "# Create a copy of the training and test sets\n",
    "train_set = df.loc[(df.index >= date_ranges[0][0]) & (df.index < date_ranges[0][1])]\n",
    "test_set = df.loc[(df.index >= date_ranges[1][0]) & (df.index < date_ranges[1][1])]"
   ]
  },
  {
   "cell_type": "markdown",
   "metadata": {},
   "source": [
    "### Target encoding\n",
    "To enhance the predictive power of specific categorical features, **Target Encoding** is applied to the columns **\"DayOfWeek,\" \"HourOfDay,\" and \"Month.\"** Target encoding involves transforming categorical values based on the mean of the target variable. In this case, it helps capture relationships between these time-related features and the target variable 'y_AQI', potentially improving the model's ability to understand temporal patterns and make accurate predictions.\n",
    "\n",
    "Target encoding should be performed after splitting the data into training and testing sets. The reason for this is to avoid data leakage, which occurs when information from the testing set is used to inform the encoding in the training set, leading to overly optimistic performance estimates."
   ]
  },
  {
   "cell_type": "code",
   "execution_count": 9,
   "metadata": {},
   "outputs": [],
   "source": [
    "# Define the features to target encode\n",
    "features_to_encode = [\"DayOfWeek\", \"HourOfDay\", \"Month\"]\n",
    "\n",
    "# Initialize the target encoder\n",
    "encoder = ce.TargetEncoder(cols=features_to_encode)\n",
    "\n",
    "# Fit and transform the encoder on the training set\n",
    "train_set_encoded = encoder.fit_transform(train_set[features_to_encode], train_set['y_AQI'])\n",
    "\n",
    "# Transform the test set using the trained encoder\n",
    "test_set_encoded = encoder.transform(test_set[features_to_encode])"
   ]
  },
  {
   "cell_type": "markdown",
   "metadata": {},
   "source": [
    "- The encoded features are integrated back into the original training and test sets. \n",
    "- This merging process combines the enriched information from target encoding with the existing datasets. \n",
    "- Additionally, the original categorical columns—namely \"DayOfWeek,\" \"HourOfDay,\" and \"Month\" are dropped, streamlining the datasets and retaining the valuable encoded information for improved model training and evaluation."
   ]
  },
  {
   "cell_type": "code",
   "execution_count": 10,
   "metadata": {},
   "outputs": [],
   "source": [
    "# Merge the encoded features back to the original training and test sets\n",
    "train_set = pd.concat([train_set, train_set_encoded], axis=1)\n",
    "test_set = pd.concat([test_set, test_set_encoded], axis=1)\n",
    "\n",
    "# Drop the original categorical columns if needed\n",
    "train_set = train_set.drop(features_to_encode, axis=1)\n",
    "test_set = test_set.drop(features_to_encode, axis=1)"
   ]
  },
  {
   "cell_type": "markdown",
   "metadata": {},
   "source": [
    "## Scale Robustness in XGBoost Regression:\n",
    "- XGBoost regression is robust to feature scaling due to its tree-based structure, which makes splits based on the order of feature values rather than their magnitudes. \n",
    "- The algorithm's gradient boosting nature, regularization, and decision tree properties contribute to this scale-invariance. \n",
    "- I did try scaling using standard scaler, the model's performance was the same, hence removed the scaling part."
   ]
  },
  {
   "cell_type": "markdown",
   "metadata": {},
   "source": [
    "A subset of columns, denoted as `columns_to_exclude`, is identified for exclusion from further analysis. These columns, include 'Year,' our target variable('y_AQI,') and some of the original features that have been log transformed because of skewness, . By excluding these columns, the dataset is streamlined, focusing on relevant features for more targeted and efficient modeling."
   ]
  },
  {
   "cell_type": "code",
   "execution_count": 11,
   "metadata": {},
   "outputs": [],
   "source": [
    "columns_to_exclude = ['Year', 'y_AQI', 'AQI_Category',\n",
    "                     'PM2.5 (ug/m3)', 'PM10 (ug/m3)', 'NOx (ug/m3)', 'NH3 (ug/m3)', 'SO2 (ug/m3)',\n",
    "                     'CO (ug/m3)', 'Ozone (ug/m3)', 'WS (m/s)', 'SR (W/mt2)',\n",
    "                     'Volatility_Last_24hr', 'Volatility_Last_7d', 'Volatility_Last_30d', 'AQI_lag_24hr', 'AQI_lag_48hr', 'AQI_lag_168hr']"
   ]
  },
  {
   "cell_type": "markdown",
   "metadata": {},
   "source": [
    "### Setting Up DMatrices for XGBoost\n",
    "- For XGBoost to work its magic, we first set up special data formats called DMatrices. \n",
    "- We create a dtrain DMatrix using our training data, leaving out some columns we don't need, and mark 'y_AQI' as the label we're trying to predict. \n",
    "- The same goes for our dtest DMatrix, built from the test data.\n",
    "- These DMatrices are just what XGBoost needs to start learning and testing. \n",
    "- We've got 'train_set['y_AQI']' and 'test_set['y_AQI']' as our targets, or what's known in XGBoost as the label parameter, for the training and testing phases."
   ]
  },
  {
   "cell_type": "code",
   "execution_count": 12,
   "metadata": {},
   "outputs": [],
   "source": [
    "# Create DMatrices for training and testing\n",
    "dtrain = xgb.DMatrix(train_set.drop(columns_to_exclude, axis=1), label=train_set['y_AQI'])\n",
    "dtest = xgb.DMatrix(test_set.drop(columns_to_exclude, axis=1), label=test_set['y_AQI'])"
   ]
  },
  {
   "cell_type": "markdown",
   "metadata": {},
   "source": [
    "### Extracting NumPy Arrays from DMatrices\n",
    "- NumPy arrays are extracted from the DMatrices, facilitating compatibility with other machine learning libraries and processes.\n",
    "- The array `X_train` is obtained from the training DMatrix (`dtrain`), while `X_test` is derived from the test DMatrix (`dtest`). \n",
    "- This conversion allows seamless integration with various data manipulation and analysis tools."
   ]
  },
  {
   "cell_type": "code",
   "execution_count": 13,
   "metadata": {},
   "outputs": [],
   "source": [
    "# Get the NumPy arrays from DMatrix\n",
    "X_train = dtrain.get_data()\n",
    "X_test = dtest.get_data()\n",
    "\n",
    "y_train = train_set['y_AQI']\n",
    "y_test = test_set['y_AQI']"
   ]
  },
  {
   "cell_type": "markdown",
   "metadata": {},
   "source": [
    "### Starting Out with XGBoost: My Default Settings and First Model\n",
    "- I kicked things off by setting up the default hyperparameters for my XGBoost model, choosing 'reg:squarederror' as my goal and 'rmse' to check how I'm doing. With these settings in place, I put my model through its paces with a set number of rounds to boost its learning.\n",
    "\n",
    "- Once the training was done, it was time to see how well my model could predict on new data. So, I made it take a shot at the test set and watched closely as it tried to figure out the numbers. \n",
    "\n",
    "- To see how well it did, I calculated the RMSE, which is like a scorecard for my model's performance. The RMSE I got was the first real test of my model's skill, a starting point to see how it handles real-world data."
   ]
  },
  {
   "cell_type": "code",
   "execution_count": 14,
   "metadata": {},
   "outputs": [
    {
     "name": "stdout",
     "output_type": "stream",
     "text": [
      "[0]\ttest-rmse:84.10831\n",
      "[1]\ttest-rmse:67.74915\n",
      "[2]\ttest-rmse:57.85770\n",
      "[3]\ttest-rmse:52.05429\n",
      "[4]\ttest-rmse:49.04028\n",
      "[5]\ttest-rmse:47.33652\n",
      "[6]\ttest-rmse:46.34113\n",
      "[7]\ttest-rmse:45.67651\n",
      "[8]\ttest-rmse:45.49252\n",
      "[9]\ttest-rmse:45.34635\n",
      "[10]\ttest-rmse:45.35346\n",
      "[11]\ttest-rmse:45.19942\n"
     ]
    },
    {
     "name": "stdout",
     "output_type": "stream",
     "text": [
      "[12]\ttest-rmse:45.30869\n",
      "[13]\ttest-rmse:45.25625\n",
      "[14]\ttest-rmse:45.17438\n",
      "[15]\ttest-rmse:45.12786\n",
      "[16]\ttest-rmse:45.11518\n",
      "[17]\ttest-rmse:45.13345\n",
      "[18]\ttest-rmse:45.05472\n",
      "[19]\ttest-rmse:45.14162\n",
      "[20]\ttest-rmse:45.19184\n",
      "[21]\ttest-rmse:45.24415\n",
      "[22]\ttest-rmse:45.21558\n",
      "[23]\ttest-rmse:45.27738\n",
      "[24]\ttest-rmse:45.34204\n",
      "[25]\ttest-rmse:45.28973\n",
      "[26]\ttest-rmse:45.14874\n",
      "[27]\ttest-rmse:45.16672\n",
      "Baseline Model RMSE on Test Set: 45.13779282912391\n"
     ]
    }
   ],
   "source": [
    "# Set default hyperparameters\n",
    "params = {\n",
    "    'objective': 'reg:squarederror',  # Regression task\n",
    "    'eval_metric': 'rmse',            # Evaluation metric: Root Mean Squared Error\n",
    "}\n",
    "\n",
    "# Train the baseline model\n",
    "num_round = 200  # You can adjust the number of boosting rounds\n",
    "baseline_model = xgb.train(params, xgb.DMatrix(X_train, label=y_train), num_round, \n",
    "                           evals=[(xgb.DMatrix(X_test, label=y_test), 'test')],\n",
    "                           early_stopping_rounds=10)\n",
    "\n",
    "# Make predictions on the train set\n",
    "y_train_pred = baseline_model.predict(xgb.DMatrix(X_train))\n",
    "\n",
    "# Make predictions on the test set\n",
    "y_test_pred = baseline_model.predict(xgb.DMatrix(X_test))\n",
    "\n",
    "# Evaluate the baseline model on the test set\n",
    "rmse_test = mean_squared_error(y_test, y_test_pred, squared=False)\n",
    "print(f\"Baseline Model RMSE on Test Set: {rmse_test}\")"
   ]
  },
  {
   "cell_type": "markdown",
   "metadata": {},
   "source": [
    "#### Baseline Model R-squared on Test Set:"
   ]
  },
  {
   "cell_type": "code",
   "execution_count": 15,
   "metadata": {},
   "outputs": [
    {
     "name": "stdout",
     "output_type": "stream",
     "text": [
      "Baseline Model R-squared on Training Set: 0.88\n",
      "Baseline Model R-squared on Test Set: 0.82\n"
     ]
    }
   ],
   "source": [
    "# Evaluate R-squared on the training set\n",
    "r2_train_baseline = r2_score(y_train, y_train_pred)\n",
    "print(f\"Baseline Model R-squared on Training Set: {r2_train_baseline:.2f}\")\n",
    "\n",
    "r2_test_baseline = r2_score(y_test, y_test_pred)\n",
    "print(f\"Baseline Model R-squared on Test Set: {r2_test_baseline:.2f}\")"
   ]
  },
  {
   "cell_type": "markdown",
   "metadata": {},
   "source": [
    "### Interpreting R-squared Values: Model Fit and Generalization\n",
    "The R-squared values on both the training and test sets are quite close, and the model's performance on the test set is slightly higher. This suggests that the model generalizes well to new data and is not exhibiting clear signs of overfitting."
   ]
  },
  {
   "cell_type": "markdown",
   "metadata": {},
   "source": [
    "### Fine-Tuning My XGBoost for Better Predictions\n",
    "**Making My Model Smarter with the Right Settings**\n",
    "\n",
    "- I dove into fine-tuning my XGBoost model, knowing that the right settings could make all the difference. \n",
    "- I used grid search to mix and match hyperparameters like max_depth, learning_rate, n_estimators, subsample, and colsample_bytree, all to find the sweet spot that could give me the most accurate predictions.\n",
    "\n",
    "- Because my data's got a timeline to it, I went with time series cross-validation. It's like giving my model a history lesson so it can learn from the past. My goal was clear: to chase down that combination of hyperparameters that would shrink my mean squared error to a whisper of what it was.\n",
    "\n",
    "- And here's a trick I pulled off: by setting n_jobs=-1, I let my grid search spread out across all the CPU cores I could grab. It's like having an army of helpers, all working at once to get the tuning done faster."
   ]
  },
  {
   "cell_type": "code",
   "execution_count": 16,
   "metadata": {},
   "outputs": [
    {
     "name": "stdout",
     "output_type": "stream",
     "text": [
      "Fitting 5 folds for each of 576 candidates, totalling 2880 fits\n"
     ]
    },
    {
     "data": {
      "text/html": [
       "<style>#sk-container-id-1 {color: black;}#sk-container-id-1 pre{padding: 0;}#sk-container-id-1 div.sk-toggleable {background-color: white;}#sk-container-id-1 label.sk-toggleable__label {cursor: pointer;display: block;width: 100%;margin-bottom: 0;padding: 0.3em;box-sizing: border-box;text-align: center;}#sk-container-id-1 label.sk-toggleable__label-arrow:before {content: \"▸\";float: left;margin-right: 0.25em;color: #696969;}#sk-container-id-1 label.sk-toggleable__label-arrow:hover:before {color: black;}#sk-container-id-1 div.sk-estimator:hover label.sk-toggleable__label-arrow:before {color: black;}#sk-container-id-1 div.sk-toggleable__content {max-height: 0;max-width: 0;overflow: hidden;text-align: left;background-color: #f0f8ff;}#sk-container-id-1 div.sk-toggleable__content pre {margin: 0.2em;color: black;border-radius: 0.25em;background-color: #f0f8ff;}#sk-container-id-1 input.sk-toggleable__control:checked~div.sk-toggleable__content {max-height: 200px;max-width: 100%;overflow: auto;}#sk-container-id-1 input.sk-toggleable__control:checked~label.sk-toggleable__label-arrow:before {content: \"▾\";}#sk-container-id-1 div.sk-estimator input.sk-toggleable__control:checked~label.sk-toggleable__label {background-color: #d4ebff;}#sk-container-id-1 div.sk-label input.sk-toggleable__control:checked~label.sk-toggleable__label {background-color: #d4ebff;}#sk-container-id-1 input.sk-hidden--visually {border: 0;clip: rect(1px 1px 1px 1px);clip: rect(1px, 1px, 1px, 1px);height: 1px;margin: -1px;overflow: hidden;padding: 0;position: absolute;width: 1px;}#sk-container-id-1 div.sk-estimator {font-family: monospace;background-color: #f0f8ff;border: 1px dotted black;border-radius: 0.25em;box-sizing: border-box;margin-bottom: 0.5em;}#sk-container-id-1 div.sk-estimator:hover {background-color: #d4ebff;}#sk-container-id-1 div.sk-parallel-item::after {content: \"\";width: 100%;border-bottom: 1px solid gray;flex-grow: 1;}#sk-container-id-1 div.sk-label:hover label.sk-toggleable__label {background-color: #d4ebff;}#sk-container-id-1 div.sk-serial::before {content: \"\";position: absolute;border-left: 1px solid gray;box-sizing: border-box;top: 0;bottom: 0;left: 50%;z-index: 0;}#sk-container-id-1 div.sk-serial {display: flex;flex-direction: column;align-items: center;background-color: white;padding-right: 0.2em;padding-left: 0.2em;position: relative;}#sk-container-id-1 div.sk-item {position: relative;z-index: 1;}#sk-container-id-1 div.sk-parallel {display: flex;align-items: stretch;justify-content: center;background-color: white;position: relative;}#sk-container-id-1 div.sk-item::before, #sk-container-id-1 div.sk-parallel-item::before {content: \"\";position: absolute;border-left: 1px solid gray;box-sizing: border-box;top: 0;bottom: 0;left: 50%;z-index: -1;}#sk-container-id-1 div.sk-parallel-item {display: flex;flex-direction: column;z-index: 1;position: relative;background-color: white;}#sk-container-id-1 div.sk-parallel-item:first-child::after {align-self: flex-end;width: 50%;}#sk-container-id-1 div.sk-parallel-item:last-child::after {align-self: flex-start;width: 50%;}#sk-container-id-1 div.sk-parallel-item:only-child::after {width: 0;}#sk-container-id-1 div.sk-dashed-wrapped {border: 1px dashed gray;margin: 0 0.4em 0.5em 0.4em;box-sizing: border-box;padding-bottom: 0.4em;background-color: white;}#sk-container-id-1 div.sk-label label {font-family: monospace;font-weight: bold;display: inline-block;line-height: 1.2em;}#sk-container-id-1 div.sk-label-container {text-align: center;}#sk-container-id-1 div.sk-container {/* jupyter's `normalize.less` sets `[hidden] { display: none; }` but bootstrap.min.css set `[hidden] { display: none !important; }` so we also need the `!important` here to be able to override the default hidden behavior on the sphinx rendered scikit-learn.org. See: https://github.com/scikit-learn/scikit-learn/issues/21755 */display: inline-block !important;position: relative;}#sk-container-id-1 div.sk-text-repr-fallback {display: none;}</style><div id=\"sk-container-id-1\" class=\"sk-top-container\"><div class=\"sk-text-repr-fallback\"><pre>GridSearchCV(cv=TimeSeriesSplit(gap=0, max_train_size=None, n_splits=5, test_size=None),\n",
       "             estimator=XGBRegressor(base_score=None, booster=None,\n",
       "                                    callbacks=None, colsample_bylevel=None,\n",
       "                                    colsample_bynode=None,\n",
       "                                    colsample_bytree=None, device=None,\n",
       "                                    early_stopping_rounds=None,\n",
       "                                    enable_categorical=False,\n",
       "                                    eval_metric=&#x27;rmse&#x27;, feature_types=None,\n",
       "                                    gamma=None, grow_policy=None,\n",
       "                                    i...\n",
       "                                    min_child_weight=None, missing=nan,\n",
       "                                    monotone_constraints=None,\n",
       "                                    multi_strategy=None, n_estimators=None,\n",
       "                                    n_jobs=None, num_parallel_tree=None,\n",
       "                                    random_state=None, ...),\n",
       "             n_jobs=-1,\n",
       "             param_grid={&#x27;colsample_bytree&#x27;: [0.8, 0.9, 1.0],\n",
       "                         &#x27;learning_rate&#x27;: [0.01, 0.1, 0.2, 0.3],\n",
       "                         &#x27;max_depth&#x27;: [3, 5, 7, 10],\n",
       "                         &#x27;n_estimators&#x27;: [50, 100, 200, 300],\n",
       "                         &#x27;subsample&#x27;: [0.8, 0.9, 1.0]},\n",
       "             scoring=&#x27;neg_mean_squared_error&#x27;, verbose=2)</pre><b>In a Jupyter environment, please rerun this cell to show the HTML representation or trust the notebook. <br />On GitHub, the HTML representation is unable to render, please try loading this page with nbviewer.org.</b></div><div class=\"sk-container\" hidden><div class=\"sk-item sk-dashed-wrapped\"><div class=\"sk-label-container\"><div class=\"sk-label sk-toggleable\"><input class=\"sk-toggleable__control sk-hidden--visually\" id=\"sk-estimator-id-1\" type=\"checkbox\" ><label for=\"sk-estimator-id-1\" class=\"sk-toggleable__label sk-toggleable__label-arrow\">GridSearchCV</label><div class=\"sk-toggleable__content\"><pre>GridSearchCV(cv=TimeSeriesSplit(gap=0, max_train_size=None, n_splits=5, test_size=None),\n",
       "             estimator=XGBRegressor(base_score=None, booster=None,\n",
       "                                    callbacks=None, colsample_bylevel=None,\n",
       "                                    colsample_bynode=None,\n",
       "                                    colsample_bytree=None, device=None,\n",
       "                                    early_stopping_rounds=None,\n",
       "                                    enable_categorical=False,\n",
       "                                    eval_metric=&#x27;rmse&#x27;, feature_types=None,\n",
       "                                    gamma=None, grow_policy=None,\n",
       "                                    i...\n",
       "                                    min_child_weight=None, missing=nan,\n",
       "                                    monotone_constraints=None,\n",
       "                                    multi_strategy=None, n_estimators=None,\n",
       "                                    n_jobs=None, num_parallel_tree=None,\n",
       "                                    random_state=None, ...),\n",
       "             n_jobs=-1,\n",
       "             param_grid={&#x27;colsample_bytree&#x27;: [0.8, 0.9, 1.0],\n",
       "                         &#x27;learning_rate&#x27;: [0.01, 0.1, 0.2, 0.3],\n",
       "                         &#x27;max_depth&#x27;: [3, 5, 7, 10],\n",
       "                         &#x27;n_estimators&#x27;: [50, 100, 200, 300],\n",
       "                         &#x27;subsample&#x27;: [0.8, 0.9, 1.0]},\n",
       "             scoring=&#x27;neg_mean_squared_error&#x27;, verbose=2)</pre></div></div></div><div class=\"sk-parallel\"><div class=\"sk-parallel-item\"><div class=\"sk-item\"><div class=\"sk-label-container\"><div class=\"sk-label sk-toggleable\"><input class=\"sk-toggleable__control sk-hidden--visually\" id=\"sk-estimator-id-2\" type=\"checkbox\" ><label for=\"sk-estimator-id-2\" class=\"sk-toggleable__label sk-toggleable__label-arrow\">estimator: XGBRegressor</label><div class=\"sk-toggleable__content\"><pre>XGBRegressor(base_score=None, booster=None, callbacks=None,\n",
       "             colsample_bylevel=None, colsample_bynode=None,\n",
       "             colsample_bytree=None, device=None, early_stopping_rounds=None,\n",
       "             enable_categorical=False, eval_metric=&#x27;rmse&#x27;, feature_types=None,\n",
       "             gamma=None, grow_policy=None, importance_type=None,\n",
       "             interaction_constraints=None, learning_rate=None, max_bin=None,\n",
       "             max_cat_threshold=None, max_cat_to_onehot=None,\n",
       "             max_delta_step=None, max_depth=None, max_leaves=None,\n",
       "             min_child_weight=None, missing=nan, monotone_constraints=None,\n",
       "             multi_strategy=None, n_estimators=None, n_jobs=None,\n",
       "             num_parallel_tree=None, random_state=None, ...)</pre></div></div></div><div class=\"sk-serial\"><div class=\"sk-item\"><div class=\"sk-estimator sk-toggleable\"><input class=\"sk-toggleable__control sk-hidden--visually\" id=\"sk-estimator-id-3\" type=\"checkbox\" ><label for=\"sk-estimator-id-3\" class=\"sk-toggleable__label sk-toggleable__label-arrow\">XGBRegressor</label><div class=\"sk-toggleable__content\"><pre>XGBRegressor(base_score=None, booster=None, callbacks=None,\n",
       "             colsample_bylevel=None, colsample_bynode=None,\n",
       "             colsample_bytree=None, device=None, early_stopping_rounds=None,\n",
       "             enable_categorical=False, eval_metric=&#x27;rmse&#x27;, feature_types=None,\n",
       "             gamma=None, grow_policy=None, importance_type=None,\n",
       "             interaction_constraints=None, learning_rate=None, max_bin=None,\n",
       "             max_cat_threshold=None, max_cat_to_onehot=None,\n",
       "             max_delta_step=None, max_depth=None, max_leaves=None,\n",
       "             min_child_weight=None, missing=nan, monotone_constraints=None,\n",
       "             multi_strategy=None, n_estimators=None, n_jobs=None,\n",
       "             num_parallel_tree=None, random_state=None, ...)</pre></div></div></div></div></div></div></div></div></div></div>"
      ],
      "text/plain": [
       "GridSearchCV(cv=TimeSeriesSplit(gap=0, max_train_size=None, n_splits=5, test_size=None),\n",
       "             estimator=XGBRegressor(base_score=None, booster=None,\n",
       "                                    callbacks=None, colsample_bylevel=None,\n",
       "                                    colsample_bynode=None,\n",
       "                                    colsample_bytree=None, device=None,\n",
       "                                    early_stopping_rounds=None,\n",
       "                                    enable_categorical=False,\n",
       "                                    eval_metric='rmse', feature_types=None,\n",
       "                                    gamma=None, grow_policy=None,\n",
       "                                    i...\n",
       "                                    min_child_weight=None, missing=nan,\n",
       "                                    monotone_constraints=None,\n",
       "                                    multi_strategy=None, n_estimators=None,\n",
       "                                    n_jobs=None, num_parallel_tree=None,\n",
       "                                    random_state=None, ...),\n",
       "             n_jobs=-1,\n",
       "             param_grid={'colsample_bytree': [0.8, 0.9, 1.0],\n",
       "                         'learning_rate': [0.01, 0.1, 0.2, 0.3],\n",
       "                         'max_depth': [3, 5, 7, 10],\n",
       "                         'n_estimators': [50, 100, 200, 300],\n",
       "                         'subsample': [0.8, 0.9, 1.0]},\n",
       "             scoring='neg_mean_squared_error', verbose=2)"
      ]
     },
     "execution_count": 16,
     "metadata": {},
     "output_type": "execute_result"
    }
   ],
   "source": [
    "# Perform time series cross-validation\n",
    "tscv = TimeSeriesSplit(n_splits=5)  # Adjust the number of splits as needed\n",
    "\n",
    "# Initialize the XGBoost model\n",
    "xgb_model = xgb.XGBRegressor(objective='reg:squarederror', eval_metric='rmse')\n",
    "\n",
    "# Define the hyperparameter grid\n",
    "param_grid = {\n",
    "    'max_depth': [3, 5, 7, 10],           # max_depth range\n",
    "    'learning_rate': [0.01, 0.1, 0.2, 0.3],  # learning_rate range\n",
    "    'n_estimators': [50, 100, 200, 300],    # n_estimators range\n",
    "    'subsample': [0.8, 0.9, 1.0],\n",
    "    'colsample_bytree': [0.8, 0.9, 1.0]\n",
    "}\n",
    "\n",
    "# Initialize GridSearchCV with the XGBoost model and time series cross-validation\n",
    "grid_search = GridSearchCV(xgb_model, param_grid, scoring='neg_mean_squared_error', cv=tscv, verbose=2, n_jobs=-1)\n",
    "\n",
    "# Fit the model to the training data\n",
    "grid_search.fit(X_train, y_train)"
   ]
  },
  {
   "cell_type": "markdown",
   "metadata": {},
   "source": [
    "### Gathering the Keys to a Smarter XGBoost\n",
    "**Sifting Through the Tuning Treasures**\n",
    "- I combed through the bounty of my model's hyperparameter tuning escapade, neatly stacking the results into a DataFrame. \n",
    "- It's like a treasure map, laid out to show me where Xs mark the spots of parameter perfection. Glancing over this table is like having a crystal ball that whispers which knobs to turn and levers to pull for my XGBoost's best performance."
   ]
  },
  {
   "cell_type": "code",
   "execution_count": 17,
   "metadata": {},
   "outputs": [
    {
     "name": "stdout",
     "output_type": "stream",
     "text": [
      "     mean_fit_time  std_fit_time  mean_score_time  std_score_time  \\\n",
      "0         0.887028      0.374250         0.029522        0.004703   \n",
      "1         0.912560      0.356226         0.026928        0.000631   \n",
      "2         0.655248      0.270708         0.028125        0.000977   \n",
      "3         1.541678      0.671943         0.050465        0.001353   \n",
      "4         1.521532      0.539264         0.054455        0.007180   \n",
      "..             ...           ...              ...             ...   \n",
      "571      26.463954      3.990882         0.529236        0.063850   \n",
      "572      23.270408      4.069529         0.474931        0.018232   \n",
      "573      39.046738      6.516320         0.835426        0.051681   \n",
      "574      41.375874      9.072696         0.967917        0.075587   \n",
      "575      38.725247      5.377926         0.788078        0.108976   \n",
      "\n",
      "    param_colsample_bytree param_learning_rate param_max_depth  \\\n",
      "0                      0.8                0.01               3   \n",
      "1                      0.8                0.01               3   \n",
      "2                      0.8                0.01               3   \n",
      "3                      0.8                0.01               3   \n",
      "4                      0.8                0.01               3   \n",
      "..                     ...                 ...             ...   \n",
      "571                    1.0                 0.3              10   \n",
      "572                    1.0                 0.3              10   \n",
      "573                    1.0                 0.3              10   \n",
      "574                    1.0                 0.3              10   \n",
      "575                    1.0                 0.3              10   \n",
      "\n",
      "    param_n_estimators param_subsample  \\\n",
      "0                   50             0.8   \n",
      "1                   50             0.9   \n",
      "2                   50             1.0   \n",
      "3                  100             0.8   \n",
      "4                  100             0.9   \n",
      "..                 ...             ...   \n",
      "571                200             0.9   \n",
      "572                200             1.0   \n",
      "573                300             0.8   \n",
      "574                300             0.9   \n",
      "575                300             1.0   \n",
      "\n",
      "                                                params  split0_test_score  \\\n",
      "0    {'colsample_bytree': 0.8, 'learning_rate': 0.0...       -7239.679857   \n",
      "1    {'colsample_bytree': 0.8, 'learning_rate': 0.0...       -7247.649617   \n",
      "2    {'colsample_bytree': 0.8, 'learning_rate': 0.0...       -7265.912058   \n",
      "3    {'colsample_bytree': 0.8, 'learning_rate': 0.0...       -5645.774344   \n",
      "4    {'colsample_bytree': 0.8, 'learning_rate': 0.0...       -5662.341761   \n",
      "..                                                 ...                ...   \n",
      "571  {'colsample_bytree': 1.0, 'learning_rate': 0.3...       -5867.960854   \n",
      "572  {'colsample_bytree': 1.0, 'learning_rate': 0.3...       -5790.339555   \n",
      "573  {'colsample_bytree': 1.0, 'learning_rate': 0.3...       -6113.258616   \n",
      "574  {'colsample_bytree': 1.0, 'learning_rate': 0.3...       -5867.907297   \n",
      "575  {'colsample_bytree': 1.0, 'learning_rate': 0.3...       -5791.770287   \n",
      "\n",
      "     split1_test_score  split2_test_score  split3_test_score  \\\n",
      "0         -9057.390509      -10621.247435       -9518.836361   \n",
      "1         -9048.043694      -10664.613425       -9515.494243   \n",
      "2         -9058.617307      -10625.649222       -9521.712729   \n",
      "3         -6866.954917       -7048.002009       -5624.159482   \n",
      "4         -6870.576302       -7071.340794       -5633.555626   \n",
      "..                 ...                ...                ...   \n",
      "571       -5842.455821       -5445.811391       -3241.906352   \n",
      "572       -5644.283368       -5200.359173       -3300.485310   \n",
      "573       -5662.124518       -5492.400540       -3312.547938   \n",
      "574       -5843.874588       -5451.584733       -3244.559254   \n",
      "575       -5644.008883       -5208.228177       -3297.099276   \n",
      "\n",
      "     split4_test_score  mean_test_score  std_test_score  rank_test_score  \n",
      "0         -8373.936536     -8962.218140     1129.997629              574  \n",
      "1         -8374.432744     -8970.046745     1139.873733              576  \n",
      "2         -8367.741142     -8967.926492     1124.279704              575  \n",
      "3         -5162.989632     -6069.576077      747.399914              533  \n",
      "4         -5154.902709     -6078.543438      753.301113              537  \n",
      "..                 ...              ...             ...              ...  \n",
      "571       -3373.254254     -4754.277735     1191.396952              393  \n",
      "572       -3316.567711     -4650.407023     1112.753313              363  \n",
      "573       -3371.572284     -4790.380779     1199.981843              412  \n",
      "574       -3376.403793     -4756.865933     1190.914116              396  \n",
      "575       -3317.111002     -4651.643525     1114.471327              364  \n",
      "\n",
      "[576 rows x 18 columns]\n"
     ]
    }
   ],
   "source": [
    "# Collect hyperparameter tuning results into a DataFrame\n",
    "grid_search_results = pd.DataFrame(grid_search.cv_results_)\n",
    "\n",
    "# Display the DataFrame\n",
    "print(grid_search_results)"
   ]
  },
  {
   "cell_type": "markdown",
   "metadata": {},
   "source": [
    "### Choosing the Winning Combination\n",
    "**Setting Up for the Final Showdown**\n",
    "- Armed with the best hyperparameters from my grid search arsenal, I put my XGBoost through one more drill, this time with the winning settings. \n",
    "- After it crunched the numbers, it was showtime on the test set. \n",
    "- The RMSE score was the drumroll, leading up to the grand reveal of how much my model had learned. And there, in the spotlight, were the hyperparameters that had made it all possible, the champions of my optimization quest."
   ]
  },
  {
   "cell_type": "code",
   "execution_count": 18,
   "metadata": {},
   "outputs": [
    {
     "name": "stdout",
     "output_type": "stream",
     "text": [
      "Tuned Model RMSE on Test Set: 45.18629145757474\n",
      "Best Parameter\n"
     ]
    },
    {
     "data": {
      "text/plain": [
       "{'colsample_bytree': 0.9,\n",
       " 'learning_rate': 0.1,\n",
       " 'max_depth': 3,\n",
       " 'n_estimators': 50,\n",
       " 'subsample': 1.0}"
      ]
     },
     "execution_count": 18,
     "metadata": {},
     "output_type": "execute_result"
    }
   ],
   "source": [
    "# Get the best hyperparameters\n",
    "best_params = grid_search.best_params_\n",
    "\n",
    "# Train the model with the best hyperparameters on the training data\n",
    "best_model = xgb.XGBRegressor(**best_params)\n",
    "best_model.fit(X_train, y_train)\n",
    "\n",
    "# Make predictions on the train set\n",
    "y_train_pred = best_model.predict(X_train)\n",
    "\n",
    "# Make predictions on the test set\n",
    "y_test_pred = best_model.predict(X_test)\n",
    "\n",
    "# Evaluate the tuned model on the test set\n",
    "rmse_tuned = mean_squared_error(y_test, y_test_pred, squared=False)\n",
    "print(f\"Tuned Model RMSE on Test Set: {rmse_tuned}\")\n",
    "\n",
    "print(\"Best Parameter\")\n",
    "best_params"
   ]
  },
  {
   "cell_type": "code",
   "execution_count": 19,
   "metadata": {},
   "outputs": [
    {
     "name": "stdout",
     "output_type": "stream",
     "text": [
      "Tuned Model R-squared on Training Set: 0.80\n",
      "Tuned Model R-squared on Test Set: 0.82\n"
     ]
    }
   ],
   "source": [
    "# Evaluate R-squared on the training set\n",
    "r2_train_tuned = r2_score(y_train, y_train_pred)\n",
    "print(f\"Tuned Model R-squared on Training Set: {r2_train_tuned:.2f}\")\n",
    "\n",
    "r2_test_tuned = r2_score(y_test, y_test_pred)\n",
    "print(f\"Tuned Model R-squared on Test Set: {r2_test_tuned:.2f}\")"
   ]
  },
  {
   "cell_type": "markdown",
   "metadata": {},
   "source": [
    "### Scoreboard: The Battle of R-squared\n",
    "**A Tale of Two Models**\n",
    "It was a close race between my baseline and the new, tuned-up XGBoost models – both flexing a solid 0.80 R-squared on the training grounds. But the test set was the real battleground, and my tuned model clinched it by a hair, boasting an R-squared of 0.82 over the baseline's 0.81. That tiny uptick was a victory dance, showing that a little tweak here and there could indeed teach my model new tricks for the future."
   ]
  },
  {
   "cell_type": "markdown",
   "metadata": {},
   "source": [
    "### The Art of Prediction: Plotting Accuracy\n",
    "**XGBoost's Moment of Truth**\n",
    "- I painted a scatter plot to capture the dance between the actual and predicted values. \n",
    "- Each point was a step, a move that either followed the rhythm or missed the beat. \n",
    "- The red dashed line was the dream—a perfect harmony of predictions and reality. \n",
    "- This visual was more than just a pretty picture; it was a window into how well my XGBoost model had learned to echo the true patterns of the data."
   ]
  },
  {
   "cell_type": "code",
   "execution_count": 20,
   "metadata": {},
   "outputs": [
    {
     "data": {
      "image/png": "[encoded data removed]",
      "text/plain": [
       "<Figure size 1000x600 with 1 Axes>"
      ]
     },
     "metadata": {},
     "output_type": "display_data"
    }
   ],
   "source": [
    "# Plotting actual vs predicted\n",
    "plt.figure(figsize=(10, 6))\n",
    "sns.scatterplot(x=y_test, y=y_test_pred, alpha=0.5)\n",
    "plt.title('Actual vs Predicted Values')\n",
    "plt.xlabel('Actual Values')\n",
    "plt.ylabel('Predicted Values')\n",
    "\n",
    "# Plotting a diagonal line for reference\n",
    "plt.plot([min(y_test), max(y_test)], [min(y_test), max(y_test)], linestyle='--', color='red', linewidth=2)\n",
    "\n",
    "plt.show()"
   ]
  },
  {
   "cell_type": "markdown",
   "metadata": {},
   "source": [
    "### Picturing the Prediction Dance\n",
    "**Where Predictions Meet Reality**\n",
    "### Smoothed Time Series Visualization\n",
    "- I turned the hourly predictions and actuals of my time series into Pandas Series, marked by the days of March 2022(for test set only). \n",
    "- By resampling these to a daily mean, I smoothed the hourly noise into clear daily trends. This wasn't just for looks; the daily aggregation reveals a more coherent story, mirroring the natural flow of life's patterns. \n",
    "- With this, I plotted the actual against the predicted values, side by side, on a clean graph that let their dance shine without the clutter of grid lines. \n",
    "- This visualization isn't just a chart; it's the narrative of my model's ability to echo the rhythms of the days."
   ]
  },
  {
   "cell_type": "code",
   "execution_count": 21,
   "metadata": {},
   "outputs": [
    {
     "data": {
      "application/vnd.plotly.v1+json": {
       "config": {
        "plotlyServerURL": "https://plot.ly"
       },
       "data": [
        {
         "mode": "lines",
         "name": "Actual",
         "type": "scatter",
         "x": [
          "2022-03-01T00:00:00",
          "2022-03-02T00:00:00",
          "2022-03-03T00:00:00",
          "2022-03-04T00:00:00",
          "2022-03-05T00:00:00",
          "2022-03-06T00:00:00",
          "2022-03-07T00:00:00",
          "2022-03-08T00:00:00",
          "2022-03-09T00:00:00",
          "2022-03-10T00:00:00",
          "2022-03-11T00:00:00",
          "2022-03-12T00:00:00",
          "2022-03-13T00:00:00",
          "2022-03-14T00:00:00",
          "2022-03-15T00:00:00",
          "2022-03-16T00:00:00",
          "2022-03-17T00:00:00",
          "2022-03-18T00:00:00",
          "2022-03-19T00:00:00",
          "2022-03-20T00:00:00",
          "2022-03-21T00:00:00",
          "2022-03-22T00:00:00",
          "2022-03-23T00:00:00",
          "2022-03-24T00:00:00",
          "2022-03-25T00:00:00",
          "2022-03-26T00:00:00",
          "2022-03-27T00:00:00",
          "2022-03-28T00:00:00",
          "2022-03-29T00:00:00",
          "2022-03-30T00:00:00",
          "2022-03-31T00:00:00",
          "2022-04-01T00:00:00",
          "2022-04-02T00:00:00",
          "2022-04-03T00:00:00",
          "2022-04-04T00:00:00",
          "2022-04-05T00:00:00",
          "2022-04-06T00:00:00",
          "2022-04-07T00:00:00",
          "2022-04-08T00:00:00",
          "2022-04-09T00:00:00",
          "2022-04-10T00:00:00",
          "2022-04-11T00:00:00",
          "2022-04-12T00:00:00",
          "2022-04-13T00:00:00",
          "2022-04-14T00:00:00",
          "2022-04-15T00:00:00",
          "2022-04-16T00:00:00",
          "2022-04-17T00:00:00",
          "2022-04-18T00:00:00",
          "2022-04-19T00:00:00",
          "2022-04-20T00:00:00",
          "2022-04-21T00:00:00",
          "2022-04-22T00:00:00",
          "2022-04-23T00:00:00",
          "2022-04-24T00:00:00",
          "2022-04-25T00:00:00",
          "2022-04-26T00:00:00",
          "2022-04-27T00:00:00",
          "2022-04-28T00:00:00",
          "2022-04-29T00:00:00",
          "2022-04-30T00:00:00",
          "2022-05-01T00:00:00",
          "2022-05-02T00:00:00",
          "2022-05-03T00:00:00",
          "2022-05-04T00:00:00",
          "2022-05-05T00:00:00",
          "2022-05-06T00:00:00",
          "2022-05-07T00:00:00",
          "2022-05-08T00:00:00",
          "2022-05-09T00:00:00",
          "2022-05-10T00:00:00",
          "2022-05-11T00:00:00",
          "2022-05-12T00:00:00",
          "2022-05-13T00:00:00",
          "2022-05-14T00:00:00",
          "2022-05-15T00:00:00",
          "2022-05-16T00:00:00",
          "2022-05-17T00:00:00",
          "2022-05-18T00:00:00",
          "2022-05-19T00:00:00",
          "2022-05-20T00:00:00",
          "2022-05-21T00:00:00",
          "2022-05-22T00:00:00",
          "2022-05-23T00:00:00",
          "2022-05-24T00:00:00",
          "2022-05-25T00:00:00",
          "2022-05-26T00:00:00",
          "2022-05-27T00:00:00",
          "2022-05-28T00:00:00",
          "2022-05-29T00:00:00",
          "2022-05-30T00:00:00",
          "2022-05-31T00:00:00",
          "2022-06-01T00:00:00",
          "2022-06-02T00:00:00",
          "2022-06-03T00:00:00",
          "2022-06-04T00:00:00",
          "2022-06-05T00:00:00",
          "2022-06-06T00:00:00",
          "2022-06-07T00:00:00",
          "2022-06-08T00:00:00",
          "2022-06-09T00:00:00",
          "2022-06-10T00:00:00",
          "2022-06-11T00:00:00",
          "2022-06-12T00:00:00",
          "2022-06-13T00:00:00",
          "2022-06-14T00:00:00",
          "2022-06-15T00:00:00",
          "2022-06-16T00:00:00",
          "2022-06-17T00:00:00",
          "2022-06-18T00:00:00",
          "2022-06-19T00:00:00",
          "2022-06-20T00:00:00",
          "2022-06-21T00:00:00",
          "2022-06-22T00:00:00",
          "2022-06-23T00:00:00",
          "2022-06-24T00:00:00",
          "2022-06-25T00:00:00",
          "2022-06-26T00:00:00",
          "2022-06-27T00:00:00",
          "2022-06-28T00:00:00",
          "2022-06-29T00:00:00",
          "2022-06-30T00:00:00",
          "2022-07-01T00:00:00",
          "2022-07-02T00:00:00",
          "2022-07-03T00:00:00",
          "2022-07-04T00:00:00",
          "2022-07-05T00:00:00",
          "2022-07-06T00:00:00",
          "2022-07-07T00:00:00",
          "2022-07-08T00:00:00",
          "2022-07-09T00:00:00",
          "2022-07-10T00:00:00",
          "2022-07-11T00:00:00",
          "2022-07-12T00:00:00",
          "2022-07-13T00:00:00",
          "2022-07-14T00:00:00",
          "2022-07-15T00:00:00",
          "2022-07-16T00:00:00",
          "2022-07-17T00:00:00",
          "2022-07-18T00:00:00",
          "2022-07-19T00:00:00",
          "2022-07-20T00:00:00",
          "2022-07-21T00:00:00",
          "2022-07-22T00:00:00",
          "2022-07-23T00:00:00",
          "2022-07-24T00:00:00",
          "2022-07-25T00:00:00",
          "2022-07-26T00:00:00",
          "2022-07-27T00:00:00",
          "2022-07-28T00:00:00",
          "2022-07-29T00:00:00",
          "2022-07-30T00:00:00",
          "2022-07-31T00:00:00",
          "2022-08-01T00:00:00",
          "2022-08-02T00:00:00",
          "2022-08-03T00:00:00",
          "2022-08-04T00:00:00",
          "2022-08-05T00:00:00",
          "2022-08-06T00:00:00",
          "2022-08-07T00:00:00",
          "2022-08-08T00:00:00",
          "2022-08-09T00:00:00",
          "2022-08-10T00:00:00",
          "2022-08-11T00:00:00",
          "2022-08-12T00:00:00",
          "2022-08-13T00:00:00",
          "2022-08-14T00:00:00",
          "2022-08-15T00:00:00",
          "2022-08-16T00:00:00",
          "2022-08-17T00:00:00",
          "2022-08-18T00:00:00",
          "2022-08-19T00:00:00",
          "2022-08-20T00:00:00",
          "2022-08-21T00:00:00",
          "2022-08-22T00:00:00",
          "2022-08-23T00:00:00",
          "2022-08-24T00:00:00",
          "2022-08-25T00:00:00",
          "2022-08-26T00:00:00",
          "2022-08-27T00:00:00",
          "2022-08-28T00:00:00",
          "2022-08-29T00:00:00",
          "2022-08-30T00:00:00",
          "2022-08-31T00:00:00",
          "2022-09-01T00:00:00",
          "2022-09-02T00:00:00",
          "2022-09-03T00:00:00",
          "2022-09-04T00:00:00",
          "2022-09-05T00:00:00",
          "2022-09-06T00:00:00",
          "2022-09-07T00:00:00",
          "2022-09-08T00:00:00",
          "2022-09-09T00:00:00",
          "2022-09-10T00:00:00",
          "2022-09-11T00:00:00",
          "2022-09-12T00:00:00",
          "2022-09-13T00:00:00",
          "2022-09-14T00:00:00",
          "2022-09-15T00:00:00",
          "2022-09-16T00:00:00",
          "2022-09-17T00:00:00",
          "2022-09-18T00:00:00",
          "2022-09-19T00:00:00",
          "2022-09-20T00:00:00",
          "2022-09-21T00:00:00",
          "2022-09-22T00:00:00",
          "2022-09-23T00:00:00",
          "2022-09-24T00:00:00",
          "2022-09-25T00:00:00",
          "2022-09-26T00:00:00",
          "2022-09-27T00:00:00",
          "2022-09-28T00:00:00",
          "2022-09-29T00:00:00",
          "2022-09-30T00:00:00",
          "2022-10-01T00:00:00",
          "2022-10-02T00:00:00",
          "2022-10-03T00:00:00",
          "2022-10-04T00:00:00",
          "2022-10-05T00:00:00",
          "2022-10-06T00:00:00",
          "2022-10-07T00:00:00",
          "2022-10-08T00:00:00",
          "2022-10-09T00:00:00",
          "2022-10-10T00:00:00",
          "2022-10-11T00:00:00",
          "2022-10-12T00:00:00",
          "2022-10-13T00:00:00",
          "2022-10-14T00:00:00",
          "2022-10-15T00:00:00",
          "2022-10-16T00:00:00",
          "2022-10-17T00:00:00",
          "2022-10-18T00:00:00",
          "2022-10-19T00:00:00",
          "2022-10-20T00:00:00",
          "2022-10-21T00:00:00",
          "2022-10-22T00:00:00",
          "2022-10-23T00:00:00",
          "2022-10-24T00:00:00",
          "2022-10-25T00:00:00",
          "2022-10-26T00:00:00",
          "2022-10-27T00:00:00",
          "2022-10-28T00:00:00",
          "2022-10-29T00:00:00",
          "2022-10-30T00:00:00",
          "2022-10-31T00:00:00",
          "2022-11-01T00:00:00",
          "2022-11-02T00:00:00",
          "2022-11-03T00:00:00",
          "2022-11-04T00:00:00",
          "2022-11-05T00:00:00",
          "2022-11-06T00:00:00",
          "2022-11-07T00:00:00",
          "2022-11-08T00:00:00",
          "2022-11-09T00:00:00",
          "2022-11-10T00:00:00",
          "2022-11-11T00:00:00",
          "2022-11-12T00:00:00",
          "2022-11-13T00:00:00",
          "2022-11-14T00:00:00",
          "2022-11-15T00:00:00",
          "2022-11-16T00:00:00",
          "2022-11-17T00:00:00",
          "2022-11-18T00:00:00",
          "2022-11-19T00:00:00",
          "2022-11-20T00:00:00",
          "2022-11-21T00:00:00",
          "2022-11-22T00:00:00",
          "2022-11-23T00:00:00",
          "2022-11-24T00:00:00",
          "2022-11-25T00:00:00",
          "2022-11-26T00:00:00",
          "2022-11-27T00:00:00",
          "2022-11-28T00:00:00",
          "2022-11-29T00:00:00",
          "2022-11-30T00:00:00",
          "2022-12-01T00:00:00",
          "2022-12-02T00:00:00",
          "2022-12-03T00:00:00",
          "2022-12-04T00:00:00",
          "2022-12-05T00:00:00",
          "2022-12-06T00:00:00",
          "2022-12-07T00:00:00",
          "2022-12-08T00:00:00",
          "2022-12-09T00:00:00",
          "2022-12-10T00:00:00",
          "2022-12-11T00:00:00",
          "2022-12-12T00:00:00",
          "2022-12-13T00:00:00",
          "2022-12-14T00:00:00",
          "2022-12-15T00:00:00",
          "2022-12-16T00:00:00",
          "2022-12-17T00:00:00",
          "2022-12-18T00:00:00",
          "2022-12-19T00:00:00",
          "2022-12-20T00:00:00",
          "2022-12-21T00:00:00",
          "2022-12-22T00:00:00",
          "2022-12-23T00:00:00",
          "2022-12-24T00:00:00",
          "2022-12-25T00:00:00",
          "2022-12-26T00:00:00",
          "2022-12-27T00:00:00",
          "2022-12-28T00:00:00",
          "2022-12-29T00:00:00",
          "2022-12-30T00:00:00",
          "2022-12-31T00:00:00",
          "2023-01-01T00:00:00",
          "2023-01-02T00:00:00",
          "2023-01-03T00:00:00",
          "2023-01-04T00:00:00",
          "2023-01-05T00:00:00",
          "2023-01-06T00:00:00",
          "2023-01-07T00:00:00",
          "2023-01-08T00:00:00",
          "2023-01-09T00:00:00",
          "2023-01-10T00:00:00",
          "2023-01-11T00:00:00",
          "2023-01-12T00:00:00",
          "2023-01-13T00:00:00",
          "2023-01-14T00:00:00",
          "2023-01-15T00:00:00",
          "2023-01-16T00:00:00",
          "2023-01-17T00:00:00",
          "2023-01-18T00:00:00",
          "2023-01-19T00:00:00",
          "2023-01-20T00:00:00",
          "2023-01-21T00:00:00",
          "2023-01-22T00:00:00",
          "2023-01-23T00:00:00",
          "2023-01-24T00:00:00",
          "2023-01-25T00:00:00",
          "2023-01-26T00:00:00",
          "2023-01-27T00:00:00",
          "2023-01-28T00:00:00",
          "2023-01-29T00:00:00",
          "2023-01-30T00:00:00",
          "2023-01-31T00:00:00",
          "2023-02-01T00:00:00",
          "2023-02-02T00:00:00",
          "2023-02-03T00:00:00",
          "2023-02-04T00:00:00",
          "2023-02-05T00:00:00",
          "2023-02-06T00:00:00",
          "2023-02-07T00:00:00",
          "2023-02-08T00:00:00",
          "2023-02-09T00:00:00",
          "2023-02-10T00:00:00",
          "2023-02-11T00:00:00",
          "2023-02-12T00:00:00",
          "2023-02-13T00:00:00",
          "2023-02-14T00:00:00",
          "2023-02-15T00:00:00",
          "2023-02-16T00:00:00",
          "2023-02-17T00:00:00",
          "2023-02-18T00:00:00",
          "2023-02-19T00:00:00",
          "2023-02-20T00:00:00",
          "2023-02-21T00:00:00",
          "2023-02-22T00:00:00",
          "2023-02-23T00:00:00",
          "2023-02-24T00:00:00",
          "2023-02-25T00:00:00",
          "2023-02-26T00:00:00",
          "2023-02-27T00:00:00",
          "2023-02-28T00:00:00",
          "2023-03-01T00:00:00",
          "2023-03-02T00:00:00",
          "2023-03-03T00:00:00",
          "2023-03-04T00:00:00",
          "2023-03-05T00:00:00",
          "2023-03-06T00:00:00",
          "2023-03-07T00:00:00",
          "2023-03-08T00:00:00",
          "2023-03-09T00:00:00",
          "2023-03-10T00:00:00",
          "2023-03-11T00:00:00",
          "2023-03-12T00:00:00",
          "2023-03-13T00:00:00",
          "2023-03-14T00:00:00",
          "2023-03-15T00:00:00",
          "2023-03-16T00:00:00",
          "2023-03-17T00:00:00",
          "2023-03-18T00:00:00",
          "2023-03-19T00:00:00",
          "2023-03-20T00:00:00",
          "2023-03-21T00:00:00",
          "2023-03-22T00:00:00",
          "2023-03-23T00:00:00",
          "2023-03-24T00:00:00",
          "2023-03-25T00:00:00",
          "2023-03-26T00:00:00",
          "2023-03-27T00:00:00",
          "2023-03-28T00:00:00",
          "2023-03-29T00:00:00"
         ],
         "y": [
          231.375,
          191.125,
          187.125,
          117.5,
          141.79166666666666,
          260.6666666666667,
          309.875,
          185.41666666666666,
          142.58333333333334,
          152.29166666666666,
          151,
          174.95833333333334,
          264.4166666666667,
          299.0416666666667,
          243.58333333333334,
          222.5,
          316.9583333333333,
          268.1666666666667,
          268.875,
          285.375,
          220.58333333333334,
          198.75,
          290.5416666666667,
          218.08333333333334,
          191.125,
          188.125,
          241.16666666666666,
          283.75,
          296.25,
          311.75,
          238.25,
          216.25,
          255.45833333333334,
          264.625,
          242.79166666666666,
          267.4166666666667,
          303.7083333333333,
          270,
          269.0833333333333,
          259.1666666666667,
          262.5833333333333,
          233.875,
          270.75,
          281.75,
          209.79166666666666,
          234.33333333333334,
          252.625,
          245.04166666666666,
          323.625,
          281.5,
          293.9166666666667,
          247.66666666666666,
          236.5,
          289.8333333333333,
          260.3333333333333,
          199.54166666666666,
          302.25,
          332.2916666666667,
          325.0416666666667,
          312.625,
          252.91666666666666,
          216.83333333333334,
          215.58333333333334,
          266.0416666666667,
          146.04166666666666,
          259.0833333333333,
          206.625,
          194.16666666666666,
          156.83333333333334,
          142.5,
          137.16666666666666,
          144.33333333333334,
          159.875,
          256.9166666666667,
          245.75,
          285.7083333333333,
          257.2083333333333,
          223.41666666666666,
          194.75,
          244.04166666666666,
          288.5416666666667,
          208.04166666666666,
          139.45833333333334,
          77.91666666666667,
          138.5,
          188.25,
          206.83333333333334,
          191.16666666666666,
          265.875,
          195.58333333333334,
          192.41666666666666,
          329.1666666666667,
          200.625,
          235.5,
          222.75,
          206.75,
          189.20833333333334,
          248.875,
          375.25,
          255.625,
          277.4166666666667,
          271.4166666666667,
          250.25,
          199.29166666666666,
          198.54166666666666,
          159.41666666666666,
          128.875,
          96.54166666666667,
          78.04166666666667,
          96.41666666666667,
          113.75,
          122.75,
          124.45833333333333,
          137.83333333333334,
          174.91666666666666,
          203.54166666666666,
          169.83333333333334,
          126,
          130.125,
          152.66666666666666,
          126.20833333333333,
          83.83333333333333,
          97.91666666666667,
          83.95833333333333,
          107.875,
          144.70833333333334,
          106.75,
          106,
          95.125,
          105.70833333333333,
          82.75,
          87.70833333333333,
          102.29166666666667,
          85.66666666666667,
          95.29166666666667,
          92.79166666666667,
          91.83333333333333,
          79.54166666666667,
          94.41666666666667,
          107.5,
          115.83333333333333,
          120.20833333333333,
          129.33333333333334,
          122.95833333333333,
          124.58333333333333,
          118.20833333333333,
          103.75,
          113,
          95.875,
          127.375,
          118.16666666666667,
          111.04166666666667,
          112.45833333333333,
          116.5,
          118.20833333333333,
          111.91666666666667,
          78.33333333333333,
          88.16666666666667,
          106.33333333333333,
          78.83333333333333,
          109.41666666666667,
          90.70833333333333,
          67.29166666666667,
          67.375,
          67.625,
          72.75,
          57.375,
          51.625,
          55.583333333333336,
          56.541666666666664,
          68.08333333333333,
          75.125,
          107.29166666666667,
          105.75,
          80,
          58.958333333333336,
          77.66666666666667,
          111,
          103.20833333333333,
          114.625,
          134.125,
          118.20833333333333,
          120.58333333333333,
          120.04166666666667,
          112.375,
          117,
          101.04166666666667,
          93.20833333333333,
          112.16666666666667,
          118.16666666666667,
          127.25,
          128.25,
          109.33333333333333,
          86.45833333333333,
          79.54166666666667,
          73.875,
          61,
          50.541666666666664,
          32.291666666666664,
          63.083333333333336,
          107.83333333333333,
          157.5,
          135.91666666666666,
          104.20833333333333,
          67.33333333333333,
          44.416666666666664,
          55.875,
          66.25,
          99.54166666666667,
          106.91666666666667,
          130.375,
          143.45833333333334,
          151.29166666666666,
          175.29166666666666,
          165.70833333333334,
          129.95833333333334,
          132.20833333333334,
          188.75,
          107.45833333333333,
          74.91666666666667,
          91.375,
          92.375,
          27.625,
          50.541666666666664,
          118.5,
          127.375,
          138.95833333333334,
          170.875,
          233.66666666666666,
          256.75,
          263.0416666666667,
          257.2083333333333,
          243.20833333333334,
          291.7083333333333,
          299.9166666666667,
          286.1666666666667,
          325.1666666666667,
          364.9166666666667,
          302.0416666666667,
          346.75,
          359.9166666666667,
          394.625,
          367.0416666666667,
          391.2083333333333,
          460.1666666666667,
          383.625,
          532,
          542.5833333333334,
          408.875,
          345.375,
          354.9583333333333,
          372.9166666666667,
          323.8333333333333,
          318.375,
          369.2916666666667,
          353.125,
          330.0416666666667,
          324.5416666666667,
          263.5,
          294.8333333333333,
          308.4166666666667,
          321.3333333333333,
          320.6666666666667,
          330.4166666666667,
          328.5833333333333,
          299.5416666666667,
          261.4583333333333,
          228.25,
          313.75,
          341.9583333333333,
          342.7083333333333,
          352.0833333333333,
          376.3333333333333,
          371.7916666666667,
          370.3333333333333,
          364.0416666666667,
          374.7083333333333,
          413.6666666666667,
          365.9166666666667,
          352.3333333333333,
          325.9583333333333,
          310.6666666666667,
          332.1666666666667,
          362.2916666666667,
          337.5416666666667,
          253.91666666666666,
          183.54166666666666,
          152.16666666666666,
          197,
          232.08333333333334,
          329.125,
          360.5833333333333,
          417.9583333333333,
          381.2083333333333,
          348.4583333333333,
          355,
          364.375,
          359.8333333333333,
          323.375,
          343.3333333333333,
          352.4166666666667,
          333.1666666666667,
          329.2916666666667,
          395,
          376.7083333333333,
          305.3333333333333,
          359.0416666666667,
          387.125,
          363.5833333333333,
          353.0833333333333,
          396.5833333333333,
          402.3333333333333,
          382.0833333333333,
          463.2916666666667,
          457.375,
          348.4166666666667,
          363.2916666666667,
          369.6666666666667,
          355.6666666666667,
          260.25,
          297.8333333333333,
          322.625,
          341.6666666666667,
          361.1666666666667,
          296.2916666666667,
          282.7083333333333,
          406.625,
          362.0416666666667,
          302.6666666666667,
          161.04166666666666,
          305.7916666666667,
          264.125,
          244.875,
          337.4583333333333,
          257.3333333333333,
          201,
          160.95833333333334,
          191.45833333333334,
          204.16666666666666,
          286.2083333333333,
          265,
          304.0833333333333,
          315.7916666666667,
          166.04166666666666,
          202.95833333333334,
          186.29166666666666,
          289.8333333333333,
          212.125,
          129.33333333333334,
          133.95833333333334,
          172.66666666666666,
          273.5,
          369.25,
          377.125,
          345.25,
          342.4166666666667,
          284.375,
          316.2083333333333,
          262,
          155.33333333333334,
          229.95833333333334,
          311.0416666666667,
          306.375,
          242.95833333333334,
          178.83333333333334,
          212.45833333333334,
          151.95833333333334,
          124.91666666666667,
          134.45833333333334,
          125.375,
          162.625,
          267.0833333333333,
          137.375,
          173.16666666666666,
          213.91666666666666,
          209.29166666666666,
          249.25,
          247.83333333333334,
          217.04166666666666,
          272.25,
          184.125,
          190.91666666666666,
          145.79166666666666,
          149.41666666666666,
          77.91666666666667,
          135.70833333333334,
          148.83333333333334,
          193.25,
          102.16666666666667,
          140.95833333333334,
          139.08333333333334,
          135.58333333333334,
          178.79166666666666,
          157.70833333333334
         ]
        },
        {
         "mode": "lines",
         "name": "Predicted",
         "type": "scatter",
         "x": [
          "2022-03-01T00:00:00",
          "2022-03-02T00:00:00",
          "2022-03-03T00:00:00",
          "2022-03-04T00:00:00",
          "2022-03-05T00:00:00",
          "2022-03-06T00:00:00",
          "2022-03-07T00:00:00",
          "2022-03-08T00:00:00",
          "2022-03-09T00:00:00",
          "2022-03-10T00:00:00",
          "2022-03-11T00:00:00",
          "2022-03-12T00:00:00",
          "2022-03-13T00:00:00",
          "2022-03-14T00:00:00",
          "2022-03-15T00:00:00",
          "2022-03-16T00:00:00",
          "2022-03-17T00:00:00",
          "2022-03-18T00:00:00",
          "2022-03-19T00:00:00",
          "2022-03-20T00:00:00",
          "2022-03-21T00:00:00",
          "2022-03-22T00:00:00",
          "2022-03-23T00:00:00",
          "2022-03-24T00:00:00",
          "2022-03-25T00:00:00",
          "2022-03-26T00:00:00",
          "2022-03-27T00:00:00",
          "2022-03-28T00:00:00",
          "2022-03-29T00:00:00",
          "2022-03-30T00:00:00",
          "2022-03-31T00:00:00",
          "2022-04-01T00:00:00",
          "2022-04-02T00:00:00",
          "2022-04-03T00:00:00",
          "2022-04-04T00:00:00",
          "2022-04-05T00:00:00",
          "2022-04-06T00:00:00",
          "2022-04-07T00:00:00",
          "2022-04-08T00:00:00",
          "2022-04-09T00:00:00",
          "2022-04-10T00:00:00",
          "2022-04-11T00:00:00",
          "2022-04-12T00:00:00",
          "2022-04-13T00:00:00",
          "2022-04-14T00:00:00",
          "2022-04-15T00:00:00",
          "2022-04-16T00:00:00",
          "2022-04-17T00:00:00",
          "2022-04-18T00:00:00",
          "2022-04-19T00:00:00",
          "2022-04-20T00:00:00",
          "2022-04-21T00:00:00",
          "2022-04-22T00:00:00",
          "2022-04-23T00:00:00",
          "2022-04-24T00:00:00",
          "2022-04-25T00:00:00",
          "2022-04-26T00:00:00",
          "2022-04-27T00:00:00",
          "2022-04-28T00:00:00",
          "2022-04-29T00:00:00",
          "2022-04-30T00:00:00",
          "2022-05-01T00:00:00",
          "2022-05-02T00:00:00",
          "2022-05-03T00:00:00",
          "2022-05-04T00:00:00",
          "2022-05-05T00:00:00",
          "2022-05-06T00:00:00",
          "2022-05-07T00:00:00",
          "2022-05-08T00:00:00",
          "2022-05-09T00:00:00",
          "2022-05-10T00:00:00",
          "2022-05-11T00:00:00",
          "2022-05-12T00:00:00",
          "2022-05-13T00:00:00",
          "2022-05-14T00:00:00",
          "2022-05-15T00:00:00",
          "2022-05-16T00:00:00",
          "2022-05-17T00:00:00",
          "2022-05-18T00:00:00",
          "2022-05-19T00:00:00",
          "2022-05-20T00:00:00",
          "2022-05-21T00:00:00",
          "2022-05-22T00:00:00",
          "2022-05-23T00:00:00",
          "2022-05-24T00:00:00",
          "2022-05-25T00:00:00",
          "2022-05-26T00:00:00",
          "2022-05-27T00:00:00",
          "2022-05-28T00:00:00",
          "2022-05-29T00:00:00",
          "2022-05-30T00:00:00",
          "2022-05-31T00:00:00",
          "2022-06-01T00:00:00",
          "2022-06-02T00:00:00",
          "2022-06-03T00:00:00",
          "2022-06-04T00:00:00",
          "2022-06-05T00:00:00",
          "2022-06-06T00:00:00",
          "2022-06-07T00:00:00",
          "2022-06-08T00:00:00",
          "2022-06-09T00:00:00",
          "2022-06-10T00:00:00",
          "2022-06-11T00:00:00",
          "2022-06-12T00:00:00",
          "2022-06-13T00:00:00",
          "2022-06-14T00:00:00",
          "2022-06-15T00:00:00",
          "2022-06-16T00:00:00",
          "2022-06-17T00:00:00",
          "2022-06-18T00:00:00",
          "2022-06-19T00:00:00",
          "2022-06-20T00:00:00",
          "2022-06-21T00:00:00",
          "2022-06-22T00:00:00",
          "2022-06-23T00:00:00",
          "2022-06-24T00:00:00",
          "2022-06-25T00:00:00",
          "2022-06-26T00:00:00",
          "2022-06-27T00:00:00",
          "2022-06-28T00:00:00",
          "2022-06-29T00:00:00",
          "2022-06-30T00:00:00",
          "2022-07-01T00:00:00",
          "2022-07-02T00:00:00",
          "2022-07-03T00:00:00",
          "2022-07-04T00:00:00",
          "2022-07-05T00:00:00",
          "2022-07-06T00:00:00",
          "2022-07-07T00:00:00",
          "2022-07-08T00:00:00",
          "2022-07-09T00:00:00",
          "2022-07-10T00:00:00",
          "2022-07-11T00:00:00",
          "2022-07-12T00:00:00",
          "2022-07-13T00:00:00",
          "2022-07-14T00:00:00",
          "2022-07-15T00:00:00",
          "2022-07-16T00:00:00",
          "2022-07-17T00:00:00",
          "2022-07-18T00:00:00",
          "2022-07-19T00:00:00",
          "2022-07-20T00:00:00",
          "2022-07-21T00:00:00",
          "2022-07-22T00:00:00",
          "2022-07-23T00:00:00",
          "2022-07-24T00:00:00",
          "2022-07-25T00:00:00",
          "2022-07-26T00:00:00",
          "2022-07-27T00:00:00",
          "2022-07-28T00:00:00",
          "2022-07-29T00:00:00",
          "2022-07-30T00:00:00",
          "2022-07-31T00:00:00",
          "2022-08-01T00:00:00",
          "2022-08-02T00:00:00",
          "2022-08-03T00:00:00",
          "2022-08-04T00:00:00",
          "2022-08-05T00:00:00",
          "2022-08-06T00:00:00",
          "2022-08-07T00:00:00",
          "2022-08-08T00:00:00",
          "2022-08-09T00:00:00",
          "2022-08-10T00:00:00",
          "2022-08-11T00:00:00",
          "2022-08-12T00:00:00",
          "2022-08-13T00:00:00",
          "2022-08-14T00:00:00",
          "2022-08-15T00:00:00",
          "2022-08-16T00:00:00",
          "2022-08-17T00:00:00",
          "2022-08-18T00:00:00",
          "2022-08-19T00:00:00",
          "2022-08-20T00:00:00",
          "2022-08-21T00:00:00",
          "2022-08-22T00:00:00",
          "2022-08-23T00:00:00",
          "2022-08-24T00:00:00",
          "2022-08-25T00:00:00",
          "2022-08-26T00:00:00",
          "2022-08-27T00:00:00",
          "2022-08-28T00:00:00",
          "2022-08-29T00:00:00",
          "2022-08-30T00:00:00",
          "2022-08-31T00:00:00",
          "2022-09-01T00:00:00",
          "2022-09-02T00:00:00",
          "2022-09-03T00:00:00",
          "2022-09-04T00:00:00",
          "2022-09-05T00:00:00",
          "2022-09-06T00:00:00",
          "2022-09-07T00:00:00",
          "2022-09-08T00:00:00",
          "2022-09-09T00:00:00",
          "2022-09-10T00:00:00",
          "2022-09-11T00:00:00",
          "2022-09-12T00:00:00",
          "2022-09-13T00:00:00",
          "2022-09-14T00:00:00",
          "2022-09-15T00:00:00",
          "2022-09-16T00:00:00",
          "2022-09-17T00:00:00",
          "2022-09-18T00:00:00",
          "2022-09-19T00:00:00",
          "2022-09-20T00:00:00",
          "2022-09-21T00:00:00",
          "2022-09-22T00:00:00",
          "2022-09-23T00:00:00",
          "2022-09-24T00:00:00",
          "2022-09-25T00:00:00",
          "2022-09-26T00:00:00",
          "2022-09-27T00:00:00",
          "2022-09-28T00:00:00",
          "2022-09-29T00:00:00",
          "2022-09-30T00:00:00",
          "2022-10-01T00:00:00",
          "2022-10-02T00:00:00",
          "2022-10-03T00:00:00",
          "2022-10-04T00:00:00",
          "2022-10-05T00:00:00",
          "2022-10-06T00:00:00",
          "2022-10-07T00:00:00",
          "2022-10-08T00:00:00",
          "2022-10-09T00:00:00",
          "2022-10-10T00:00:00",
          "2022-10-11T00:00:00",
          "2022-10-12T00:00:00",
          "2022-10-13T00:00:00",
          "2022-10-14T00:00:00",
          "2022-10-15T00:00:00",
          "2022-10-16T00:00:00",
          "2022-10-17T00:00:00",
          "2022-10-18T00:00:00",
          "2022-10-19T00:00:00",
          "2022-10-20T00:00:00",
          "2022-10-21T00:00:00",
          "2022-10-22T00:00:00",
          "2022-10-23T00:00:00",
          "2022-10-24T00:00:00",
          "2022-10-25T00:00:00",
          "2022-10-26T00:00:00",
          "2022-10-27T00:00:00",
          "2022-10-28T00:00:00",
          "2022-10-29T00:00:00",
          "2022-10-30T00:00:00",
          "2022-10-31T00:00:00",
          "2022-11-01T00:00:00",
          "2022-11-02T00:00:00",
          "2022-11-03T00:00:00",
          "2022-11-04T00:00:00",
          "2022-11-05T00:00:00",
          "2022-11-06T00:00:00",
          "2022-11-07T00:00:00",
          "2022-11-08T00:00:00",
          "2022-11-09T00:00:00",
          "2022-11-10T00:00:00",
          "2022-11-11T00:00:00",
          "2022-11-12T00:00:00",
          "2022-11-13T00:00:00",
          "2022-11-14T00:00:00",
          "2022-11-15T00:00:00",
          "2022-11-16T00:00:00",
          "2022-11-17T00:00:00",
          "2022-11-18T00:00:00",
          "2022-11-19T00:00:00",
          "2022-11-20T00:00:00",
          "2022-11-21T00:00:00",
          "2022-11-22T00:00:00",
          "2022-11-23T00:00:00",
          "2022-11-24T00:00:00",
          "2022-11-25T00:00:00",
          "2022-11-26T00:00:00",
          "2022-11-27T00:00:00",
          "2022-11-28T00:00:00",
          "2022-11-29T00:00:00",
          "2022-11-30T00:00:00",
          "2022-12-01T00:00:00",
          "2022-12-02T00:00:00",
          "2022-12-03T00:00:00",
          "2022-12-04T00:00:00",
          "2022-12-05T00:00:00",
          "2022-12-06T00:00:00",
          "2022-12-07T00:00:00",
          "2022-12-08T00:00:00",
          "2022-12-09T00:00:00",
          "2022-12-10T00:00:00",
          "2022-12-11T00:00:00",
          "2022-12-12T00:00:00",
          "2022-12-13T00:00:00",
          "2022-12-14T00:00:00",
          "2022-12-15T00:00:00",
          "2022-12-16T00:00:00",
          "2022-12-17T00:00:00",
          "2022-12-18T00:00:00",
          "2022-12-19T00:00:00",
          "2022-12-20T00:00:00",
          "2022-12-21T00:00:00",
          "2022-12-22T00:00:00",
          "2022-12-23T00:00:00",
          "2022-12-24T00:00:00",
          "2022-12-25T00:00:00",
          "2022-12-26T00:00:00",
          "2022-12-27T00:00:00",
          "2022-12-28T00:00:00",
          "2022-12-29T00:00:00",
          "2022-12-30T00:00:00",
          "2022-12-31T00:00:00",
          "2023-01-01T00:00:00",
          "2023-01-02T00:00:00",
          "2023-01-03T00:00:00",
          "2023-01-04T00:00:00",
          "2023-01-05T00:00:00",
          "2023-01-06T00:00:00",
          "2023-01-07T00:00:00",
          "2023-01-08T00:00:00",
          "2023-01-09T00:00:00",
          "2023-01-10T00:00:00",
          "2023-01-11T00:00:00",
          "2023-01-12T00:00:00",
          "2023-01-13T00:00:00",
          "2023-01-14T00:00:00",
          "2023-01-15T00:00:00",
          "2023-01-16T00:00:00",
          "2023-01-17T00:00:00",
          "2023-01-18T00:00:00",
          "2023-01-19T00:00:00",
          "2023-01-20T00:00:00",
          "2023-01-21T00:00:00",
          "2023-01-22T00:00:00",
          "2023-01-23T00:00:00",
          "2023-01-24T00:00:00",
          "2023-01-25T00:00:00",
          "2023-01-26T00:00:00",
          "2023-01-27T00:00:00",
          "2023-01-28T00:00:00",
          "2023-01-29T00:00:00",
          "2023-01-30T00:00:00",
          "2023-01-31T00:00:00",
          "2023-02-01T00:00:00",
          "2023-02-02T00:00:00",
          "2023-02-03T00:00:00",
          "2023-02-04T00:00:00",
          "2023-02-05T00:00:00",
          "2023-02-06T00:00:00",
          "2023-02-07T00:00:00",
          "2023-02-08T00:00:00",
          "2023-02-09T00:00:00",
          "2023-02-10T00:00:00",
          "2023-02-11T00:00:00",
          "2023-02-12T00:00:00",
          "2023-02-13T00:00:00",
          "2023-02-14T00:00:00",
          "2023-02-15T00:00:00",
          "2023-02-16T00:00:00",
          "2023-02-17T00:00:00",
          "2023-02-18T00:00:00",
          "2023-02-19T00:00:00",
          "2023-02-20T00:00:00",
          "2023-02-21T00:00:00",
          "2023-02-22T00:00:00",
          "2023-02-23T00:00:00",
          "2023-02-24T00:00:00",
          "2023-02-25T00:00:00",
          "2023-02-26T00:00:00",
          "2023-02-27T00:00:00",
          "2023-02-28T00:00:00",
          "2023-03-01T00:00:00",
          "2023-03-02T00:00:00",
          "2023-03-03T00:00:00",
          "2023-03-04T00:00:00",
          "2023-03-05T00:00:00",
          "2023-03-06T00:00:00",
          "2023-03-07T00:00:00",
          "2023-03-08T00:00:00",
          "2023-03-09T00:00:00",
          "2023-03-10T00:00:00",
          "2023-03-11T00:00:00",
          "2023-03-12T00:00:00",
          "2023-03-13T00:00:00",
          "2023-03-14T00:00:00",
          "2023-03-15T00:00:00",
          "2023-03-16T00:00:00",
          "2023-03-17T00:00:00",
          "2023-03-18T00:00:00",
          "2023-03-19T00:00:00",
          "2023-03-20T00:00:00",
          "2023-03-21T00:00:00",
          "2023-03-22T00:00:00",
          "2023-03-23T00:00:00",
          "2023-03-24T00:00:00",
          "2023-03-25T00:00:00",
          "2023-03-26T00:00:00",
          "2023-03-27T00:00:00",
          "2023-03-28T00:00:00",
          "2023-03-29T00:00:00"
         ],
         "y": [
          188.8873291015625,
          232.72047424316406,
          189.76039123535156,
          187.8925018310547,
          145.38719177246094,
          180.46217346191406,
          245.0233917236328,
          276.80657958984375,
          202.97894287109375,
          177.5640106201172,
          185.0026092529297,
          182.78778076171875,
          213.7313232421875,
          254.28509521484375,
          269.5717468261719,
          231.92503356933594,
          238.01356506347656,
          272.101806640625,
          248.1630401611328,
          256.5221862792969,
          279.2742004394531,
          224.539794921875,
          230.5802001953125,
          269.4952697753906,
          231.8648681640625,
          218.19703674316406,
          220.5303497314453,
          245.40997314453125,
          266.92193603515625,
          282.13055419921875,
          288.7803039550781,
          237.9918975830078,
          239.20892333984375,
          250.4280242919922,
          259.5692138671875,
          251.3558807373047,
          261.9780578613281,
          286.3428649902344,
          264.8274841308594,
          266.63079833984375,
          269.8375549316406,
          267.54205322265625,
          249.14805603027344,
          271.2904968261719,
          253.63087463378906,
          216.4104766845703,
          242.04408264160156,
          252.6002960205078,
          255.2901611328125,
          293.8888854980469,
          262.8824462890625,
          266.5845642089844,
          237.4616241455078,
          262.1355285644531,
          284.9004821777344,
          264.42987060546875,
          227.59669494628906,
          287.701171875,
          313.0981140136719,
          307.3487243652344,
          300.3600158691406,
          236.07244873046875,
          205.0696258544922,
          228.093994140625,
          222.9008026123047,
          187.526611328125,
          248.3245849609375,
          219.15843200683594,
          206.74549865722656,
          167.6504364013672,
          160.5868682861328,
          155.0856170654297,
          159.83721923828125,
          178.57281494140625,
          250.8434600830078,
          243.34703063964844,
          255.64085388183594,
          220.85528564453125,
          206.45652770996094,
          216.29811096191406,
          232.1335906982422,
          238.84031677246094,
          205.82591247558594,
          135.14735412597656,
          123.46532440185547,
          176.01100158691406,
          210.40013122558594,
          208.38658142089844,
          193.62335205078125,
          214.64990234375,
          181.57720947265625,
          216.8766326904297,
          280.5394287109375,
          221.4605255126953,
          240.6317596435547,
          233.40541076660156,
          214.9726104736328,
          207.32562255859375,
          244.06822204589844,
          304.3952941894531,
          232.3160400390625,
          244.78343200683594,
          240.0568389892578,
          236.28858947753906,
          205.1407470703125,
          202.3228759765625,
          174.506591796875,
          141.3563690185547,
          123.91248321533203,
          114.4578628540039,
          130.17161560058594,
          138.09019470214844,
          124.12664031982422,
          134.35479736328125,
          150.3925323486328,
          194.80699157714844,
          204.52027893066406,
          165.9093780517578,
          133.6861572265625,
          150.23033142089844,
          157.76136779785156,
          124.46582794189453,
          114.58318328857422,
          109.05355072021484,
          93.45323944091797,
          116.53624725341797,
          135.22750854492188,
          101.44733428955078,
          97.24060821533203,
          94.29473114013672,
          99.88455963134766,
          90.25384521484375,
          100.3243179321289,
          99.15896606445312,
          88.7245101928711,
          91.21707916259766,
          84.23234558105469,
          80.95983123779297,
          80.5796127319336,
          94.5145034790039,
          98.91436767578125,
          102.36947631835938,
          106.06908416748047,
          110.69039154052734,
          88.40646362304688,
          88.43069458007812,
          90.48543548583984,
          86.84066772460938,
          91.44644165039062,
          89.77102661132812,
          103.4021224975586,
          101.58826446533203,
          92.9483871459961,
          97.83979034423828,
          111.4992446899414,
          114.07025146484375,
          100.8847427368164,
          85.17352294921875,
          95.04219818115234,
          101.71068572998047,
          94.38629150390625,
          104.20716094970703,
          88.83292388916016,
          80.54166412353516,
          82.61438751220703,
          81.43821716308594,
          89.76519775390625,
          83.50188446044922,
          80.58069610595703,
          82.42232513427734,
          93.7840576171875,
          97.17034149169922,
          97.7857666015625,
          112.6419677734375,
          98.15436553955078,
          80.09423828125,
          80.61514282226562,
          97.53140258789062,
          112.55182647705078,
          107.18671417236328,
          118.4188003540039,
          121.3130111694336,
          115.07105255126953,
          120.178466796875,
          120.87554931640625,
          113.85803985595703,
          116.81363677978516,
          105.69396209716797,
          105.91165161132812,
          117.56230926513672,
          122.68236541748047,
          126.71685791015625,
          117.4668960571289,
          98.0307846069336,
          87.36248779296875,
          84.61939239501953,
          82.6231689453125,
          79.84737396240234,
          77.5933837890625,
          79.9642105102539,
          97.13875579833984,
          111.7707748413086,
          161.6387481689453,
          120.61682891845703,
          102.95025634765625,
          84.53661346435547,
          76.6808090209961,
          72.80467987060547,
          89.51129150390625,
          109.47869110107422,
          113.18753051757812,
          133.29042053222656,
          148.48460388183594,
          163.43214416503906,
          186.0851593017578,
          175.91297912597656,
          131.31463623046875,
          148.88133239746094,
          195.93373107910156,
          101.58737182617188,
          95.4155502319336,
          81.67872619628906,
          80.7794418334961,
          80.66808319091797,
          93.15142822265625,
          128.3318634033203,
          125.74239349365234,
          149.33380126953125,
          189.8546142578125,
          229.44183349609375,
          244.831298828125,
          250.85389709472656,
          249.4310760498047,
          243.40760803222656,
          270.8285827636719,
          283.0282897949219,
          287.8646545410156,
          318.5130310058594,
          339.7852783203125,
          307.70318603515625,
          349.1736755371094,
          365.6751403808594,
          386.5672302246094,
          370.9031677246094,
          403.1302795410156,
          433.5699157714844,
          389.4577941894531,
          492.75390625,
          473.9940490722656,
          372.0865173339844,
          346.9102783203125,
          362.9585876464844,
          374.9784240722656,
          313.77252197265625,
          334.9288024902344,
          362.1131591796875,
          347.5186767578125,
          337.1589660644531,
          327.0902099609375,
          290.1043701171875,
          306.1264343261719,
          313.9697265625,
          328.18017578125,
          329.71099853515625,
          336.59344482421875,
          326.5812072753906,
          308.015625,
          287.4301452636719,
          272.3125305175781,
          331.6626281738281,
          344.0712585449219,
          344.8294982910156,
          354.3822021484375,
          372.7106018066406,
          362.0240783691406,
          366.0747375488281,
          372.2519226074219,
          387.1388244628906,
          400.482666015625,
          364.5540466308594,
          355.0169372558594,
          324.833740234375,
          322.4866027832031,
          341.3722229003906,
          363.1251525878906,
          331.722412109375,
          277.4876403808594,
          233.20140075683594,
          218.4254150390625,
          245.031494140625,
          258.9963684082031,
          307.5638427734375,
          355.1534729003906,
          386.4034729003906,
          361.3281555175781,
          341.6083679199219,
          343.7852783203125,
          358.9625549316406,
          349.0503234863281,
          330.9757995605469,
          343.3835754394531,
          340.8967590332031,
          327.34698486328125,
          342.45556640625,
          372.4503173828125,
          341.8971862792969,
          314.5464172363281,
          354.611572265625,
          369.9444274902344,
          351.9450988769531,
          355.1430358886719,
          384.79248046875,
          389.232177734375,
          381.1767883300781,
          445.6295471191406,
          406.681640625,
          330.7242431640625,
          346.1417236328125,
          356.4004211425781,
          333.80938720703125,
          278.3043212890625,
          322.7305603027344,
          327.530029296875,
          345.1026611328125,
          358.2240295410156,
          274.4402770996094,
          318.8091125488281,
          379.9491271972656,
          342.91748046875,
          278.5991516113281,
          229.0057373046875,
          303.9613342285156,
          272.7566833496094,
          282.2658386230469,
          329.48297119140625,
          236.7132568359375,
          222.2631072998047,
          207.04022216796875,
          228.1392364501953,
          236.49462890625,
          266.5095520019531,
          258.364501953125,
          286.4986877441406,
          279.4845275878906,
          204.71875,
          228.9613800048828,
          218.9594268798828,
          274.1320495605469,
          206.88214111328125,
          157.69949340820312,
          171.3872528076172,
          207.2695770263672,
          277.1577453613281,
          343.3752136230469,
          345.9517822265625,
          328.1695251464844,
          316.0026550292969,
          281.4648742675781,
          302.9492492675781,
          253.40386962890625,
          211.40972900390625,
          263.4668884277344,
          303.5198974609375,
          293.2740783691406,
          238.7799072265625,
          198.85777282714844,
          227.91802978515625,
          181.8203582763672,
          162.96165466308594,
          167.47755432128906,
          165.61778259277344,
          197.55723571777344,
          239.4500274658203,
          161.8743896484375,
          200.53599548339844,
          223.2542266845703,
          227.7567596435547,
          242.25547790527344,
          234.3087158203125,
          231.91717529296875,
          244.57208251953125,
          215.17979431152344,
          170.3499298095703,
          176.67018127441406,
          162.1962127685547,
          131.03759765625,
          173.0141143798828,
          175.2245635986328,
          193.2276153564453,
          121.82223510742188,
          164.5223846435547,
          149.23243713378906,
          156.51348876953125,
          197.51499938964844
         ]
        }
       ],
       "layout": {
        "height": 600,
        "template": {
         "data": {
          "bar": [
           {
            "error_x": {
             "color": "#2a3f5f"
            },
            "error_y": {
             "color": "#2a3f5f"
            },
            "marker": {
             "line": {
              "color": "#E5ECF6",
              "width": 0.5
             },
             "pattern": {
              "fillmode": "overlay",
              "size": 10,
              "solidity": 0.2
             }
            },
            "type": "bar"
           }
          ],
          "barpolar": [
           {
            "marker": {
             "line": {
              "color": "#E5ECF6",
              "width": 0.5
             },
             "pattern": {
              "fillmode": "overlay",
              "size": 10,
              "solidity": 0.2
             }
            },
            "type": "barpolar"
           }
          ],
          "carpet": [
           {
            "aaxis": {
             "endlinecolor": "#2a3f5f",
             "gridcolor": "white",
             "linecolor": "white",
             "minorgridcolor": "white",
             "startlinecolor": "#2a3f5f"
            },
            "baxis": {
             "endlinecolor": "#2a3f5f",
             "gridcolor": "white",
             "linecolor": "white",
             "minorgridcolor": "white",
             "startlinecolor": "#2a3f5f"
            },
            "type": "carpet"
           }
          ],
          "choropleth": [
           {
            "colorbar": {
             "outlinewidth": 0,
             "ticks": ""
            },
            "type": "choropleth"
           }
          ],
          "contour": [
           {
            "colorbar": {
             "outlinewidth": 0,
             "ticks": ""
            },
            "colorscale": [
             [
              0,
              "#0d0887"
             ],
             [
              0.1111111111111111,
              "#46039f"
             ],
             [
              0.2222222222222222,
              "#7201a8"
             ],
             [
              0.3333333333333333,
              "#9c179e"
             ],
             [
              0.4444444444444444,
              "#bd3786"
             ],
             [
              0.5555555555555556,
              "#d8576b"
             ],
             [
              0.6666666666666666,
              "#ed7953"
             ],
             [
              0.7777777777777778,
              "#fb9f3a"
             ],
             [
              0.8888888888888888,
              "#fdca26"
             ],
             [
              1,
              "#f0f921"
             ]
            ],
            "type": "contour"
           }
          ],
          "contourcarpet": [
           {
            "colorbar": {
             "outlinewidth": 0,
             "ticks": ""
            },
            "type": "contourcarpet"
           }
          ],
          "heatmap": [
           {
            "colorbar": {
             "outlinewidth": 0,
             "ticks": ""
            },
            "colorscale": [
             [
              0,
              "#0d0887"
             ],
             [
              0.1111111111111111,
              "#46039f"
             ],
             [
              0.2222222222222222,
              "#7201a8"
             ],
             [
              0.3333333333333333,
              "#9c179e"
             ],
             [
              0.4444444444444444,
              "#bd3786"
             ],
             [
              0.5555555555555556,
              "#d8576b"
             ],
             [
              0.6666666666666666,
              "#ed7953"
             ],
             [
              0.7777777777777778,
              "#fb9f3a"
             ],
             [
              0.8888888888888888,
              "#fdca26"
             ],
             [
              1,
              "#f0f921"
             ]
            ],
            "type": "heatmap"
           }
          ],
          "heatmapgl": [
           {
            "colorbar": {
             "outlinewidth": 0,
             "ticks": ""
            },
            "colorscale": [
             [
              0,
              "#0d0887"
             ],
             [
              0.1111111111111111,
              "#46039f"
             ],
             [
              0.2222222222222222,
              "#7201a8"
             ],
             [
              0.3333333333333333,
              "#9c179e"
             ],
             [
              0.4444444444444444,
              "#bd3786"
             ],
             [
              0.5555555555555556,
              "#d8576b"
             ],
             [
              0.6666666666666666,
              "#ed7953"
             ],
             [
              0.7777777777777778,
              "#fb9f3a"
             ],
             [
              0.8888888888888888,
              "#fdca26"
             ],
             [
              1,
              "#f0f921"
             ]
            ],
            "type": "heatmapgl"
           }
          ],
          "histogram": [
           {
            "marker": {
             "pattern": {
              "fillmode": "overlay",
              "size": 10,
              "solidity": 0.2
             }
            },
            "type": "histogram"
           }
          ],
          "histogram2d": [
           {
            "colorbar": {
             "outlinewidth": 0,
             "ticks": ""
            },
            "colorscale": [
             [
              0,
              "#0d0887"
             ],
             [
              0.1111111111111111,
              "#46039f"
             ],
             [
              0.2222222222222222,
              "#7201a8"
             ],
             [
              0.3333333333333333,
              "#9c179e"
             ],
             [
              0.4444444444444444,
              "#bd3786"
             ],
             [
              0.5555555555555556,
              "#d8576b"
             ],
             [
              0.6666666666666666,
              "#ed7953"
             ],
             [
              0.7777777777777778,
              "#fb9f3a"
             ],
             [
              0.8888888888888888,
              "#fdca26"
             ],
             [
              1,
              "#f0f921"
             ]
            ],
            "type": "histogram2d"
           }
          ],
          "histogram2dcontour": [
           {
            "colorbar": {
             "outlinewidth": 0,
             "ticks": ""
            },
            "colorscale": [
             [
              0,
              "#0d0887"
             ],
             [
              0.1111111111111111,
              "#46039f"
             ],
             [
              0.2222222222222222,
              "#7201a8"
             ],
             [
              0.3333333333333333,
              "#9c179e"
             ],
             [
              0.4444444444444444,
              "#bd3786"
             ],
             [
              0.5555555555555556,
              "#d8576b"
             ],
             [
              0.6666666666666666,
              "#ed7953"
             ],
             [
              0.7777777777777778,
              "#fb9f3a"
             ],
             [
              0.8888888888888888,
              "#fdca26"
             ],
             [
              1,
              "#f0f921"
             ]
            ],
            "type": "histogram2dcontour"
           }
          ],
          "mesh3d": [
           {
            "colorbar": {
             "outlinewidth": 0,
             "ticks": ""
            },
            "type": "mesh3d"
           }
          ],
          "parcoords": [
           {
            "line": {
             "colorbar": {
              "outlinewidth": 0,
              "ticks": ""
             }
            },
            "type": "parcoords"
           }
          ],
          "pie": [
           {
            "automargin": true,
            "type": "pie"
           }
          ],
          "scatter": [
           {
            "fillpattern": {
             "fillmode": "overlay",
             "size": 10,
             "solidity": 0.2
            },
            "type": "scatter"
           }
          ],
          "scatter3d": [
           {
            "line": {
             "colorbar": {
              "outlinewidth": 0,
              "ticks": ""
             }
            },
            "marker": {
             "colorbar": {
              "outlinewidth": 0,
              "ticks": ""
             }
            },
            "type": "scatter3d"
           }
          ],
          "scattercarpet": [
           {
            "marker": {
             "colorbar": {
              "outlinewidth": 0,
              "ticks": ""
             }
            },
            "type": "scattercarpet"
           }
          ],
          "scattergeo": [
           {
            "marker": {
             "colorbar": {
              "outlinewidth": 0,
              "ticks": ""
             }
            },
            "type": "scattergeo"
           }
          ],
          "scattergl": [
           {
            "marker": {
             "colorbar": {
              "outlinewidth": 0,
              "ticks": ""
             }
            },
            "type": "scattergl"
           }
          ],
          "scattermapbox": [
           {
            "marker": {
             "colorbar": {
              "outlinewidth": 0,
              "ticks": ""
             }
            },
            "type": "scattermapbox"
           }
          ],
          "scatterpolar": [
           {
            "marker": {
             "colorbar": {
              "outlinewidth": 0,
              "ticks": ""
             }
            },
            "type": "scatterpolar"
           }
          ],
          "scatterpolargl": [
           {
            "marker": {
             "colorbar": {
              "outlinewidth": 0,
              "ticks": ""
             }
            },
            "type": "scatterpolargl"
           }
          ],
          "scatterternary": [
           {
            "marker": {
             "colorbar": {
              "outlinewidth": 0,
              "ticks": ""
             }
            },
            "type": "scatterternary"
           }
          ],
          "surface": [
           {
            "colorbar": {
             "outlinewidth": 0,
             "ticks": ""
            },
            "colorscale": [
             [
              0,
              "#0d0887"
             ],
             [
              0.1111111111111111,
              "#46039f"
             ],
             [
              0.2222222222222222,
              "#7201a8"
             ],
             [
              0.3333333333333333,
              "#9c179e"
             ],
             [
              0.4444444444444444,
              "#bd3786"
             ],
             [
              0.5555555555555556,
              "#d8576b"
             ],
             [
              0.6666666666666666,
              "#ed7953"
             ],
             [
              0.7777777777777778,
              "#fb9f3a"
             ],
             [
              0.8888888888888888,
              "#fdca26"
             ],
             [
              1,
              "#f0f921"
             ]
            ],
            "type": "surface"
           }
          ],
          "table": [
           {
            "cells": {
             "fill": {
              "color": "#EBF0F8"
             },
             "line": {
              "color": "white"
             }
            },
            "header": {
             "fill": {
              "color": "#C8D4E3"
             },
             "line": {
              "color": "white"
             }
            },
            "type": "table"
           }
          ]
         },
         "layout": {
          "annotationdefaults": {
           "arrowcolor": "#2a3f5f",
           "arrowhead": 0,
           "arrowwidth": 1
          },
          "autotypenumbers": "strict",
          "coloraxis": {
           "colorbar": {
            "outlinewidth": 0,
            "ticks": ""
           }
          },
          "colorscale": {
           "diverging": [
            [
             0,
             "#8e0152"
            ],
            [
             0.1,
             "#c51b7d"
            ],
            [
             0.2,
             "#de77ae"
            ],
            [
             0.3,
             "#f1b6da"
            ],
            [
             0.4,
             "#fde0ef"
            ],
            [
             0.5,
             "#f7f7f7"
            ],
            [
             0.6,
             "#e6f5d0"
            ],
            [
             0.7,
             "#b8e186"
            ],
            [
             0.8,
             "#7fbc41"
            ],
            [
             0.9,
             "#4d9221"
            ],
            [
             1,
             "#276419"
            ]
           ],
           "sequential": [
            [
             0,
             "#0d0887"
            ],
            [
             0.1111111111111111,
             "#46039f"
            ],
            [
             0.2222222222222222,
             "#7201a8"
            ],
            [
             0.3333333333333333,
             "#9c179e"
            ],
            [
             0.4444444444444444,
             "#bd3786"
            ],
            [
             0.5555555555555556,
             "#d8576b"
            ],
            [
             0.6666666666666666,
             "#ed7953"
            ],
            [
             0.7777777777777778,
             "#fb9f3a"
            ],
            [
             0.8888888888888888,
             "#fdca26"
            ],
            [
             1,
             "#f0f921"
            ]
           ],
           "sequentialminus": [
            [
             0,
             "#0d0887"
            ],
            [
             0.1111111111111111,
             "#46039f"
            ],
            [
             0.2222222222222222,
             "#7201a8"
            ],
            [
             0.3333333333333333,
             "#9c179e"
            ],
            [
             0.4444444444444444,
             "#bd3786"
            ],
            [
             0.5555555555555556,
             "#d8576b"
            ],
            [
             0.6666666666666666,
             "#ed7953"
            ],
            [
             0.7777777777777778,
             "#fb9f3a"
            ],
            [
             0.8888888888888888,
             "#fdca26"
            ],
            [
             1,
             "#f0f921"
            ]
           ]
          },
          "colorway": [
           "#636efa",
           "#EF553B",
           "#00cc96",
           "#ab63fa",
           "#FFA15A",
           "#19d3f3",
           "#FF6692",
           "#B6E880",
           "#FF97FF",
           "#FECB52"
          ],
          "font": {
           "color": "#2a3f5f"
          },
          "geo": {
           "bgcolor": "white",
           "lakecolor": "white",
           "landcolor": "#E5ECF6",
           "showlakes": true,
           "showland": true,
           "subunitcolor": "white"
          },
          "hoverlabel": {
           "align": "left"
          },
          "hovermode": "closest",
          "mapbox": {
           "style": "light"
          },
          "paper_bgcolor": "white",
          "plot_bgcolor": "#E5ECF6",
          "polar": {
           "angularaxis": {
            "gridcolor": "white",
            "linecolor": "white",
            "ticks": ""
           },
           "bgcolor": "#E5ECF6",
           "radialaxis": {
            "gridcolor": "white",
            "linecolor": "white",
            "ticks": ""
           }
          },
          "scene": {
           "xaxis": {
            "backgroundcolor": "#E5ECF6",
            "gridcolor": "white",
            "gridwidth": 2,
            "linecolor": "white",
            "showbackground": true,
            "ticks": "",
            "zerolinecolor": "white"
           },
           "yaxis": {
            "backgroundcolor": "#E5ECF6",
            "gridcolor": "white",
            "gridwidth": 2,
            "linecolor": "white",
            "showbackground": true,
            "ticks": "",
            "zerolinecolor": "white"
           },
           "zaxis": {
            "backgroundcolor": "#E5ECF6",
            "gridcolor": "white",
            "gridwidth": 2,
            "linecolor": "white",
            "showbackground": true,
            "ticks": "",
            "zerolinecolor": "white"
           }
          },
          "shapedefaults": {
           "line": {
            "color": "#2a3f5f"
           }
          },
          "ternary": {
           "aaxis": {
            "gridcolor": "white",
            "linecolor": "white",
            "ticks": ""
           },
           "baxis": {
            "gridcolor": "white",
            "linecolor": "white",
            "ticks": ""
           },
           "bgcolor": "#E5ECF6",
           "caxis": {
            "gridcolor": "white",
            "linecolor": "white",
            "ticks": ""
           }
          },
          "title": {
           "x": 0.05
          },
          "xaxis": {
           "automargin": true,
           "gridcolor": "white",
           "linecolor": "white",
           "ticks": "",
           "title": {
            "standoff": 15
           },
           "zerolinecolor": "white",
           "zerolinewidth": 2
          },
          "yaxis": {
           "automargin": true,
           "gridcolor": "white",
           "linecolor": "white",
           "ticks": "",
           "title": {
            "standoff": 15
           },
           "zerolinecolor": "white",
           "zerolinewidth": 2
          }
         }
        },
        "title": {
         "text": "Actual vs Predicted Values (Daily)"
        },
        "width": 1000,
        "xaxis": {
         "showgrid": false,
         "title": {
          "text": "Date"
         }
        },
        "yaxis": {
         "showgrid": false,
         "title": {
          "text": "Values"
         }
        }
       }
      }
     },
     "metadata": {},
     "output_type": "display_data"
    }
   ],
   "source": [
    "# Convert to Pandas Series\n",
    "y_test = pd.Series(y_test, index=pd.date_range(start='2022-03-01', periods=len(y_test), freq='H'))\n",
    "y_test_pred = pd.Series(y_test_pred, index=pd.date_range(start='2022-03-01', periods=len(y_test_pred), freq='H'))\n",
    "\n",
    "# Resample the data to daily frequency\n",
    "y_test_daily = y_test.resample('D').mean()\n",
    "y_test_pred_daily = y_test_pred.resample('D').mean()\n",
    "\n",
    "# Create a line plot\n",
    "fig = go.Figure()\n",
    "\n",
    "# Add actual values as a line\n",
    "fig.add_trace(go.Scatter(x=y_test_daily.index, y=y_test_daily, mode='lines', name='Actual'))\n",
    "\n",
    "# Add predicted values as a line\n",
    "fig.add_trace(go.Scatter(x=y_test_pred_daily.index, y=y_test_pred_daily, mode='lines', name='Predicted'))\n",
    "\n",
    "# Update layout with adjusted width, height, and without grid lines\n",
    "fig.update_layout(title='Actual vs Predicted Values (Daily)',\n",
    "                  xaxis_title='Date',\n",
    "                  yaxis_title='Values',\n",
    "                  width=1000,  # Adjust width as needed\n",
    "                  height=600,  # Adjust height as needed\n",
    "                  xaxis=dict(showgrid=False),  # Remove x-axis grid lines\n",
    "                  yaxis=dict(showgrid=False)   # Remove y-axis grid lines\n",
    "                  )\n",
    "\n",
    "# Show the plot\n",
    "fig.show()"
   ]
  },
  {
   "cell_type": "code",
   "execution_count": 22,
   "metadata": {},
   "outputs": [
    {
     "data": {
      "text/plain": [
       "{'colsample_bytree': 0.9,\n",
       " 'learning_rate': 0.1,\n",
       " 'max_depth': 3,\n",
       " 'n_estimators': 50,\n",
       " 'subsample': 1.0}"
      ]
     },
     "execution_count": 22,
     "metadata": {},
     "output_type": "execute_result"
    }
   ],
   "source": [
    "best_params"
   ]
  },
  {
   "cell_type": "code",
   "execution_count": 23,
   "metadata": {},
   "outputs": [
    {
     "name": "stdout",
     "output_type": "stream",
     "text": [
      "R-squared (rounded): 0.82\n"
     ]
    }
   ],
   "source": [
    "# Calculate R-squared and round to 2 decimal places\n",
    "rounded_r2 = round(r2_score(y_test, y_test_pred), 2)\n",
    "\n",
    "print(f\"R-squared (rounded): {rounded_r2}\")"
   ]
  },
  {
   "cell_type": "markdown",
   "metadata": {},
   "source": [
    "### Percentage Mean Absolute Error (PMAE) Calculation:"
   ]
  },
  {
   "cell_type": "code",
   "execution_count": 24,
   "metadata": {},
   "outputs": [
    {
     "name": "stdout",
     "output_type": "stream",
     "text": [
      "PMAE (rounded): 15.24%\n"
     ]
    }
   ],
   "source": [
    "mae = mean_absolute_error(y_test, y_test_pred)\n",
    "mean_true = y_test.mean()\n",
    "\n",
    "pmae = (mae / mean_true) * 100\n",
    "\n",
    "# Round PMAE to 2 decimal places\n",
    "pmae = round(pmae, 2)\n",
    "\n",
    "print(f\"PMAE (rounded): {pmae}%\")"
   ]
  },
  {
   "cell_type": "markdown",
   "metadata": {},
   "source": [
    "## Feature Importance: \n",
    "Let's plot the important features to visualize the feature importance scores obtained from the XGBoost model. The features are sorted based on their importance scores in descending order, providing a clear overview of the most influential features in our XGBoost model."
   ]
  },
  {
   "cell_type": "code",
   "execution_count": 25,
   "metadata": {},
   "outputs": [
    {
     "ename": "NameError",
     "evalue": "name 'features' is not defined",
     "output_type": "error",
     "traceback": [
      "\u001b[1;31m---------------------------------------------------------------------------\u001b[0m",
      "\u001b[1;31mNameError\u001b[0m                                 Traceback (most recent call last)",
      "Cell \u001b[1;32mIn[25], line 1\u001b[0m\n\u001b[1;32m----> 1\u001b[0m \u001b[43mfeatures\u001b[49m\n",
      "\u001b[1;31mNameError\u001b[0m: name 'features' is not defined"
     ]
    }
   ],
   "source": [
    "features"
   ]
  },
  {
   "cell_type": "code",
   "execution_count": null,
   "metadata": {},
   "outputs": [
    {
     "data": {
      "image/png": "[encoded data removed]",
      "text/plain": [
       "<Figure size 1000x600 with 1 Axes>"
      ]
     },
     "metadata": {},
     "output_type": "display_data"
    }
   ],
   "source": [
    "model = xgb.train(params, dtrain, num_boost_round=num_round)\n",
    "\n",
    "# Getting feature importance scores\n",
    "feature_importance = model.get_score(importance_type='weight')\n",
    "\n",
    "# Sorting the feature importance scores in descending order\n",
    "sorted_feature_importance = sorted(feature_importance.items(), key=lambda x: x[1], reverse=True)\n",
    "\n",
    "# Extracting features and importance scores\n",
    "features, importance_scores = zip(*sorted_feature_importance)\n",
    "\n",
    "# Plotting feature importance with custom styling\n",
    "plt.figure(figsize=(10, 6))\n",
    "sns.barplot(x=importance_scores, y=features, hue=features, palette='viridis', dodge=False)\n",
    "plt.title('Feature Importance', fontsize=16)\n",
    "plt.xlabel('Weight', fontsize=14)\n",
    "plt.ylabel('Features', fontsize=14)\n",
    "plt.show()"
   ]
  },
  {
   "cell_type": "markdown",
   "metadata": {},
   "source": [
    "## Feature Importance Visualization with Mapped Names\n",
    "\n",
    "In this visualization, we have represented the top 10 important features determined by the XGBoost model. To enhance clarity and readability, we have mapped the original feature names to more understandable labels. The mapping is as follows:\n",
    "\n",
    "- **'AQI':** Air Quality Index\n",
    "- **'MA_Last_30d':** Moving Average Last 30 Days\n",
    "- **'t_Volatility_Last_30d':** Volatility Last 30 Days\n",
    "- **'MA_Last_7d':** Moving Average Last 7 Days\n",
    "- **'t_Volatility_Last_7d':** Volatility Last 7 Days\n",
    "- **'BP (mmHg)':** Barometric Pressure\n",
    "- **'t_AQI_lag_168hr':** AQI Lagged 7 Days\n",
    "- **'t_AQI_lag_48hr':** AQI Lagged 2 Days\n",
    "- **'t_AQI_lag_24hr':** AQI Lagged 1 Day\n",
    "- **'t_Volatility_Last_24hr':** Volatility Last 24 Hours\n",
    "\n",
    "These names provide a clearer and more intuitive understanding of the represented features. The bar plot illustrates the relative importance (weight) of each feature in the XGBoost model. Features are ranked based on their importance, with only the top 10 features included in this visualization.\n",
    "\n",
    "Adjustments in feature names contribute to a more user-friendly interpretation of the model's insights."
   ]
  },
  {
   "cell_type": "code",
   "execution_count": null,
   "metadata": {},
   "outputs": [
    {
     "name": "stderr",
     "output_type": "stream",
     "text": [
      "/var/folders/7l/pjbgsg_54hn3t90_14n49nmm0000gq/T/ipykernel_73015/509618288.py:24: FutureWarning:\n",
      "\n",
      "\n",
      "\n",
      "Passing `palette` without assigning `hue` is deprecated and will be removed in v0.14.0. Assign the `y` variable to `hue` and set `legend=False` for the same effect.\n",
      "\n",
      "\n"
     ]
    },
    {
     "data": {
      "image/png": "[encoded data removed]",
      "text/plain": [
       "<Figure size 1000x600 with 1 Axes>"
      ]
     },
     "metadata": {},
     "output_type": "display_data"
    }
   ],
   "source": [
    "# Name mappings\n",
    "feature_name_mappings = {\n",
    "    'AQI': 'Air Quality Index',\n",
    "    'MA_Last_30d': 'Moving_Average_Last_30days',\n",
    "    't_Volatility_Last_30d': 'Volatility_Last_30days',\n",
    "    'MA_Last_7d': 'Moving_Average_Last_7days',\n",
    "    't_Volatility_Last_7d': 'Volatility_Last_7days',\n",
    "    'BP (mmHg)': 'Barometric Pressure',\n",
    "    't_AQI_lag_168hr': 'AQI_Lagged_7days',\n",
    "    't_AQI_lag_48hr': 'AQI_Lagged_2days',\n",
    "    't_AQI_lag_24hr': 'AQI_Lagged_1day',\n",
    "    't_Volatility_Last_24hr': 'Volatility_Last_24hr',\n",
    "}\n",
    "\n",
    "# Limit to top N features\n",
    "top_n = 10\n",
    "features, importance_scores = zip(*sorted_feature_importance[:top_n])\n",
    "\n",
    "# Map feature names to labels using the name mappings\n",
    "features_mapped = [feature_name_mappings.get(feature, feature) for feature in features]\n",
    "\n",
    "# Plot with a different color palette (#6d929b)\n",
    "plt.figure(figsize=(10, 6))\n",
    "sns.barplot(x=importance_scores, y=features_mapped, palette=['#6d929b'] * top_n)\n",
    "plt.title(f'Top {top_n} Feature Importance', fontsize=16)\n",
    "plt.xlabel('Weight', fontsize=14)\n",
    "plt.ylabel('Features', fontsize=14)\n",
    "plt.show()\n"
   ]
  },
  {
   "cell_type": "markdown",
   "metadata": {},
   "source": [
    "### Cumulative Importance:\n",
    "We can calculate the cumulative importance of features and select the top features that contribute to a certain percentage of the total importance. This method can help us identify a subset of features that collectively explain a large proportion of the variance."
   ]
  },
  {
   "cell_type": "code",
   "execution_count": null,
   "metadata": {},
   "outputs": [],
   "source": [
    "total_importance = sum(importance for feature, importance in sorted_feature_importance)\n",
    "cumulative_importance = 0\n",
    "selected_features = []\n",
    "\n",
    "for feature, importance in sorted_feature_importance:\n",
    "    if cumulative_importance / total_importance < 0.95:  # Set your desired cumulative importance threshold\n",
    "        selected_features.append(feature)\n",
    "        cumulative_importance += importance\n",
    "    else:\n",
    "        break"
   ]
  },
  {
   "cell_type": "code",
   "execution_count": null,
   "metadata": {},
   "outputs": [
    {
     "data": {
      "text/plain": [
       "['AQI',\n",
       " 'MA_Last_30d',\n",
       " 't_Volatility_Last_30d',\n",
       " 'MA_Last_7d',\n",
       " 't_Volatility_Last_7d',\n",
       " 'BP (mmHg)',\n",
       " 't_AQI_lag_168hr',\n",
       " 't_AQI_lag_48hr',\n",
       " 't_AQI_lag_24hr',\n",
       " 't_Volatility_Last_24hr',\n",
       " 'RH (%)',\n",
       " 'WD (degree)',\n",
       " 't_NH3 (ug/m3)',\n",
       " 't_PM10 (ug/m3)',\n",
       " 't_PM2.5 (ug/m3)',\n",
       " 't_WS (m/s)',\n",
       " 'AT (degree C)',\n",
       " 't_SO2 (ug/m3)',\n",
       " 't_CO (ug/m3)',\n",
       " 't_NOx (ug/m3)',\n",
       " 't_SR (W/mt2)']"
      ]
     },
     "execution_count": 48,
     "metadata": {},
     "output_type": "execute_result"
    }
   ],
   "source": [
    "selected_features"
   ]
  },
  {
   "cell_type": "markdown",
   "metadata": {},
   "source": [
    "After identifying the selected features based on cumulative importance, we can take several steps to leverage this subset of features in our modeling process.\n",
    "\n",
    "### Retrain the Model:\n",
    "we can retrain our XGBoost model using only the selected subset of features. We need to update our training and testing sets to include only the chosen features."
   ]
  },
  {
   "cell_type": "code",
   "execution_count": null,
   "metadata": {},
   "outputs": [],
   "source": [
    "# Get the indices of selected features\n",
    "selected_features_index = [dtrain.feature_names.index(feature) for feature in selected_features]\n",
    "\n",
    "# Retrain the XGBoost model with the selected features\n",
    "model_selected = xgb.train(params, dtrain.slice(selected_features_index), num_boost_round=num_round)\n"
   ]
  },
  {
   "cell_type": "code",
   "execution_count": null,
   "metadata": {},
   "outputs": [],
   "source": [
    "y_test_pred_selected = model_selected.predict(dtest)"
   ]
  },
  {
   "cell_type": "markdown",
   "metadata": {},
   "source": [
    "### Evaluate the Retrained Model"
   ]
  },
  {
   "cell_type": "code",
   "execution_count": null,
   "metadata": {},
   "outputs": [
    {
     "name": "stdout",
     "output_type": "stream",
     "text": [
      "Mean Squared Error (MSE): 40494.871788919656\n",
      "Mean Absolute Error (MAE): 174.57755673274573\n",
      "R-squared (R2): -2.636856264776462\n"
     ]
    }
   ],
   "source": [
    "# Evaluate performance metrics\n",
    "mse_selected = mean_squared_error(y_test, y_test_pred_selected)\n",
    "mae_selected = mean_absolute_error(y_test, y_test_pred_selected)\n",
    "r2_selected = r2_score(y_test, y_test_pred_selected)\n",
    "\n",
    "# Print the results\n",
    "print(\"Mean Squared Error (MSE):\", mse_selected)\n",
    "print(\"Mean Absolute Error (MAE):\", mae_selected)\n",
    "print(\"R-squared (R2):\", r2_selected)"
   ]
  },
  {
   "cell_type": "markdown",
   "metadata": {},
   "source": [
    "**Model Assessment with R<sup>2</sup>**\n",
    "\n",
    "| Model | Features                                    | R<sup>2</sup>    |\n",
    "|-------|----------------------------------------|-------|\n",
    "| XGBoost      |  All Features                     |    0.82  |\n",
    "| XGBoost    |   Selected Features (After Reduction)                | -2.64 |\n"
   ]
  },
  {
   "cell_type": "markdown",
   "metadata": {},
   "source": [
    "### XGBoost Robustness to Multicollinearity:\n",
    "- XGBoost is resilient to multicollinearity due to its tree-based structure, which doesn't rely on linear relationships between features. \n",
    "- The algorithm inherently selects informative features during tree construction, is capable of capturing complex relationships, and is robust to irrelevant features. \n",
    "- XGBoost's ensemble learning and gradient boosting optimization contribute to its ability to handle correlated features effectively, making it less impacted by multicollinearity and suitable for datasets with interrelated features."
   ]
  },
  {
   "cell_type": "markdown",
   "metadata": {},
   "source": [
    "### Model Performance Comparison for all the models predicting 'y_AQI' - Percentage Mean Absolute Error (PMAE)"
   ]
  },
  {
   "cell_type": "code",
   "execution_count": null,
   "metadata": {},
   "outputs": [
    {
     "data": {
      "application/vnd.plotly.v1+json": {
       "config": {
        "plotlyServerURL": "https://plot.ly"
       },
       "data": [
        {
         "marker": {
          "color": "#6d929b"
         },
         "orientation": "h",
         "showlegend": false,
         "text": [
          "186.00%"
         ],
         "textfont": {
          "color": "white"
         },
         "textposition": "inside",
         "type": "bar",
         "x": [
          186
         ],
         "y": [
          "SARIMA"
         ]
        },
        {
         "marker": {
          "color": "#6d929b"
         },
         "orientation": "h",
         "showlegend": false,
         "text": [
          "185.00%"
         ],
         "textfont": {
          "color": "white"
         },
         "textposition": "inside",
         "type": "bar",
         "x": [
          185
         ],
         "y": [
          "ARIMA"
         ]
        },
        {
         "marker": {
          "color": "#6d929b"
         },
         "orientation": "h",
         "showlegend": false,
         "text": [
          "31.79%"
         ],
         "textfont": {
          "color": "white"
         },
         "textposition": "inside",
         "type": "bar",
         "x": [
          31.79
         ],
         "y": [
          "Prophet"
         ]
        },
        {
         "marker": {
          "color": "#6d929b"
         },
         "orientation": "h",
         "showlegend": false,
         "text": [
          "26.06%"
         ],
         "textfont": {
          "color": "white"
         },
         "textposition": "inside",
         "type": "bar",
         "x": [
          26.06
         ],
         "y": [
          "Decision Tree"
         ]
        },
        {
         "marker": {
          "color": "#6d929b"
         },
         "orientation": "h",
         "showlegend": false,
         "text": [
          "20.25%"
         ],
         "textfont": {
          "color": "white"
         },
         "textposition": "inside",
         "type": "bar",
         "x": [
          20.25
         ],
         "y": [
          "Random Forest"
         ]
        },
        {
         "marker": {
          "color": "#6d929b"
         },
         "orientation": "h",
         "showlegend": false,
         "text": [
          "20.04%"
         ],
         "textfont": {
          "color": "white"
         },
         "textposition": "inside",
         "type": "bar",
         "x": [
          20.04
         ],
         "y": [
          "Linear Regression"
         ]
        },
        {
         "marker": {
          "color": "#6d929b"
         },
         "orientation": "h",
         "showlegend": false,
         "text": [
          "15.25%"
         ],
         "textfont": {
          "color": "white"
         },
         "textposition": "inside",
         "type": "bar",
         "x": [
          15.25
         ],
         "y": [
          "XGBoost"
         ]
        }
       ],
       "layout": {
        "height": 600,
        "plot_bgcolor": "rgba(0,0,0,0)",
        "showlegend": false,
        "template": {
         "data": {
          "bar": [
           {
            "error_x": {
             "color": "#2a3f5f"
            },
            "error_y": {
             "color": "#2a3f5f"
            },
            "marker": {
             "line": {
              "color": "#E5ECF6",
              "width": 0.5
             },
             "pattern": {
              "fillmode": "overlay",
              "size": 10,
              "solidity": 0.2
             }
            },
            "type": "bar"
           }
          ],
          "barpolar": [
           {
            "marker": {
             "line": {
              "color": "#E5ECF6",
              "width": 0.5
             },
             "pattern": {
              "fillmode": "overlay",
              "size": 10,
              "solidity": 0.2
             }
            },
            "type": "barpolar"
           }
          ],
          "carpet": [
           {
            "aaxis": {
             "endlinecolor": "#2a3f5f",
             "gridcolor": "white",
             "linecolor": "white",
             "minorgridcolor": "white",
             "startlinecolor": "#2a3f5f"
            },
            "baxis": {
             "endlinecolor": "#2a3f5f",
             "gridcolor": "white",
             "linecolor": "white",
             "minorgridcolor": "white",
             "startlinecolor": "#2a3f5f"
            },
            "type": "carpet"
           }
          ],
          "choropleth": [
           {
            "colorbar": {
             "outlinewidth": 0,
             "ticks": ""
            },
            "type": "choropleth"
           }
          ],
          "contour": [
           {
            "colorbar": {
             "outlinewidth": 0,
             "ticks": ""
            },
            "colorscale": [
             [
              0,
              "#0d0887"
             ],
             [
              0.1111111111111111,
              "#46039f"
             ],
             [
              0.2222222222222222,
              "#7201a8"
             ],
             [
              0.3333333333333333,
              "#9c179e"
             ],
             [
              0.4444444444444444,
              "#bd3786"
             ],
             [
              0.5555555555555556,
              "#d8576b"
             ],
             [
              0.6666666666666666,
              "#ed7953"
             ],
             [
              0.7777777777777778,
              "#fb9f3a"
             ],
             [
              0.8888888888888888,
              "#fdca26"
             ],
             [
              1,
              "#f0f921"
             ]
            ],
            "type": "contour"
           }
          ],
          "contourcarpet": [
           {
            "colorbar": {
             "outlinewidth": 0,
             "ticks": ""
            },
            "type": "contourcarpet"
           }
          ],
          "heatmap": [
           {
            "colorbar": {
             "outlinewidth": 0,
             "ticks": ""
            },
            "colorscale": [
             [
              0,
              "#0d0887"
             ],
             [
              0.1111111111111111,
              "#46039f"
             ],
             [
              0.2222222222222222,
              "#7201a8"
             ],
             [
              0.3333333333333333,
              "#9c179e"
             ],
             [
              0.4444444444444444,
              "#bd3786"
             ],
             [
              0.5555555555555556,
              "#d8576b"
             ],
             [
              0.6666666666666666,
              "#ed7953"
             ],
             [
              0.7777777777777778,
              "#fb9f3a"
             ],
             [
              0.8888888888888888,
              "#fdca26"
             ],
             [
              1,
              "#f0f921"
             ]
            ],
            "type": "heatmap"
           }
          ],
          "heatmapgl": [
           {
            "colorbar": {
             "outlinewidth": 0,
             "ticks": ""
            },
            "colorscale": [
             [
              0,
              "#0d0887"
             ],
             [
              0.1111111111111111,
              "#46039f"
             ],
             [
              0.2222222222222222,
              "#7201a8"
             ],
             [
              0.3333333333333333,
              "#9c179e"
             ],
             [
              0.4444444444444444,
              "#bd3786"
             ],
             [
              0.5555555555555556,
              "#d8576b"
             ],
             [
              0.6666666666666666,
              "#ed7953"
             ],
             [
              0.7777777777777778,
              "#fb9f3a"
             ],
             [
              0.8888888888888888,
              "#fdca26"
             ],
             [
              1,
              "#f0f921"
             ]
            ],
            "type": "heatmapgl"
           }
          ],
          "histogram": [
           {
            "marker": {
             "pattern": {
              "fillmode": "overlay",
              "size": 10,
              "solidity": 0.2
             }
            },
            "type": "histogram"
           }
          ],
          "histogram2d": [
           {
            "colorbar": {
             "outlinewidth": 0,
             "ticks": ""
            },
            "colorscale": [
             [
              0,
              "#0d0887"
             ],
             [
              0.1111111111111111,
              "#46039f"
             ],
             [
              0.2222222222222222,
              "#7201a8"
             ],
             [
              0.3333333333333333,
              "#9c179e"
             ],
             [
              0.4444444444444444,
              "#bd3786"
             ],
             [
              0.5555555555555556,
              "#d8576b"
             ],
             [
              0.6666666666666666,
              "#ed7953"
             ],
             [
              0.7777777777777778,
              "#fb9f3a"
             ],
             [
              0.8888888888888888,
              "#fdca26"
             ],
             [
              1,
              "#f0f921"
             ]
            ],
            "type": "histogram2d"
           }
          ],
          "histogram2dcontour": [
           {
            "colorbar": {
             "outlinewidth": 0,
             "ticks": ""
            },
            "colorscale": [
             [
              0,
              "#0d0887"
             ],
             [
              0.1111111111111111,
              "#46039f"
             ],
             [
              0.2222222222222222,
              "#7201a8"
             ],
             [
              0.3333333333333333,
              "#9c179e"
             ],
             [
              0.4444444444444444,
              "#bd3786"
             ],
             [
              0.5555555555555556,
              "#d8576b"
             ],
             [
              0.6666666666666666,
              "#ed7953"
             ],
             [
              0.7777777777777778,
              "#fb9f3a"
             ],
             [
              0.8888888888888888,
              "#fdca26"
             ],
             [
              1,
              "#f0f921"
             ]
            ],
            "type": "histogram2dcontour"
           }
          ],
          "mesh3d": [
           {
            "colorbar": {
             "outlinewidth": 0,
             "ticks": ""
            },
            "type": "mesh3d"
           }
          ],
          "parcoords": [
           {
            "line": {
             "colorbar": {
              "outlinewidth": 0,
              "ticks": ""
             }
            },
            "type": "parcoords"
           }
          ],
          "pie": [
           {
            "automargin": true,
            "type": "pie"
           }
          ],
          "scatter": [
           {
            "fillpattern": {
             "fillmode": "overlay",
             "size": 10,
             "solidity": 0.2
            },
            "type": "scatter"
           }
          ],
          "scatter3d": [
           {
            "line": {
             "colorbar": {
              "outlinewidth": 0,
              "ticks": ""
             }
            },
            "marker": {
             "colorbar": {
              "outlinewidth": 0,
              "ticks": ""
             }
            },
            "type": "scatter3d"
           }
          ],
          "scattercarpet": [
           {
            "marker": {
             "colorbar": {
              "outlinewidth": 0,
              "ticks": ""
             }
            },
            "type": "scattercarpet"
           }
          ],
          "scattergeo": [
           {
            "marker": {
             "colorbar": {
              "outlinewidth": 0,
              "ticks": ""
             }
            },
            "type": "scattergeo"
           }
          ],
          "scattergl": [
           {
            "marker": {
             "colorbar": {
              "outlinewidth": 0,
              "ticks": ""
             }
            },
            "type": "scattergl"
           }
          ],
          "scattermapbox": [
           {
            "marker": {
             "colorbar": {
              "outlinewidth": 0,
              "ticks": ""
             }
            },
            "type": "scattermapbox"
           }
          ],
          "scatterpolar": [
           {
            "marker": {
             "colorbar": {
              "outlinewidth": 0,
              "ticks": ""
             }
            },
            "type": "scatterpolar"
           }
          ],
          "scatterpolargl": [
           {
            "marker": {
             "colorbar": {
              "outlinewidth": 0,
              "ticks": ""
             }
            },
            "type": "scatterpolargl"
           }
          ],
          "scatterternary": [
           {
            "marker": {
             "colorbar": {
              "outlinewidth": 0,
              "ticks": ""
             }
            },
            "type": "scatterternary"
           }
          ],
          "surface": [
           {
            "colorbar": {
             "outlinewidth": 0,
             "ticks": ""
            },
            "colorscale": [
             [
              0,
              "#0d0887"
             ],
             [
              0.1111111111111111,
              "#46039f"
             ],
             [
              0.2222222222222222,
              "#7201a8"
             ],
             [
              0.3333333333333333,
              "#9c179e"
             ],
             [
              0.4444444444444444,
              "#bd3786"
             ],
             [
              0.5555555555555556,
              "#d8576b"
             ],
             [
              0.6666666666666666,
              "#ed7953"
             ],
             [
              0.7777777777777778,
              "#fb9f3a"
             ],
             [
              0.8888888888888888,
              "#fdca26"
             ],
             [
              1,
              "#f0f921"
             ]
            ],
            "type": "surface"
           }
          ],
          "table": [
           {
            "cells": {
             "fill": {
              "color": "#EBF0F8"
             },
             "line": {
              "color": "white"
             }
            },
            "header": {
             "fill": {
              "color": "#C8D4E3"
             },
             "line": {
              "color": "white"
             }
            },
            "type": "table"
           }
          ]
         },
         "layout": {
          "annotationdefaults": {
           "arrowcolor": "#2a3f5f",
           "arrowhead": 0,
           "arrowwidth": 1
          },
          "autotypenumbers": "strict",
          "coloraxis": {
           "colorbar": {
            "outlinewidth": 0,
            "ticks": ""
           }
          },
          "colorscale": {
           "diverging": [
            [
             0,
             "#8e0152"
            ],
            [
             0.1,
             "#c51b7d"
            ],
            [
             0.2,
             "#de77ae"
            ],
            [
             0.3,
             "#f1b6da"
            ],
            [
             0.4,
             "#fde0ef"
            ],
            [
             0.5,
             "#f7f7f7"
            ],
            [
             0.6,
             "#e6f5d0"
            ],
            [
             0.7,
             "#b8e186"
            ],
            [
             0.8,
             "#7fbc41"
            ],
            [
             0.9,
             "#4d9221"
            ],
            [
             1,
             "#276419"
            ]
           ],
           "sequential": [
            [
             0,
             "#0d0887"
            ],
            [
             0.1111111111111111,
             "#46039f"
            ],
            [
             0.2222222222222222,
             "#7201a8"
            ],
            [
             0.3333333333333333,
             "#9c179e"
            ],
            [
             0.4444444444444444,
             "#bd3786"
            ],
            [
             0.5555555555555556,
             "#d8576b"
            ],
            [
             0.6666666666666666,
             "#ed7953"
            ],
            [
             0.7777777777777778,
             "#fb9f3a"
            ],
            [
             0.8888888888888888,
             "#fdca26"
            ],
            [
             1,
             "#f0f921"
            ]
           ],
           "sequentialminus": [
            [
             0,
             "#0d0887"
            ],
            [
             0.1111111111111111,
             "#46039f"
            ],
            [
             0.2222222222222222,
             "#7201a8"
            ],
            [
             0.3333333333333333,
             "#9c179e"
            ],
            [
             0.4444444444444444,
             "#bd3786"
            ],
            [
             0.5555555555555556,
             "#d8576b"
            ],
            [
             0.6666666666666666,
             "#ed7953"
            ],
            [
             0.7777777777777778,
             "#fb9f3a"
            ],
            [
             0.8888888888888888,
             "#fdca26"
            ],
            [
             1,
             "#f0f921"
            ]
           ]
          },
          "colorway": [
           "#636efa",
           "#EF553B",
           "#00cc96",
           "#ab63fa",
           "#FFA15A",
           "#19d3f3",
           "#FF6692",
           "#B6E880",
           "#FF97FF",
           "#FECB52"
          ],
          "font": {
           "color": "#2a3f5f"
          },
          "geo": {
           "bgcolor": "white",
           "lakecolor": "white",
           "landcolor": "#E5ECF6",
           "showlakes": true,
           "showland": true,
           "subunitcolor": "white"
          },
          "hoverlabel": {
           "align": "left"
          },
          "hovermode": "closest",
          "mapbox": {
           "style": "light"
          },
          "paper_bgcolor": "white",
          "plot_bgcolor": "#E5ECF6",
          "polar": {
           "angularaxis": {
            "gridcolor": "white",
            "linecolor": "white",
            "ticks": ""
           },
           "bgcolor": "#E5ECF6",
           "radialaxis": {
            "gridcolor": "white",
            "linecolor": "white",
            "ticks": ""
           }
          },
          "scene": {
           "xaxis": {
            "backgroundcolor": "#E5ECF6",
            "gridcolor": "white",
            "gridwidth": 2,
            "linecolor": "white",
            "showbackground": true,
            "ticks": "",
            "zerolinecolor": "white"
           },
           "yaxis": {
            "backgroundcolor": "#E5ECF6",
            "gridcolor": "white",
            "gridwidth": 2,
            "linecolor": "white",
            "showbackground": true,
            "ticks": "",
            "zerolinecolor": "white"
           },
           "zaxis": {
            "backgroundcolor": "#E5ECF6",
            "gridcolor": "white",
            "gridwidth": 2,
            "linecolor": "white",
            "showbackground": true,
            "ticks": "",
            "zerolinecolor": "white"
           }
          },
          "shapedefaults": {
           "line": {
            "color": "#2a3f5f"
           }
          },
          "ternary": {
           "aaxis": {
            "gridcolor": "white",
            "linecolor": "white",
            "ticks": ""
           },
           "baxis": {
            "gridcolor": "white",
            "linecolor": "white",
            "ticks": ""
           },
           "bgcolor": "#E5ECF6",
           "caxis": {
            "gridcolor": "white",
            "linecolor": "white",
            "ticks": ""
           }
          },
          "title": {
           "x": 0.05
          },
          "xaxis": {
           "automargin": true,
           "gridcolor": "white",
           "linecolor": "white",
           "ticks": "",
           "title": {
            "standoff": 15
           },
           "zerolinecolor": "white",
           "zerolinewidth": 2
          },
          "yaxis": {
           "automargin": true,
           "gridcolor": "white",
           "linecolor": "white",
           "ticks": "",
           "title": {
            "standoff": 15
           },
           "zerolinecolor": "white",
           "zerolinewidth": 2
          }
         }
        },
        "title": {
         "text": "Percentage Mean Absolute Error (PMAE) for Different Models"
        },
        "width": 1000,
        "xaxis": {
         "showgrid": false,
         "title": {
          "text": "PMAE (%)"
         }
        },
        "yaxis": {
         "showgrid": false,
         "title": {
          "text": "Models"
         }
        }
       }
      }
     },
     "metadata": {},
     "output_type": "display_data"
    }
   ],
   "source": [
    "# Model names and corresponding PMAE values\n",
    "models = ['Prophet', 'XGBoost', 'Random Forest', 'ARIMA', 'SARIMA', 'Linear Regression', 'Decision Tree']\n",
    "pmae_values = [31.79, 15.25, 20.25, 185, 186, 20.04, 26.06]\n",
    "\n",
    "# Sort models and PMAE values in descending order\n",
    "sorted_indices = sorted(range(len(pmae_values)), key=lambda k: pmae_values[k], reverse=True)\n",
    "models_sorted = [models[i] for i in sorted_indices]\n",
    "pmae_values_sorted = [pmae_values[i] for i in sorted_indices]\n",
    "\n",
    "# Choose a color for all bars\n",
    "single_color = '#6d929b'  # Teal\n",
    "\n",
    "# Create a horizontal bar chart with a single color for all bars\n",
    "fig = go.Figure()\n",
    "\n",
    "for model, pmae in zip(models_sorted, pmae_values_sorted):\n",
    "    fig.add_trace(go.Bar(\n",
    "        y=[model], x=[pmae], orientation='h', \n",
    "        text=[f'{pmae:.2f}%'], \n",
    "        textposition='inside',  # Place text inside the bars\n",
    "        textfont=dict(color='white'),  # Set text color to white\n",
    "        marker=dict(color=single_color), \n",
    "        showlegend=False\n",
    "    ))\n",
    "\n",
    "# Update layout to remove grid lines on the x-axis\n",
    "fig.update_layout(\n",
    "    title='Percentage Mean Absolute Error (PMAE) for Different Models',\n",
    "    yaxis_title='Models',\n",
    "    xaxis_title='PMAE (%)',\n",
    "    showlegend=False,\n",
    "    width=1000,\n",
    "    height=600,\n",
    "    xaxis=dict(showgrid=False),  # Remove grid lines on the x-axis\n",
    "    yaxis=dict(showgrid=False),  # Remove grid lines on the y-axis\n",
    "    plot_bgcolor='rgba(0,0,0,0)'  # Set plot background color to transparent\n",
    ")\n",
    "\n",
    "# Show the plot\n",
    "fig.show()"
   ]
  },
  {
   "cell_type": "markdown",
   "metadata": {},
   "source": [
    "## **Interpretation and Insights**: \n",
    "- In this notebook, I've taken a deep dive into exploring various features, using target encoding, and analyzing which features are most important. \n",
    "- I found that the XGBoost model was really good at handling multicollinearity(removing multicolinear features don't effect the model's performance), along with its resilience to multicollinearity and adaptability, the XGBoost model also proved to be robust to scaling and dimensionality reduction, further establishing its effectiveness in handling complex predictive modeling tasks, showing how strong and effective it is. \n",
    "- The performance metrics I used also showed that XGBoost is not only powerful but can adapt well, making it a great choice for predictive modeling. \n",
    "- Overall, this notebook is a detailed guide that helped me understand the intricate relationship between various air pollutants, weather conditions and air quality in Delhi."
   ]
  }
 ],
 "metadata": {
  "kernelspec": {
   "display_name": "base",
   "language": "python",
   "name": "python3"
  },
  "language_info": {
   "codemirror_mode": {
    "name": "ipython",
    "version": 3
   },
   "file_extension": ".py",
   "mimetype": "text/x-python",
   "name": "python",
   "nbconvert_exporter": "python",
   "pygments_lexer": "ipython3",
   "version": "3.9.18"
  }
 },
 "nbformat": 4,
 "nbformat_minor": 2
}
