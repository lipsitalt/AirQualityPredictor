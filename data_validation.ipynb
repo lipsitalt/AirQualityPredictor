{
 "cells": [
  {
   "cell_type": "markdown",
   "metadata": {},
   "source": [
    "# Data Validation"
   ]
  },
  {
   "cell_type": "code",
   "execution_count": 1,
   "metadata": {},
   "outputs": [],
   "source": [
    "import numpy as np\n",
    "import pandas as pd"
   ]
  },
  {
   "cell_type": "markdown",
   "metadata": {},
   "source": [
    "Reading in our raw data"
   ]
  },
  {
   "cell_type": "code",
   "execution_count": 2,
   "metadata": {},
   "outputs": [
    {
     "data": {
      "text/html": [
       "<div>\n",
       "<style scoped>\n",
       "    .dataframe tbody tr th:only-of-type {\n",
       "        vertical-align: middle;\n",
       "    }\n",
       "\n",
       "    .dataframe tbody tr th {\n",
       "        vertical-align: top;\n",
       "    }\n",
       "\n",
       "    .dataframe thead th {\n",
       "        text-align: right;\n",
       "    }\n",
       "</style>\n",
       "<table border=\"1\" class=\"dataframe\">\n",
       "  <thead>\n",
       "    <tr style=\"text-align: right;\">\n",
       "      <th></th>\n",
       "      <th>StationId</th>\n",
       "      <th>StationName</th>\n",
       "      <th>City</th>\n",
       "      <th>State</th>\n",
       "      <th>Status</th>\n",
       "    </tr>\n",
       "  </thead>\n",
       "  <tbody>\n",
       "    <tr>\n",
       "      <th>0</th>\n",
       "      <td>AP001</td>\n",
       "      <td>Secretariat, Amaravati - APPCB</td>\n",
       "      <td>Amaravati</td>\n",
       "      <td>Andhra Pradesh</td>\n",
       "      <td>Active</td>\n",
       "    </tr>\n",
       "    <tr>\n",
       "      <th>1</th>\n",
       "      <td>AP002</td>\n",
       "      <td>Anand Kala Kshetram, Rajamahendravaram - APPCB</td>\n",
       "      <td>Rajamahendravaram</td>\n",
       "      <td>Andhra Pradesh</td>\n",
       "      <td>NaN</td>\n",
       "    </tr>\n",
       "    <tr>\n",
       "      <th>2</th>\n",
       "      <td>AP003</td>\n",
       "      <td>Tirumala, Tirupati - APPCB</td>\n",
       "      <td>Tirupati</td>\n",
       "      <td>Andhra Pradesh</td>\n",
       "      <td>NaN</td>\n",
       "    </tr>\n",
       "    <tr>\n",
       "      <th>3</th>\n",
       "      <td>AP004</td>\n",
       "      <td>PWD Grounds, Vijayawada - APPCB</td>\n",
       "      <td>Vijayawada</td>\n",
       "      <td>Andhra Pradesh</td>\n",
       "      <td>NaN</td>\n",
       "    </tr>\n",
       "    <tr>\n",
       "      <th>4</th>\n",
       "      <td>AP005</td>\n",
       "      <td>GVM Corporation, Visakhapatnam - APPCB</td>\n",
       "      <td>Visakhapatnam</td>\n",
       "      <td>Andhra Pradesh</td>\n",
       "      <td>Active</td>\n",
       "    </tr>\n",
       "  </tbody>\n",
       "</table>\n",
       "</div>"
      ],
      "text/plain": [
       "  StationId                                     StationName  \\\n",
       "0     AP001                  Secretariat, Amaravati - APPCB   \n",
       "1     AP002  Anand Kala Kshetram, Rajamahendravaram - APPCB   \n",
       "2     AP003                      Tirumala, Tirupati - APPCB   \n",
       "3     AP004                 PWD Grounds, Vijayawada - APPCB   \n",
       "4     AP005          GVM Corporation, Visakhapatnam - APPCB   \n",
       "\n",
       "                City           State  Status  \n",
       "0          Amaravati  Andhra Pradesh  Active  \n",
       "1  Rajamahendravaram  Andhra Pradesh     NaN  \n",
       "2           Tirupati  Andhra Pradesh     NaN  \n",
       "3         Vijayawada  Andhra Pradesh     NaN  \n",
       "4      Visakhapatnam  Andhra Pradesh  Active  "
      ]
     },
     "execution_count": 2,
     "metadata": {},
     "output_type": "execute_result"
    }
   ],
   "source": [
    "df = pd.read_csv('data/raw/stations.csv')\n",
    "df.head()"
   ]
  },
  {
   "cell_type": "markdown",
   "metadata": {},
   "source": [
    "Filtering out just the stations for Delhi"
   ]
  },
  {
   "cell_type": "code",
   "execution_count": 3,
   "metadata": {},
   "outputs": [],
   "source": [
    "# Valid Station Ids\n",
    "# selected_station_ids = ['AP001', 'AP005', 'AS001', 'BR005', 'BR006', 'BR007', 'BR008',\n",
    "#        'BR009', 'BR010', 'CH001', 'DL001', 'DL002', 'DL003', 'DL004',\n",
    "#        'DL005', 'DL006', 'DL007', 'DL008', 'DL009', 'DL010', 'DL011',\n",
    "#        'DL012', 'DL013', 'DL014', 'DL015', 'DL016', 'DL017', 'DL018',\n",
    "#        'DL019', 'DL020', 'DL021', 'DL022', 'DL023', 'DL024', 'DL025',\n",
    "#        'DL026', 'DL027', 'DL028', 'DL029', 'DL030', 'DL031', 'DL032',\n",
    "#        'DL033', 'DL034', 'DL035', 'DL036', 'DL037', 'DL038', 'GJ001',\n",
    "#        'HR011', 'HR012', 'HR013', 'HR014', 'JH001', 'KA002', 'KA003',\n",
    "#        'KA004', 'KA005', 'KA006', 'KA007', 'KA008', 'KA009', 'KA010',\n",
    "#        'KA011', 'KL002', 'KL004', 'KL007', 'KL008', 'MH005', 'MH006',\n",
    "#        'MH007', 'MH008', 'MH009', 'MH010', 'MH011', 'MH012', 'MH013',\n",
    "#        'MH014', 'ML001', 'MP001', 'MZ001', 'OD001', 'OD002', 'PB001',\n",
    "#        'RJ004', 'RJ005', 'RJ006', 'TG001', 'TG002', 'TG003', 'TG004',\n",
    "#        'TG005', 'TG006', 'TN001', 'TN002', 'TN003', 'TN004', 'TN005',\n",
    "#        'UP012', 'UP013', 'UP014', 'UP015', 'UP016', 'WB007', 'WB008',\n",
    "#        'WB009', 'WB010', 'WB011', 'WB012', 'WB013']\n",
    "\n",
    "selected_station_ids = ['DL002', 'DL004', 'DL006', 'DL007', 'DL008', 'DL011', 'DL012', 'DL013', 'DL014'\n",
    ", 'DL017', 'DL019', 'DL021', 'DL025', 'DL028', 'DL030', 'DL031', 'DL033', 'DL034'\n",
    ", 'HR011', 'HR014', 'PB001']\n",
    "\n",
    "# Create a new DataFrame with selected StationIds\n",
    "df = df[df['StationId'].isin(selected_station_ids)]"
   ]
  },
  {
   "cell_type": "code",
   "execution_count": 4,
   "metadata": {},
   "outputs": [
    {
     "data": {
      "text/html": [
       "<div>\n",
       "<style scoped>\n",
       "    .dataframe tbody tr th:only-of-type {\n",
       "        vertical-align: middle;\n",
       "    }\n",
       "\n",
       "    .dataframe tbody tr th {\n",
       "        vertical-align: top;\n",
       "    }\n",
       "\n",
       "    .dataframe thead th {\n",
       "        text-align: right;\n",
       "    }\n",
       "</style>\n",
       "<table border=\"1\" class=\"dataframe\">\n",
       "  <thead>\n",
       "    <tr style=\"text-align: right;\">\n",
       "      <th></th>\n",
       "      <th>StationId</th>\n",
       "      <th>StationName</th>\n",
       "      <th>City</th>\n",
       "      <th>State</th>\n",
       "      <th>Status</th>\n",
       "    </tr>\n",
       "  </thead>\n",
       "  <tbody>\n",
       "    <tr>\n",
       "      <th>18</th>\n",
       "      <td>DL002</td>\n",
       "      <td>Anand Vihar, Delhi - DPCC</td>\n",
       "      <td>Delhi</td>\n",
       "      <td>Delhi</td>\n",
       "      <td>Active</td>\n",
       "    </tr>\n",
       "    <tr>\n",
       "      <th>20</th>\n",
       "      <td>DL004</td>\n",
       "      <td>Aya Nagar, Delhi - IMD</td>\n",
       "      <td>Delhi</td>\n",
       "      <td>Delhi</td>\n",
       "      <td>Active</td>\n",
       "    </tr>\n",
       "    <tr>\n",
       "      <th>22</th>\n",
       "      <td>DL006</td>\n",
       "      <td>Burari Crossing, Delhi - IMD</td>\n",
       "      <td>Delhi</td>\n",
       "      <td>Delhi</td>\n",
       "      <td>Inactive</td>\n",
       "    </tr>\n",
       "    <tr>\n",
       "      <th>23</th>\n",
       "      <td>DL007</td>\n",
       "      <td>CRRI Mathura Road, Delhi - IMD</td>\n",
       "      <td>Delhi</td>\n",
       "      <td>Delhi</td>\n",
       "      <td>Active</td>\n",
       "    </tr>\n",
       "    <tr>\n",
       "      <th>24</th>\n",
       "      <td>DL008</td>\n",
       "      <td>DTU, Delhi - CPCB</td>\n",
       "      <td>Delhi</td>\n",
       "      <td>Delhi</td>\n",
       "      <td>Active</td>\n",
       "    </tr>\n",
       "  </tbody>\n",
       "</table>\n",
       "</div>"
      ],
      "text/plain": [
       "   StationId                     StationName   City  State    Status\n",
       "18     DL002       Anand Vihar, Delhi - DPCC  Delhi  Delhi    Active\n",
       "20     DL004          Aya Nagar, Delhi - IMD  Delhi  Delhi    Active\n",
       "22     DL006    Burari Crossing, Delhi - IMD  Delhi  Delhi  Inactive\n",
       "23     DL007  CRRI Mathura Road, Delhi - IMD  Delhi  Delhi    Active\n",
       "24     DL008               DTU, Delhi - CPCB  Delhi  Delhi    Active"
      ]
     },
     "execution_count": 4,
     "metadata": {},
     "output_type": "execute_result"
    }
   ],
   "source": [
    "df.head()"
   ]
  },
  {
   "cell_type": "code",
   "execution_count": 5,
   "metadata": {},
   "outputs": [],
   "source": [
    "# # Only nothern India stations\n",
    "# selected_prefixes = ['CH', 'DL', 'HR', 'PB']\n",
    "\n",
    "# # Create a new DataFrame with selected StationId prefixes\n",
    "# df = df[df['StationId'].str.startswith(tuple(selected_prefixes))]"
   ]
  },
  {
   "cell_type": "code",
   "execution_count": 6,
   "metadata": {},
   "outputs": [],
   "source": [
    "# df.head()"
   ]
  },
  {
   "cell_type": "code",
   "execution_count": 7,
   "metadata": {},
   "outputs": [],
   "source": [
    "# # Valid Station Ids\n",
    "# restricted_station_ids = ['DL033', 'DL007', 'DL008', 'DL021', 'DL013', 'DL014', 'DL002', 'DL031', 'DL028', 'DL019']\n",
    "\n",
    "# # Create a new DataFrame with selected StationIds\n",
    "# df = df[df['StationId'].isin(restricted_station_ids)]"
   ]
  },
  {
   "cell_type": "markdown",
   "metadata": {},
   "source": [
    "Saving the filtered data to csv file"
   ]
  },
  {
   "cell_type": "code",
   "execution_count": 8,
   "metadata": {},
   "outputs": [],
   "source": [
    "# Save the DataFrame to a CSV file with selected columns\n",
    "df.to_csv('data/ni_filtered_stations.csv', index=False)"
   ]
  }
 ],
 "metadata": {
  "kernelspec": {
   "display_name": "Python 3",
   "language": "python",
   "name": "python3"
  },
  "language_info": {
   "codemirror_mode": {
    "name": "ipython",
    "version": 3
   },
   "file_extension": ".py",
   "mimetype": "text/x-python",
   "name": "python",
   "nbconvert_exporter": "python",
   "pygments_lexer": "ipython3",
   "version": "3.11.4"
  }
 },
 "nbformat": 4,
 "nbformat_minor": 2
}
